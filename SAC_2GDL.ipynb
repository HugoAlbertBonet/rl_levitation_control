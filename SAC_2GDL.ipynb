{
  "cells": [
    {
      "cell_type": "code",
      "execution_count": 1,
      "metadata": {
        "id": "XCEQ6e08PQYe"
      },
      "outputs": [],
      "source": [
        "from gymnasium import Env\n",
        "from gymnasium.spaces.box import Box\n",
        "import numpy as np\n",
        "import random\n",
        "from stable_baselines3 import SAC\n",
        "from stable_baselines3.common.monitor import Monitor\n",
        "from stable_baselines3.common.callbacks import CheckpointCallback\n",
        "from stable_baselines3.common.noise import NormalActionNoise\n",
        "import wandb\n",
        "from wandb.integration.sb3 import WandbCallback\n",
        "import os\n",
        "import matplotlib.pyplot as plt\n",
        "import scipy.io\n",
        "import numpy as np\n",
        "import pickle\n",
        "import warnings\n",
        "import math\n",
        "warnings.filterwarnings(\"ignore\")"
      ]
    },
    {
      "cell_type": "code",
      "execution_count": 2,
      "metadata": {
        "id": "rFCb5ECGR1Lt"
      },
      "outputs": [],
      "source": [
        "class BobinaEnv(Env):\n",
        "  \"\"\"\n",
        "  Custom Gym Environment for the Hybrid Electromagnetic Suspension, considering just two degrees of freedom.\n",
        "  \"\"\"\n",
        "  def __init__(self, masa_pod = 250, airgap = 16.3, duration = 10, dist_cm = 0.7, inercia= 70, min_distance = 9, max_distance = 22.5):\n",
        "    # Actions: Voltage applied to the coil\n",
        "    self.action_space = Box(low=np.array([-100, -100]), high = np.array([100, 100]), dtype=np.float32)\n",
        "    # Observations: Airgap to the ceiling, velocity, distance to the objective, current of the coil\n",
        "    self.observation_space = Box(low=np.array([-10, -10, -45, -45]), high = np.array([10, 10, 45, 45]), dtype=np.float32)\n",
        "    # Initial parameters\n",
        "    self.state = np.array([airgap - 16.3, airgap - 16.3, 0, 0])\n",
        "    self.airgapinicial = airgap\n",
        "    self.duration = duration\n",
        "    self.timeleft = duration\n",
        "    self.crash = False\n",
        "    self.masa_pod = masa_pod\n",
        "    self.sistema = TwoGDL(masa_pod = self.masa_pod, airgap = self.airgapinicial, dist_cm = dist_cm, inercia= inercia, min_distance = min_distance, max_distance = max_distance)\n",
        "    self.steps = []\n",
        "    self.airgap1 = airgap\n",
        "    self.airgap2 = airgap\n",
        "    self.distancia1 = 0\n",
        "    self.distancia2 = 0\n",
        "    self.velocidad = 0\n",
        "    self.current1 = 0\n",
        "    self.current2 = 0\n",
        "\n",
        "\n",
        "  def step(self, action):\n",
        "    # Apply action\n",
        "    self.state, self.crash = self.sistema.step(action[0],action[1])\n",
        "    self.distancia1, self.distancia2, self.current1, self.current2 = self.state\n",
        "\n",
        "    # Reduce the time of the experiment\n",
        "    self.timeleft -= 0.001\n",
        "\n",
        "    # Calculate reward\n",
        "    reward = -abs(self.distancia1) -abs(self.distancia2) \n",
        "\n",
        "    \"\"\"if self.airgap >= 23: reward = -500\n",
        "    elif self.airgap <= 10: reward = -500\n",
        "    else: reward = -abs(self.current)\"\"\"\n",
        "\n",
        "    # Check if experiment is done\n",
        "    if self.timeleft <= 0:\n",
        "      truncated = True\n",
        "    else: truncated = False\n",
        "    # Set placeholder for info\n",
        "    info = {}\n",
        "    # Only if we implemented the crash\n",
        "    if self.crash:\n",
        "      reward = - 50000\n",
        "      terminated = True\n",
        "    else:\n",
        "      terminated = False\n",
        "    self.steps.append(self.state)\n",
        "    return self.state, reward, terminated, truncated, info\n",
        "\n",
        "\n",
        "  def render(self, yes = \"yes\"):\n",
        "    # create data\n",
        "    x = list(range(0,len(self.steps)))\n",
        "    y1 = [16.3+step[0] for step in self.steps]\n",
        "    y2 = [16.3+step[1] for step in self.steps]\n",
        "    objective = [16.3]*len(self.steps)\n",
        "\n",
        "    # plot lines\n",
        "    fig = plt.figure(figsize=(10,5))\n",
        "    ax = fig.add_subplot(111)\n",
        "    ax.tick_params(axis='x', colors='white')    #setting up X-axis tick color to red\n",
        "    ax.tick_params(axis='y', colors='white')  #setting up Y-axis tick color to black\n",
        "\n",
        "    plt.plot(x, y1, label = \"Airgap 1\")\n",
        "    plt.plot(x, y2, label = \"Airgap 2\")\n",
        "    plt.plot(x, objective, label = \"Objective\")\n",
        "    plt.legend()\n",
        "    plt.show()\n",
        "\n",
        "  def reset(self, seed = 0):\n",
        "    # Reset experiment choosing randomly the start (ceiling or floor)\n",
        "    airgap = random.choice([16.3])\n",
        "    self.state = np.array([airgap - 16.3, airgap - 16.3, 0, 0])\n",
        "    self.distancia1, self.distancia2, self.current1, self.current2 = self.state\n",
        "    self.sistema = TwoGDL(masa_pod = self.masa_pod, airgap = airgap, dist_cm = 0.7, inercia= 70, min_distance = 9, max_distance = 22.5)\n",
        "    \n",
        "    # Reset time\n",
        "    self.timeleft = self.duration\n",
        "    self.crash = False\n",
        "    self.steps = []\n",
        "    return self.state, seed"
      ]
    },
    {
      "cell_type": "code",
      "execution_count": 3,
      "metadata": {
        "id": "9SgMX9wfPZEl"
      },
      "outputs": [],
      "source": [
        "class Bobina():\n",
        "  \"\"\" \n",
        "  Coil model for the Hybrid Electromagnetic Suspension\n",
        "  \"\"\"\n",
        "  def __init__(self, masa_pod = 250, airgap = 22.5, min_distance = 9, max_distance = 22.5):\n",
        "    self.masa_pod = masa_pod\n",
        "    self.airgap = airgap\n",
        "    self.aceleracion = []\n",
        "    self.velocidad = []\n",
        "    mat = scipy.io.loadmat('./coil/hems.mat')\n",
        "    self.hems = mat[\"hems\"][0][0]\n",
        "    self.airgaps = self.hems[0][0]\n",
        "    self.currents = self.hems[1][0]\n",
        "    self.force_vertical = pickle.load(open(\"./coil/mlp_vertical.pkl\", 'rb'))\n",
        "    self.flux = self.hems[3]\n",
        "    self.force_horizontal = self.hems[4]\n",
        "    self.inductance = pickle.load(open(\"./coil/rf_inductance.pkl\", 'rb'))\n",
        "    self.resistance = self.hems[6][0][0]\n",
        "    self.min_distance = min_distance\n",
        "    self.max_distance = max_distance\n",
        "    self.airgapinicial = airgap\n",
        "    self.crash = False\n",
        "    self.current = 0\n",
        "    self.steps_RL = []\n",
        "\n",
        "  def integral(self, lista, h = 1):\n",
        "    return sum(h*(lista[i]+lista[i+1])/2 for i in range(len(lista)-1))\n",
        "\n",
        "  def RL(self, airgap, target_voltage, temperature):\n",
        "    # Resistance-Inductance circuit\n",
        "\n",
        "    # Get resistance of the coil\n",
        "    R = self.R(current = self.current, temperature = temperature)   \n",
        "    V = target_voltage\n",
        "    I = self.current\n",
        "    L = self.L(airgap = airgap, current = self.current)\n",
        "    dIdt = ((V/R) - I)/(L/R)                                      \n",
        "    self.steps_RL.append(dIdt)                                   \n",
        "    current = self.integral(self.steps_RL, h = 0.001)                          \n",
        "    return current                                                  \n",
        "\n",
        "  def R(self, current, temperature):\n",
        "    return self.resistance                                         \n",
        "\n",
        "  def L(self, airgap, current):\n",
        "    # Return predicted inductance\n",
        "    return float(self.inductance.predict(np.array([[airgap, current]]))[0])\n",
        "\n",
        "  def vertical_force(self, airgap, target_voltage, temperature):\n",
        "    # Get current from RL circuit\n",
        "    I = self.RL(airgap = airgap, target_voltage = target_voltage, temperature = temperature) \n",
        "    \n",
        "    # Clip result\n",
        "    if I > 45:\n",
        "      I = 45\n",
        "    elif I < -45:\n",
        "      I = -45\n",
        "    self.current = I\n",
        "    # Get vertical force from \n",
        "    FI = self.FI_vertical(airgap = airgap, current = I)                    \n",
        "    return FI, I\n",
        "\n",
        "\n",
        "  def FI_vertical(self, airgap, current):\n",
        "    # Return predicted vertical force\n",
        "    return float(self.force_vertical.predict(np.array([[airgap, current]])))    \n",
        "\n",
        "\n",
        "  def next_airgap(self, masa_pod, vertical_force, verbose = False):\n",
        "    # Devide the mass of the pod by 4 coils\n",
        "    masa = masa_pod/4  \n",
        "    # Calculate weight\n",
        "    peso = masa * 9.8    \n",
        "    # Get total force                                                       \n",
        "    fuerza = peso - vertical_force\n",
        "    if verbose: print(\"Fuerza resultante: \", fuerza)   \n",
        "    # Calculate acceleration                                     \n",
        "    aceleracion = fuerza/masa\n",
        "    if verbose: print(\"Aceleración: \", aceleracion)                                         \n",
        "    self.aceleracion.append(aceleracion)       \n",
        "    # Calculate velocity                                \n",
        "    velocidad = self.integral(self.aceleracion, 0.001)\n",
        "    if verbose: print(\"Integral primera (velocidad): \", velocidad)                          \n",
        "    self.velocidad.append(velocidad)               \n",
        "    # Calculate position (x1000 as to transform from m to mm)                            \n",
        "    posicion = self.airgapinicial + self.integral(self.velocidad, 0.001)*1000 \n",
        "    if verbose: print(\"Integral segunda (posición): \", posicion)\n",
        "\n",
        "    # Clip position\n",
        "    if posicion > self.max_distance:\n",
        "      airgap = self.max_distance\n",
        "      self.aceleracion = [0]\n",
        "      self.velocidad = [0]  \n",
        "      #self.crash = True     \n",
        "      self.airgapinicial = self.max_distance                                               \n",
        "    elif posicion < self.min_distance:\n",
        "      airgap = self.min_distance\n",
        "      self.aceleracion = [0]\n",
        "      self.velocidad = [0]\n",
        "      #self.crash = True\n",
        "      self.airgapinicial = self.min_distance\n",
        "    else: airgap = posicion\n",
        "    return airgap, velocidad\n",
        "\n",
        "  def step(self, target_voltage, verbose = False):\n",
        "    # Calculate vertical force and current\n",
        "    vertical_force, self.current = self.vertical_force(airgap = self.airgap, target_voltage = target_voltage, temperature = 40)\n",
        "    if verbose: print(\"Fuerza vertical: \", vertical_force)\n",
        "    # Calculate next airgap and velocity\n",
        "    self.airgap, velocidad = self.next_airgap(self.masa_pod, vertical_force, verbose = verbose)\n",
        "    #noise = np.random.normal(0,0.5)\n",
        "    #self.airgap = self.airgap + noise     \n",
        "    return (np.float32(self.airgap), np.float32(velocidad), np.float32(self.airgap - 16.3), np.float32(self.current)), self.crash"
      ]
    },
    {
      "cell_type": "code",
      "execution_count": 4,
      "metadata": {},
      "outputs": [],
      "source": [
        "class TwoGDL():\n",
        "    def __init__(self, masa_pod = 250, airgap = 22.5, dist_cm = 0.7, inercia= 70, min_distance = 9, max_distance = 22.5):\n",
        "        self.masa_pod = masa_pod\n",
        "        self.airgap1 = airgap\n",
        "        self.airgap2 = airgap\n",
        "        self.dist_cm = dist_cm\n",
        "        self.inercia = inercia\n",
        "        self.airgapinicial = airgap\n",
        "        self.min_distance = min_distance\n",
        "        self.max_distance = max_distance\n",
        "        self.b1 = Bobina(masa_pod = self.masa_pod, airgap = self.airgap1, min_distance = self.min_distance, max_distance = self.max_distance)\n",
        "        self.b2 = Bobina(masa_pod = self.masa_pod, airgap = self.airgap2, min_distance = self.min_distance, max_distance = self.max_distance)\n",
        "        self.crash = False\n",
        "        self.angulo = [0]\n",
        "        self.alpha = [0]\n",
        "        self.integral_alpha = 0\n",
        "        self.omega = [0]\n",
        "        self.integral_omega = 0\n",
        "        self.altura = [0]\n",
        "        self.aceleracion = [0]\n",
        "        self.integral_aceleracion = 0\n",
        "        self.velocidad = [0]\n",
        "        self.integral_velocidad = 0\n",
        "    \n",
        "    def integral(self, lista, h = 1):\n",
        "        return sum(h*(lista[i]+lista[i+1])/2 for i in range(len(lista)-1))\n",
        "    \n",
        "    def fast_integral(self, last, lista, h = 0.001):\n",
        "        return last + h*(lista[-1]+lista[-2])/2\n",
        "    \n",
        "    def get_angulo(self, f1, f2):\n",
        "        F1 = f1*self.dist_cm\n",
        "        F2 = -f2*self.dist_cm\n",
        "        M = F1+F2\n",
        "        alpha = M/self.inercia\n",
        "        self.alpha.append(alpha)\n",
        "        omega = self.fast_integral(self.integral_alpha, self.alpha, 0.001)\n",
        "        self.integral_alpha = omega\n",
        "        self.omega.append(omega)\n",
        "        angulo = self.fast_integral(self.integral_omega, self.omega, 0.001)\n",
        "        self.integral_omega = angulo\n",
        "        self.angulo.append(angulo)\n",
        "        return angulo\n",
        "    \n",
        "    def get_altura(self, f1, f2):\n",
        "        F = (self.masa_pod/2)*9.8 - f1 - f2\n",
        "        a = F/(self.masa_pod/2)\n",
        "        self.aceleracion.append(a)\n",
        "        v = self.fast_integral(self.integral_aceleracion, self.aceleracion, 0.001)\n",
        "        self.integral_aceleracion = v\n",
        "        self.velocidad.append(v)\n",
        "        zpos = self.fast_integral(self.integral_velocidad,self.velocidad, 0.001)\n",
        "        self.integral_velocidad = zpos\n",
        "        self.altura.append(zpos)\n",
        "        zpos = self.airgapinicial + zpos*1000\n",
        "        return zpos\n",
        "    \n",
        "    def pos2airgap(self, pos, theta):\n",
        "        airgap1 = pos + self.dist_cm*math.sin(theta)*1000\n",
        "        airgap2 = pos - self.dist_cm*math.sin(theta)*1000\n",
        "        return airgap1, airgap2\n",
        "    \n",
        "    def step(self, target_voltage1, target_voltage2, verbose = False):\n",
        "        # Calculate vertical force and current\n",
        "        vertical_force1, current1 = self.b1.vertical_force(airgap = self.airgap1, target_voltage = target_voltage1, temperature = 40)\n",
        "        vertical_force2, current2 = self.b2.vertical_force(airgap = self.airgap2, target_voltage = target_voltage2, temperature = 40)\n",
        "        if verbose: print(\"Fuerza vertical 1: \", vertical_force1)\n",
        "        if verbose: print(\"Fuerza vertical 2: \", vertical_force2)\n",
        "        angulo = self.get_angulo(f1 = vertical_force1, f2 = vertical_force2)\n",
        "        zpos = self.get_altura(f1 = vertical_force1, f2 = vertical_force2)\n",
        "        self.airgap1, self.airgap2 = self.pos2airgap(pos = zpos, theta = angulo)\n",
        "        if verbose: print(\"Airgap 1: \", self.airgap1)\n",
        "        if verbose: print(\"Airgap 2: \", self.airgap2)\n",
        "        if self.airgap1 > self.max_distance or self.airgap2 > self.max_distance:\n",
        "            self.airgap1 = self.max_distance\n",
        "            self.airgap2 = self.max_distance\n",
        "            #self.crash = True\n",
        "            self.angulo = [0]\n",
        "            self.alpha = [0]\n",
        "            self.integral_alpha = 0\n",
        "            self.omega = [0]\n",
        "            self.integral_omega = 0\n",
        "            self.altura = [0]\n",
        "            self.aceleracion = [0]\n",
        "            self.integral_aceleracion = 0\n",
        "            self.velocidad = [0]\n",
        "            self.integral_velocidad = 0\n",
        "            self.airgapinicial = self.max_distance\n",
        "        elif self.airgap1 < self.min_distance or self.airgap2 < self.min_distance:\n",
        "            self.airgap1 = self.min_distance\n",
        "            self.airgap2 = self.min_distance\n",
        "            #self.crash = True\n",
        "            self.angulo = [0]\n",
        "            self.alpha = [0]\n",
        "            self.integral_alpha = 0\n",
        "            self.omega = [0]\n",
        "            self.integral_omega = 0\n",
        "            self.altura = [0]\n",
        "            self.aceleracion = [0]\n",
        "            self.integral_aceleracion = 0\n",
        "            self.velocidad = [0]\n",
        "            self.integral_velocidad = 0\n",
        "            self.airgapinicial = self.min_distance\n",
        "        return (np.float32(self.airgap1 -16.3), np.float32(self.airgap2-16.3), np.float32(current1), np.float32(current2)), self.crash\n",
        "\n"
      ]
    },
    {
      "cell_type": "code",
      "execution_count": 759,
      "metadata": {},
      "outputs": [
        {
          "name": "stdout",
          "output_type": "stream",
          "text": [
            "Fuerza vertical 1:  1677.7299101368124\n",
            "Fuerza vertical 2:  467.8339381934922\n",
            "Airgap 1:  9.000276190254237\n",
            "Airgap 2:  8.996041554352441\n"
          ]
        },
        {
          "data": {
            "text/plain": [
              "((7.3, 7.3, 45.0, -45.0), False)"
            ]
          },
          "execution_count": 759,
          "metadata": {},
          "output_type": "execute_result"
        }
      ],
      "source": [
        "#twogdl = TwoGDL()\n",
        "twogdl.step(target_voltage1 = 100, target_voltage2=-100, verbose = True)"
      ]
    },
    {
      "cell_type": "code",
      "execution_count": 19,
      "metadata": {
        "colab": {
          "base_uri": "https://localhost:8080/",
          "height": 123
        },
        "id": "aNE6VBJdTFDL",
        "outputId": "be5ffab5-4f53-48bc-9fcc-fd387eb09d56"
      },
      "outputs": [
        {
          "data": {
            "text/html": [
              "Finishing last run (ID:uw9v98k2) before initializing another..."
            ],
            "text/plain": [
              "<IPython.core.display.HTML object>"
            ]
          },
          "metadata": {},
          "output_type": "display_data"
        },
        {
          "data": {
            "text/html": [
              "Waiting for W&B process to finish... <strong style=\"color:green\">(success).</strong>"
            ],
            "text/plain": [
              "<IPython.core.display.HTML object>"
            ]
          },
          "metadata": {},
          "output_type": "display_data"
        },
        {
          "data": {
            "text/html": [
              "<style>\n",
              "    table.wandb td:nth-child(1) { padding: 0 10px; text-align: left ; width: auto;} td:nth-child(2) {text-align: left ; width: 100%}\n",
              "    .wandb-row { display: flex; flex-direction: row; flex-wrap: wrap; justify-content: flex-start; width: 100% }\n",
              "    .wandb-col { display: flex; flex-direction: column; flex-basis: 100%; flex: 1; padding: 10px; }\n",
              "    </style>\n",
              "<div class=\"wandb-row\"><div class=\"wandb-col\"><h3>Run history:</h3><br/><table class=\"wandb\"><tr><td>SAC_3/global_step</td><td>▁▁▁▁▂▂▂▂▂▃▃▃▃▃▃▄▄▄▄▄▄▅▅▅▅▅▆▆▆▆▆▆▇▇▇▇▇███</td></tr><tr><td>SAC_3/rollout/ep_len_mean</td><td>▁▁▁▁▁▁▁▁▁▁▁▁▁▁▁▁▁▁▁▁▁▁▁▁▁▁▁▁▁▁▁▁▁▁▁▁▁▁▁▁</td></tr><tr><td>SAC_3/rollout/ep_rew_mean</td><td>▆▄▅▆▅▅▆▆▆▆▆▆▆▆▆▆▆▇▆▇▇▇██████▇▇▇▇▆▅▄▃▃▂▁▁</td></tr><tr><td>SAC_3/time/fps</td><td>▁▁▅▅▁▁▅▅▅▅█▅▅▅▅▅▅▅▅▅▅▅▅▅▅▅▅▅▅▅▅▅▅▅▅▅▅▅▅▅</td></tr><tr><td>SAC_3/train/actor_loss</td><td>▃▂▁▁▁▁▁▂▁▁▁▁▁▂▂▂▁▁▂▂▂▂▂▂▂▂▂▃▃▃▃▄▅▆▆▆▇▇▇█</td></tr><tr><td>SAC_3/train/critic_loss</td><td>▁▁▂▄▁▁▁▁▁▁▂▂▃▂▂▁▄▂▁▁▂▂▃█▂▂▂▃▃▄▃▄▄▃▄▂▃▅▃▇</td></tr><tr><td>SAC_3/train/ent_coef</td><td>▁▁▁▁▁▁▂▂▂▂▂▂▂▃▃▃▃▃▃▃▃▃▃▃▄▄▄▄▄▄▅▅▅▆▇▇▇███</td></tr><tr><td>SAC_3/train/ent_coef_loss</td><td>▆▆▆▇▁▆▅▅█▆▃▇▆▇▇▅▇▅▆▅▆▆▆█▅▅▄▇▆▆▆▇▆▆▆▆▆▆▆▆</td></tr><tr><td>SAC_3/train/learning_rate</td><td>████▇▇▇▇▇▆▆▆▆▆▆▅▅▅▅▅▅▄▄▄▄▄▃▃▃▃▃▃▂▂▂▂▂▁▁▁</td></tr><tr><td>SAC_4/global_step</td><td>▁▁▁▁▂▂▂▂▂▃▃▃▃▃▃▄▄▄▄▄▅▅▅▅▅▅▆▆▆▆▆▆▇▇▇▇▇███</td></tr><tr><td>SAC_4/rollout/ep_len_mean</td><td>▁▁▁▁▁▁▁▁▁▁▁▁▁▁▁▁▁▁▁▁▁▁▁▁▁▁▁▁▁▁▁▁▁▁▁▁▁▁▁▁</td></tr><tr><td>SAC_4/rollout/ep_rew_mean</td><td>▁▁▂▂▃▄▄▅▅▆▆▆▇▇▇██████████▇▇▇▇▇▇▇▇▇▇▇▇▇▇▇</td></tr><tr><td>SAC_4/time/fps</td><td>█▅▅▅▁▁▅▅▁▁▁▁▁▁▁▁▁▁▁▁▁▁▁▁▁▁▁▁▁▁▁▁▁▁▁▁▁▁▁▁</td></tr><tr><td>SAC_4/train/actor_loss</td><td>▆█▁▅▇▇▇▇▇▇▇▇▇▇▇▆▇▇▆▇▆▆▆▇▆▇▇▇▇▆▆▆▆▆▆▆▇▆▆▆</td></tr><tr><td>SAC_4/train/critic_loss</td><td>▁▁▂▁▂▂▁▂▁▂▂▂▂▂▂▂▂▂▃▂▂▃▂▃▂█▃▂▂▂▄▃▂▂▃▄▃▄▆▃</td></tr><tr><td>SAC_4/train/ent_coef</td><td>▁▁█▄▆▁▁▃▄▂▂▂▂▂▂▂▂▂▂▂▂▂▂▂▂▂▂▂▂▂▂▁▁▂▂▁▁▂▁▁</td></tr><tr><td>SAC_4/train/ent_coef_loss</td><td>▅▁▂▆▅▃▁▅▄▆▅▂▅▁▃▄▂▃▄█▃▂▄▄▂▅▅▅▂▂▅▄▃▄▅▇▃█▅▃</td></tr><tr><td>SAC_4/train/learning_rate</td><td>████▇▇▇▇▇▆▆▆▆▆▆▅▅▅▅▅▅▄▄▄▄▄▃▃▃▃▃▃▂▂▂▂▂▁▁▁</td></tr><tr><td>global_step</td><td>▁▁▂▂▃▃▄▄▅▅▆▆▇▇▇▇▇▇▇▇▇▇▇▇▇▇▇▇▇▇▇▇▇▇▇▇▇▇▇█</td></tr><tr><td>rollout/ep_len_mean</td><td>▁▁▁▁▁▁▁▁▁▁▁▁▁▁▁▁▁▁▁▁▁▁▁▁▁▁▁▁▁▁▁▁▁▁▁▁▁▁▁▁</td></tr><tr><td>rollout/ep_rew_mean</td><td>▁▁▁▁▁▂▂▂▂▂▂▃▃▃▄▄▅▅▅▅▆▆▆▆▇▇▇▇▇▇▇█▇▇██████</td></tr><tr><td>time/fps</td><td>▅▁▁▅▅▅▅██▅▅▅▅▅▅▅▅▅▅▅▅▅▅▅▅▅▅▅▅▅▅▅▅▅▅▅▅▅▅▅</td></tr><tr><td>train/actor_loss</td><td>▁▅▇▇█████▇▇▆▇▇▆▆▆▆▆▅▅▅▅▅▅▅▅▅▄▄▄▄▄▄▄▄▄▄▄▃</td></tr><tr><td>train/critic_loss</td><td>▁▁▁▁▂▁▂▂▁▂▂▂▂▂▂▃▂▂▂▃▃▃▄▄▄▄▂▃▄▃▅▅█▇▃▃▄▆▄▄</td></tr><tr><td>train/ent_coef</td><td>█▁▁▁▂▁▂▁▁▂▂▁▁▂▂▂▂▂▄▃▃▃▄▅▃▆▄▅▅▆▅▆▆▆▆▆▆▆▆▆</td></tr><tr><td>train/ent_coef_loss</td><td>▄▅▅▆▇▄▄▅▁▆█▆▂▇▄▇▆▆▅▅▆▅▅▅▅▅▆▅▆▅▅▅▅▆▅▆▆▆▅▆</td></tr><tr><td>train/learning_rate</td><td>████▇▇▇▇▇▆▆▆▆▆▆▅▅▅▅▅▄▄▄▄▄▄▃▃▃▃▃▂▂▂▂▂▂▁▁▁</td></tr></table><br/></div><div class=\"wandb-col\"><h3>Run summary:</h3><br/><table class=\"wandb\"><tr><td>SAC_3/global_step</td><td>1248312</td></tr><tr><td>SAC_3/rollout/ep_len_mean</td><td>4001.0</td></tr><tr><td>SAC_3/rollout/ep_rew_mean</td><td>-22308.73047</td></tr><tr><td>SAC_3/time/fps</td><td>41.0</td></tr><tr><td>SAC_3/train/actor_loss</td><td>978.93127</td></tr><tr><td>SAC_3/train/critic_loss</td><td>1817.68274</td></tr><tr><td>SAC_3/train/ent_coef</td><td>0.98435</td></tr><tr><td>SAC_3/train/ent_coef_loss</td><td>0.00137</td></tr><tr><td>SAC_3/train/learning_rate</td><td>0.0</td></tr><tr><td>SAC_4/global_step</td><td>1456364</td></tr><tr><td>SAC_4/rollout/ep_len_mean</td><td>4001.0</td></tr><tr><td>SAC_4/rollout/ep_rew_mean</td><td>-35425.98047</td></tr><tr><td>SAC_4/time/fps</td><td>40.0</td></tr><tr><td>SAC_4/train/actor_loss</td><td>909.21704</td></tr><tr><td>SAC_4/train/critic_loss</td><td>92.77601</td></tr><tr><td>SAC_4/train/ent_coef</td><td>0.01396</td></tr><tr><td>SAC_4/train/ent_coef_loss</td><td>-0.92832</td></tr><tr><td>SAC_4/train/learning_rate</td><td>0.00035</td></tr><tr><td>global_step</td><td>1456364</td></tr><tr><td>rollout/ep_len_mean</td><td>4001.0</td></tr><tr><td>rollout/ep_rew_mean</td><td>-13505.74121</td></tr><tr><td>time/fps</td><td>42.0</td></tr><tr><td>train/actor_loss</td><td>660.25464</td></tr><tr><td>train/critic_loss</td><td>187.64343</td></tr><tr><td>train/ent_coef</td><td>0.28526</td></tr><tr><td>train/ent_coef_loss</td><td>0.31064</td></tr><tr><td>train/learning_rate</td><td>0.0</td></tr></table><br/></div></div>"
            ],
            "text/plain": [
              "<IPython.core.display.HTML object>"
            ]
          },
          "metadata": {},
          "output_type": "display_data"
        },
        {
          "data": {
            "text/html": [
              " View run <strong style=\"color:#cdcd00\">dandy-snowflake-2</strong> at: <a href='https://wandb.ai/hyperloopupv/2gdl/runs/uw9v98k2' target=\"_blank\">https://wandb.ai/hyperloopupv/2gdl/runs/uw9v98k2</a><br/>Synced 5 W&B file(s), 0 media file(s), 0 artifact file(s) and 5 other file(s)"
            ],
            "text/plain": [
              "<IPython.core.display.HTML object>"
            ]
          },
          "metadata": {},
          "output_type": "display_data"
        },
        {
          "data": {
            "text/html": [
              "Find logs at: <code>.\\wandb\\run-20231229_125356-uw9v98k2\\logs</code>"
            ],
            "text/plain": [
              "<IPython.core.display.HTML object>"
            ]
          },
          "metadata": {},
          "output_type": "display_data"
        },
        {
          "data": {
            "text/html": [
              "Successfully finished last run (ID:uw9v98k2). Initializing new run:<br/>"
            ],
            "text/plain": [
              "<IPython.core.display.HTML object>"
            ]
          },
          "metadata": {},
          "output_type": "display_data"
        },
        {
          "data": {
            "text/html": [
              "wandb version 0.16.1 is available!  To upgrade, please run:\n",
              " $ pip install wandb --upgrade"
            ],
            "text/plain": [
              "<IPython.core.display.HTML object>"
            ]
          },
          "metadata": {},
          "output_type": "display_data"
        },
        {
          "data": {
            "text/html": [
              "Tracking run with wandb version 0.14.0"
            ],
            "text/plain": [
              "<IPython.core.display.HTML object>"
            ]
          },
          "metadata": {},
          "output_type": "display_data"
        },
        {
          "data": {
            "text/html": [
              "Run data is saved locally in <code>c:\\Users\\hugoa\\H9\\RL\\GitHub Vrain\\rl_levitation_control\\rl_levitation_control\\wandb\\run-20231230_205134-chnhlzly</code>"
            ],
            "text/plain": [
              "<IPython.core.display.HTML object>"
            ]
          },
          "metadata": {},
          "output_type": "display_data"
        },
        {
          "data": {
            "text/html": [
              "Syncing run <strong><a href='https://wandb.ai/hyperloopupv/2gdl/runs/chnhlzly' target=\"_blank\">astral-silence-3</a></strong> to <a href='https://wandb.ai/hyperloopupv/2gdl' target=\"_blank\">Weights & Biases</a> (<a href='https://wandb.me/run' target=\"_blank\">docs</a>)<br/>"
            ],
            "text/plain": [
              "<IPython.core.display.HTML object>"
            ]
          },
          "metadata": {},
          "output_type": "display_data"
        },
        {
          "data": {
            "text/html": [
              " View project at <a href='https://wandb.ai/hyperloopupv/2gdl' target=\"_blank\">https://wandb.ai/hyperloopupv/2gdl</a>"
            ],
            "text/plain": [
              "<IPython.core.display.HTML object>"
            ]
          },
          "metadata": {},
          "output_type": "display_data"
        },
        {
          "data": {
            "text/html": [
              " View run at <a href='https://wandb.ai/hyperloopupv/2gdl/runs/chnhlzly' target=\"_blank\">https://wandb.ai/hyperloopupv/2gdl/runs/chnhlzly</a>"
            ],
            "text/plain": [
              "<IPython.core.display.HTML object>"
            ]
          },
          "metadata": {},
          "output_type": "display_data"
        }
      ],
      "source": [
        "run = wandb.init(\n",
        "    project=\"2gdl\",\n",
        "    sync_tensorboard=True,\n",
        "    monitor_gym=True,\n",
        ")"
      ]
    },
    {
      "cell_type": "code",
      "execution_count": 20,
      "metadata": {
        "id": "oinA6TP-TL36"
      },
      "outputs": [],
      "source": [
        "# Create log dir\n",
        "log_dir = \"2gdl/\"\n",
        "os.makedirs(log_dir, exist_ok=True)\n",
        "\n",
        "# Create and wrap the environment\n",
        "env = BobinaEnv( duration = 4 )\n",
        "env = Monitor(env, log_dir)"
      ]
    },
    {
      "cell_type": "code",
      "execution_count": 21,
      "metadata": {
        "colab": {
          "base_uri": "https://localhost:8080/"
        },
        "id": "22oTxNkmTfCd",
        "outputId": "7872ccfd-4bbe-4c07-9740-0ddcc3fb26bb"
      },
      "outputs": [
        {
          "name": "stdout",
          "output_type": "stream",
          "text": [
            "Using cpu device\n",
            "Wrapping the env in a DummyVecEnv.\n"
          ]
        }
      ],
      "source": [
        "from typing import Callable\n",
        "\n",
        "def linear_schedule(initial_value: float) -> Callable[[float], float]:\n",
        "    \"\"\"\n",
        "    Linear learning rate schedule.\n",
        "\n",
        "    :param initial_value: Initial learning rate.\n",
        "    :return: schedule that computes\n",
        "      current learning rate depending on remaining progress\n",
        "    \"\"\"\n",
        "    def func(progress_remaining: float) -> float:\n",
        "        \"\"\"\n",
        "        Progress will decrease from 1 (beginning) to 0.\n",
        "\n",
        "        :param progress_remaining:\n",
        "        :return: current learning rate\n",
        "        \"\"\"\n",
        "        return progress_remaining * initial_value\n",
        "\n",
        "    return func\n",
        "\n",
        "# para el critic , qf=[400, 300], para el actor pi=[300, 200]\n",
        "policy_kwargs = dict(net_arch=dict(pi=[8, 8], qf=[256, 256]))\n",
        "model = SAC(\"MlpPolicy\", env,learning_rate = linear_schedule(0.001), policy_kwargs=policy_kwargs, verbose=1, tensorboard_log=log_dir)"
      ]
    },
    {
      "cell_type": "code",
      "execution_count": 22,
      "metadata": {
        "id": "NVwBakWxTf2c"
      },
      "outputs": [],
      "source": [
        "# Create checkpoint callback\n",
        "checkpoint_callback = CheckpointCallback(\n",
        "    save_freq=10000, save_path=log_dir, name_prefix=\"2gdl\"\n",
        ")"
      ]
    },
    {
      "cell_type": "code",
      "execution_count": 28,
      "metadata": {
        "colab": {
          "base_uri": "https://localhost:8080/"
        },
        "id": "d75OTj_9TxDJ",
        "outputId": "f5860707-4220-4914-9a00-b3da3cf62a24"
      },
      "outputs": [
        {
          "name": "stderr",
          "output_type": "stream",
          "text": [
            "\u001b[34m\u001b[1mwandb\u001b[0m: \u001b[33mWARNING\u001b[0m When using several event log directories, please call `wandb.tensorboard.patch(root_logdir=\"...\")` before `wandb.init`\n"
          ]
        },
        {
          "name": "stdout",
          "output_type": "stream",
          "text": [
            "Logging to 2gdl/SAC_7\n"
          ]
        }
      ],
      "source": [
        "# Train the agent\n",
        "model.learn(total_timesteps=2250000,\n",
        "    callback=[\n",
        "        checkpoint_callback,\n",
        "        WandbCallback(\n",
        "            gradient_save_freq=10000,\n",
        "            model_save_path=f\"models/2gdl8x8.1\",\n",
        "            model_save_freq=10000,\n",
        "            verbose=2,\n",
        "        ),\n",
        "    ],\n",
        ")"
      ]
    },
    {
      "cell_type": "code",
      "execution_count": 24,
      "metadata": {
        "colab": {
          "base_uri": "https://localhost:8080/"
        },
        "id": "uHXGbAZET2JT",
        "outputId": "b97fc6c4-ec5b-4df7-d0d1-33c8be525e88"
      },
      "outputs": [
        {
          "name": "stdout",
          "output_type": "stream",
          "text": [
            "Episode:1 Score:-57087.66697450366\n",
            "Episode:2 Score:-57169.60609087738\n",
            "Episode:3 Score:-57424.86711319699\n"
          ]
        }
      ],
      "source": [
        "episodes = 3\n",
        "state, seed = env.reset()\n",
        "for episode in range(1, episodes+1):\n",
        "    state, seed = env.reset()\n",
        "    done = False\n",
        "    score = 0\n",
        "    while not done:\n",
        "        action = env.action_space.sample()\n",
        "        n_state, reward, terminated, truncated, info = env.step(action)\n",
        "        done = terminated or truncated\n",
        "        score+=reward\n",
        "    print('Episode:{} Score:{}'.format(episode, score))"
      ]
    },
    {
      "cell_type": "code",
      "execution_count": 109,
      "metadata": {},
      "outputs": [],
      "source": [
        "b = Bobina()\n",
        "b.airgap = 9"
      ]
    },
    {
      "cell_type": "code",
      "execution_count": 108,
      "metadata": {},
      "outputs": [
        {
          "data": {
            "text/plain": [
              "((20.00214, -0.10582279, 3.7021403, 45.0), False)"
            ]
          },
          "execution_count": 108,
          "metadata": {},
          "output_type": "execute_result"
        }
      ],
      "source": [
        "b.step(100)"
      ]
    },
    {
      "cell_type": "code",
      "execution_count": 27,
      "metadata": {
        "colab": {
          "base_uri": "https://localhost:8080/",
          "height": 1000
        },
        "id": "agkJzsGwT_Uc",
        "outputId": "53ab7a6a-04fc-4968-e6b5-f07eb32b5f66"
      },
      "outputs": [
        {
          "name": "stdout",
          "output_type": "stream",
          "text": [
            "Wrapping the env with a `Monitor` wrapper\n",
            "Wrapping the env in a DummyVecEnv.\n",
            "Time predict 4.681116104125977\n",
            "Time model 114.33956050872803\n",
            "Episode reward -12206.773721754376\n",
          ]
        },
        {
          "data": {
            "image/png": "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",
            "text/plain": [
              "<Figure size 720x360 with 1 Axes>"
            ]
          },
          "metadata": {
            "needs_background": "dark"
          },
          "output_type": "display_data"
        }
      ],
      "source": [
        "import numpy as np\n",
        "import torch as th\n",
        "import time\n",
        "\n",
        "MODEL_PATH = f\"models/2gdl8x8.1 copy/model.zip\"\n",
        "\n",
        "# Create and wrap the environment\n",
        "env = BobinaEnv(duration = 10)\n",
        "\n",
        "# Load the trained agent\n",
        "model = SAC.load(MODEL_PATH, env=env, learning_rate = 0.00001)\n",
        "\n",
        "# Evaluate the agent\n",
        "for i in range(1):\n",
        "    obs, seed = env.reset()\n",
        "    done = False\n",
        "    episode_reward = 0\n",
        "    velocidad = 0\n",
        "    current = 0\n",
        "    observations = []\n",
        "    noises = []\n",
        "    error = obs -16.3\n",
        "    timepredict = 0\n",
        "    timemodel = 0\n",
        "    error1, error2, current1, current2 = obs\n",
        "    while not done:\n",
        "        #noise = random.uniform(-1, 1)\n",
        "        #obs = obs + noise\n",
        "        observations.append(obs)\n",
        "        #noises.append(noise)\n",
        "        t1 = time.time()\n",
        "        action, _states = model.predict(np.array([error1, error2, current1, current2]), deterministic=True)\n",
        "        t2 = time.time()\n",
        "        #print(action)\n",
        "        #if env.airgap > 10.1: action = max(action, [-50])\n",
        "        #print(action)\n",
        "        t3 = time.time()\n",
        "        state, reward, terminated, truncated, info = env.step(np.array(action))\n",
        "        t4 = time.time()\n",
        "        error1, error2, current1, current2 = state\n",
        "        done = truncated or terminated\n",
        "        episode_reward += reward\n",
        "        timepredict += t2 - t1\n",
        "        timemodel += t4 - t3\n",
        "        noises.append(action)\n",
        "    print(\"Time predict\", timepredict)\n",
        "    print(\"Time model\", timemodel)\n",
        "    print(\"Episode reward\", episode_reward)\n",
        "    print(noises)\n",
        "    env.render(\"yes\")"
      ]
    },
    {
      "cell_type": "code",
      "execution_count": 167,
      "metadata": {},
      "outputs": [
        {
          "name": "stdout",
          "output_type": "stream",
          "text": [
            "============== Diagnostic Run torch.onnx.export version 2.0.0+cpu ==============\n",
            "verbose: False, log level: Level.ERROR\n",
            "======================= 0 NONE 0 NOTE 0 WARNING 0 ERROR ========================\n",
            "\n"
          ]
        },
        {
          "ename": "",
          "evalue": "",
          "output_type": "error",
          "traceback": [
            "\u001b[1;31mThe Kernel crashed while executing code in the the current cell or a previous cell. Please review the code in the cell(s) to identify a possible cause of the failure. Click <a href='https://aka.ms/vscodeJupyterKernelCrash'>here</a> for more info. View Jupyter <a href='command:jupyter.viewOutput'>log</a> for further details."
          ]
        }
      ],
      "source": [
        "import torch as th\n",
        "\n",
        "from stable_baselines3 import SAC\n",
        "\n",
        "#import onnx\n",
        "import onnxruntime as ort\n",
        "import numpy as np\n",
        "\n",
        "\n",
        "class OnnxablePolicy(th.nn.Module):\n",
        "    def __init__(self, actor: th.nn.Module):\n",
        "        super().__init__()\n",
        "        # Removing the flatten layer because it can't be onnxed\n",
        "        self.actor = th.nn.Sequential(\n",
        "            actor.latent_pi,\n",
        "            actor.mu,\n",
        "            # For gSDE\n",
        "            # th.nn.Hardtanh(min_val=-actor.clip_mean, max_val=actor.clip_mean),\n",
        "            # Squash the output\n",
        "            th.nn.Tanh(),\n",
        "        )\n",
        "\n",
        "    def forward(self, observation: th.Tensor) -> th.Tensor:\n",
        "        # NOTE: You may have to process (normalize) observation in the correct\n",
        "        #       way before using this. See `common.preprocessing.preprocess_obs`\n",
        "        return self.actor(observation)\n",
        "\n",
        "\n",
        "# Example: model = SAC(\"MlpPolicy\", \"Pendulum-v1\")\n",
        "model = SAC.load(f\"models/sac8x8h9.3/model.zip\", device=\"cpu\")\n",
        "onnxable_model = OnnxablePolicy(model.policy.actor)\n",
        "\n",
        "observation_size = model.observation_space.shape\n",
        "dummy_input = th.randn(1, *observation_size)\n",
        "th.onnx.export(\n",
        "    onnxable_model,\n",
        "    dummy_input,\n",
        "    \"./ONNX/1gdlComplexH98x8.onnx\",\n",
        "    opset_version=9,\n",
        "    input_names=[\"input\"],\n",
        ")\n",
        "\n",
        "##### Load and test with onnx\n",
        "\n",
        "import onnxruntime as ort\n",
        "import numpy as np\n",
        "\n",
        "onnx_path = \"./ONNX/1gdlComplexH98x8.onnx\"\n",
        "\n",
        "observation = np.zeros((1, *observation_size)).astype(np.float32)\n",
        "ort_sess = ort.InferenceSession(onnx_path)\n",
        "action = ort_sess.run(None, {\"input\": observation})"
      ]
    },
    {
      "cell_type": "code",
      "execution_count": 12,
      "metadata": {},
      "outputs": [
        {
          "data": {
            "text/plain": [
              "SACPolicy(\n",
              "  (actor): Actor(\n",
              "    (features_extractor): FlattenExtractor(\n",
              "      (flatten): Flatten(start_dim=1, end_dim=-1)\n",
              "    )\n",
              "    (latent_pi): Sequential(\n",
              "      (0): Linear(in_features=4, out_features=8, bias=True)\n",
              "      (1): ReLU()\n",
              "      (2): Linear(in_features=8, out_features=8, bias=True)\n",
              "      (3): ReLU()\n",
              "    )\n",
              "    (mu): Linear(in_features=8, out_features=1, bias=True)\n",
              "    (log_std): Linear(in_features=8, out_features=1, bias=True)\n",
              "  )\n",
              "  (critic): ContinuousCritic(\n",
              "    (features_extractor): FlattenExtractor(\n",
              "      (flatten): Flatten(start_dim=1, end_dim=-1)\n",
              "    )\n",
              "    (qf0): Sequential(\n",
              "      (0): Linear(in_features=5, out_features=256, bias=True)\n",
              "      (1): ReLU()\n",
              "      (2): Linear(in_features=256, out_features=256, bias=True)\n",
              "      (3): ReLU()\n",
              "      (4): Linear(in_features=256, out_features=1, bias=True)\n",
              "    )\n",
              "    (qf1): Sequential(\n",
              "      (0): Linear(in_features=5, out_features=256, bias=True)\n",
              "      (1): ReLU()\n",
              "      (2): Linear(in_features=256, out_features=256, bias=True)\n",
              "      (3): ReLU()\n",
              "      (4): Linear(in_features=256, out_features=1, bias=True)\n",
              "    )\n",
              "  )\n",
              "  (critic_target): ContinuousCritic(\n",
              "    (features_extractor): FlattenExtractor(\n",
              "      (flatten): Flatten(start_dim=1, end_dim=-1)\n",
              "    )\n",
              "    (qf0): Sequential(\n",
              "      (0): Linear(in_features=5, out_features=256, bias=True)\n",
              "      (1): ReLU()\n",
              "      (2): Linear(in_features=256, out_features=256, bias=True)\n",
              "      (3): ReLU()\n",
              "      (4): Linear(in_features=256, out_features=1, bias=True)\n",
              "    )\n",
              "    (qf1): Sequential(\n",
              "      (0): Linear(in_features=5, out_features=256, bias=True)\n",
              "      (1): ReLU()\n",
              "      (2): Linear(in_features=256, out_features=256, bias=True)\n",
              "      (3): ReLU()\n",
              "      (4): Linear(in_features=256, out_features=1, bias=True)\n",
              "    )\n",
              "  )\n",
              ")"
            ]
          },
          "execution_count": 12,
          "metadata": {},
          "output_type": "execute_result"
        }
      ],
      "source": [
        "model.policy"
      ]
    },
    {
      "cell_type": "code",
      "execution_count": null,
      "metadata": {},
      "outputs": [],
      "source": [
        "# See \"ONNX export\" for imports and OnnxablePolicy\n",
        "jit_path = \"1gdlComplex.pt\"\n",
        "\n",
        "# Trace and optimize the module\n",
        "traced_module = th.jit.trace(onnxable_model.eval(), dummy_input)\n",
        "frozen_module = th.jit.freeze(traced_module)\n",
        "frozen_module = th.jit.optimize_for_inference(frozen_module)\n",
        "th.jit.save(frozen_module, jit_path)\n",
        "\n",
        "##### Load and test with torch\n",
        "\n",
        "import torch as th\n",
        "\n",
        "dummy_input = th.randn(1, *observation_size)\n",
        "loaded_module = th.jit.load(jit_path)\n",
        "action_jit = loaded_module(dummy_input)"
      ]
    }
  ],
  "metadata": {
    "accelerator": "GPU",
    "colab": {
      "gpuType": "T4",
      "provenance": []
    },
    "kernelspec": {
      "display_name": "Python 3",
      "name": "python3"
    },
    "language_info": {
      "codemirror_mode": {
        "name": "ipython",
        "version": 3
      },
      "file_extension": ".py",
      "mimetype": "text/x-python",
      "name": "python",
      "nbconvert_exporter": "python",
      "pygments_lexer": "ipython3",
      "version": "3.9.13"
    }
  },
  "nbformat": 4,
  "nbformat_minor": 0
}
