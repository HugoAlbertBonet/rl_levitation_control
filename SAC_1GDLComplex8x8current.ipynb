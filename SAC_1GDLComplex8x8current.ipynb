{
  "cells": [
    {
      "cell_type": "code",
      "execution_count": 1,
      "metadata": {
        "id": "XCEQ6e08PQYe"
      },
      "outputs": [],
      "source": [
        "from gymnasium import Env\n",
        "from gymnasium.spaces.box import Box\n",
        "import numpy as np\n",
        "import random\n",
        "from stable_baselines3 import SAC\n",
        "from stable_baselines3.common.monitor import Monitor\n",
        "from stable_baselines3.common.callbacks import CheckpointCallback\n",
        "from stable_baselines3.common.noise import NormalActionNoise\n",
        "import wandb\n",
        "from wandb.integration.sb3 import WandbCallback\n",
        "import os\n",
        "import matplotlib.pyplot as plt\n",
        "import scipy.io\n",
        "import numpy as np\n",
        "import pickle\n",
        "import warnings\n",
        "import math\n",
        "warnings.filterwarnings(\"ignore\")"
      ]
    },
    {
      "cell_type": "markdown",
      "metadata": {},
      "source": [
        "# Siguientes pasos\n",
        "* Ir cambiando estado inicial (primero posición y luego también velocidad y corriente)\n",
        "* Añadir datos de este año\n",
        "* Cambiar reward a corriente"
      ]
    },
    {
      "cell_type": "code",
      "execution_count": 46,
      "metadata": {
        "id": "rFCb5ECGR1Lt"
      },
      "outputs": [],
      "source": [
        "class BobinaEnv(Env):\n",
        "  \"\"\"\n",
        "  Custom Gym Environment for the Hybrid Electromagnetic Suspension, considering just one coil.\n",
        "  \"\"\"\n",
        "  def __init__(self, masa_pod = 200, airgap = 10, duration = 10):\n",
        "    # Actions: Voltage applied to the coil\n",
        "    self.action_space = Box(low=np.array([-50]), high = np.array([50]), dtype=np.float32)\n",
        "    # Observations: Airgap to the ceiling, velocity, distance to the objective, current of the coil\n",
        "    self.observation_space = Box(low=np.array([10,-np.inf, -45]), high = np.array([23, np.inf, 45]), dtype=np.float32)\n",
        "    # Initial parameters\n",
        "    self.state = np.array([airgap,0, 0])\n",
        "    self.airgapinicial = airgap\n",
        "    self.duration = duration\n",
        "    self.timeleft = duration\n",
        "    self.crash = False\n",
        "    self.masa_pod = masa_pod\n",
        "    self.bobina = Bobina(masa_pod = self.masa_pod, airgap = self.airgapinicial)\n",
        "    self.steps = []\n",
        "    self.airgap = airgap\n",
        "    self.distancia = 0\n",
        "    self.velocidad = 0\n",
        "    self.current = 0\n",
        "\n",
        "\n",
        "  def step(self, action):\n",
        "    # Apply action\n",
        "    self.state, self.crash = self.bobina.step(action[0])\n",
        "    self.airgap, self.velocidad, self.current = self.state\n",
        "\n",
        "    # Reduce the time of the experiment\n",
        "    self.timeleft -= 0.001\n",
        "\n",
        "    # Calculate reward\n",
        "    #reward = -abs(self.distancia)\n",
        "\n",
        "    if self.airgap >= 23: reward = -100\n",
        "    elif self.airgap <= 10: reward = -100\n",
        "    else: reward = -abs(self.current)\n",
        "\n",
        "    # Check if experiment is done\n",
        "    if self.timeleft <= 0:\n",
        "      truncated = True\n",
        "    else: truncated = False\n",
        "    # Set placeholder for info\n",
        "    info = {}\n",
        "    # Only if we implemented the crash\n",
        "    if self.crash:\n",
        "      reward = - 50000\n",
        "      terminated = True\n",
        "    else:\n",
        "      terminated = False\n",
        "    self.steps.append(self.state)\n",
        "    return self.state, reward, terminated, truncated, info\n",
        "\n",
        "\n",
        "  def render(self, yes = \"yes\"):\n",
        "    # create data\n",
        "    x = list(range(0,len(self.steps)))\n",
        "    y = [step[0] for step in self.steps]\n",
        "    objective = [19.5]*len(self.steps)\n",
        "\n",
        "    # plot lines\n",
        "    fig = plt.figure(figsize=(10,5))\n",
        "    ax = fig.add_subplot(111)\n",
        "    ax.tick_params(axis='x', colors='white')    #setting up X-axis tick color to red\n",
        "    ax.tick_params(axis='y', colors='white')  #setting up Y-axis tick color to black\n",
        "\n",
        "    plt.plot(x, y, label = \"States\")\n",
        "    plt.plot(x, objective, label = \"Objective\")\n",
        "    plt.legend()\n",
        "    plt.show()\n",
        "\n",
        "  def reset(self, seed = 0):\n",
        "    # Reset experiment choosing randomly the start (ceiling or floor)\n",
        "    airgap = random.choice([19.5])\n",
        "    self.state = np.array([airgap, 0, 0])\n",
        "    self.bobina = Bobina(masa_pod = self.masa_pod, airgap = airgap)\n",
        "    # Reset time\n",
        "    self.timeleft = self.duration\n",
        "    self.crash = False\n",
        "    self.steps = []\n",
        "    return self.state, seed"
      ]
    },
    {
      "cell_type": "code",
      "execution_count": 52,
      "metadata": {
        "id": "9SgMX9wfPZEl"
      },
      "outputs": [],
      "source": [
        "class Bobina():\n",
        "  \"\"\" \n",
        "  Coil model for the Hybrid Electromagnetic Suspension\n",
        "  \"\"\"\n",
        "  def __init__(self, masa_pod = 200, airgap = 23):\n",
        "    self.masa_pod = masa_pod\n",
        "    self.airgap = airgap\n",
        "    self.aceleracion = []\n",
        "    self.velocidad = []\n",
        "    mat = scipy.io.loadmat('./coil/hems.mat')\n",
        "    self.hems = mat[\"hems\"][0][0]\n",
        "    self.airgaps = self.hems[0][0]\n",
        "    self.currents = self.hems[1][0]\n",
        "    self.force_vertical = pickle.load(open(\"./coil/mlp_vertical.pkl\", 'rb'))\n",
        "    self.flux = self.hems[3]\n",
        "    self.force_horizontal = self.hems[4]\n",
        "    self.inductance = pickle.load(open(\"./coil/rf_inductance.pkl\", 'rb'))\n",
        "    self.resistance = self.hems[6][0][0]\n",
        "    self.min_distance = self.airgaps[0]\n",
        "    self.max_distance = self.airgaps[-1]\n",
        "    self.airgapinicial = airgap\n",
        "    self.crash = False\n",
        "    self.current = 0\n",
        "    self.steps_RL = []\n",
        "\n",
        "  def integral(self, lista, h = 1):\n",
        "    return sum(h*(lista[i]+lista[i+1])/2 for i in range(len(lista)-1))\n",
        "\n",
        "  def RL(self, airgap, target_voltage, temperature):\n",
        "    # Resistance-Inductance circuit\n",
        "\n",
        "    # Get resistance of the coil\n",
        "    R = self.R(current = self.current, temperature = temperature)   \n",
        "    V = target_voltage\n",
        "    I = self.current\n",
        "    L = self.L(airgap = airgap, current = self.current)\n",
        "    dIdt = ((V/R) - I)/(L/R)                                      \n",
        "    self.steps_RL.append(dIdt)                                   \n",
        "    current = self.integral(self.steps_RL, h = 0.001)                          \n",
        "    return current                                                  \n",
        "\n",
        "  def R(self, current, temperature):\n",
        "    return self.resistance                                         \n",
        "\n",
        "  def L(self, airgap, current):\n",
        "    # Return predicted inductance\n",
        "    return float(self.inductance.predict(np.array([[airgap, current]]))[0])\n",
        "\n",
        "  def vertical_force(self, airgap, target_voltage, temperature):\n",
        "    # Get current from RL circuit\n",
        "    I = self.RL(airgap = airgap, target_voltage = target_voltage, temperature = temperature) \n",
        "    \n",
        "    # Clip result\n",
        "    if I > 45:\n",
        "      I = 45\n",
        "    elif I < -45:\n",
        "      I = -45\n",
        "    self.current = I\n",
        "    # Get vertical force from \n",
        "    FI = self.FI_vertical(airgap = airgap, current = I)                    \n",
        "    return FI, I\n",
        "\n",
        "\n",
        "  def FI_vertical(self, airgap, current):\n",
        "    # Return predicted vertical force\n",
        "    return float(self.force_vertical.predict(np.array([[airgap, current]])))    \n",
        "\n",
        "\n",
        "  def next_airgap(self, masa_pod, vertical_force, verbose = False):\n",
        "    # Devide the mass of the pod by 4 coils\n",
        "    masa = masa_pod/4  \n",
        "    # Calculate weight\n",
        "    peso = masa * 9.8    \n",
        "    # Get total force                                                       \n",
        "    fuerza = peso - vertical_force\n",
        "    if verbose: print(\"Fuerza resultante: \", fuerza)   \n",
        "    # Calculate acceleration                                     \n",
        "    aceleracion = fuerza/masa\n",
        "    if verbose: print(\"Aceleración: \", aceleracion)                                         \n",
        "    self.aceleracion.append(aceleracion)       \n",
        "    # Calculate velocity                                \n",
        "    velocidad = self.integral(self.aceleracion, 0.001)\n",
        "    if verbose: print(\"Integral primera (velocidad): \", velocidad)                          \n",
        "    self.velocidad.append(velocidad)               \n",
        "    # Calculate position (x1000 as to transform from m to mm)                            \n",
        "    posicion = self.airgapinicial + self.integral(self.velocidad, 0.001)*1000 \n",
        "    if verbose: print(\"Integral segunda (posición): \", posicion)\n",
        "\n",
        "    # Clip position\n",
        "    if posicion > self.max_distance:\n",
        "      airgap = self.max_distance\n",
        "      self.aceleracion = [0]\n",
        "      self.velocidad = [0]  \n",
        "      self.crash = True     \n",
        "      self.airgapinicial = self.max_distance                                               \n",
        "    elif posicion < self.min_distance:\n",
        "      airgap = self.min_distance\n",
        "      self.aceleracion = [0]\n",
        "      self.velocidad = [0]\n",
        "      self.crash = True\n",
        "      self.airgapinicial = self.min_distance\n",
        "    else: airgap = posicion\n",
        "    return airgap, velocidad\n",
        "\n",
        "  def step(self, target_voltage, verbose = False):\n",
        "    # Calculate vertical force and current\n",
        "    vertical_force, self.current = self.vertical_force(airgap = self.airgap, target_voltage = target_voltage, temperature = 40)\n",
        "    if verbose: print(\"Fuerza vertical: \", vertical_force)\n",
        "    # Calculate next airgap and velocity\n",
        "    self.airgap, velocidad = self.next_airgap(self.masa_pod, vertical_force, verbose = verbose)\n",
        "    #noise = np.random.normal(0,0.5)\n",
        "    #self.airgap = self.airgap + noise     \n",
        "    return (np.float32(self.airgap), np.float32(velocidad), np.float32(self.current)), self.crash"
      ]
    },
    {
      "cell_type": "code",
      "execution_count": 53,
      "metadata": {
        "colab": {
          "base_uri": "https://localhost:8080/",
          "height": 123
        },
        "id": "aNE6VBJdTFDL",
        "outputId": "be5ffab5-4f53-48bc-9fcc-fd387eb09d56"
      },
      "outputs": [
        {
          "data": {
            "text/html": [
              "Finishing last run (ID:e2givk61) before initializing another..."
            ],
            "text/plain": [
              "<IPython.core.display.HTML object>"
            ]
          },
          "metadata": {},
          "output_type": "display_data"
        },
        {
          "data": {
            "text/html": [
              "Waiting for W&B process to finish... <strong style=\"color:green\">(success).</strong>"
            ],
            "text/plain": [
              "<IPython.core.display.HTML object>"
            ]
          },
          "metadata": {},
          "output_type": "display_data"
        },
        {
          "data": {
            "text/html": [
              "<style>\n",
              "    table.wandb td:nth-child(1) { padding: 0 10px; text-align: left ; width: auto;} td:nth-child(2) {text-align: left ; width: 100%}\n",
              "    .wandb-row { display: flex; flex-direction: row; flex-wrap: wrap; justify-content: flex-start; width: 100% }\n",
              "    .wandb-col { display: flex; flex-direction: column; flex-basis: 100%; flex: 1; padding: 10px; }\n",
              "    </style>\n",
              "<div class=\"wandb-row\"><div class=\"wandb-col\"><h3>Run history:</h3><br/><table class=\"wandb\"><tr><td>global_step</td><td>▁▂▂▃▃▄▄▅▅▆▆▇▇█</td></tr><tr><td>rollout/ep_len_mean</td><td>▁▁▁▁▁▁▁▁▁▁▁▁▁▁</td></tr><tr><td>rollout/ep_rew_mean</td><td>▁▃▆▆▆▆▇▇▇▇████</td></tr><tr><td>time/fps</td><td>▁█████████████</td></tr><tr><td>train/actor_loss</td><td>▁▅▆▇██████████</td></tr><tr><td>train/critic_loss</td><td>█▃▇▅▃▇▄▄▅▄▃▂▂▁</td></tr><tr><td>train/ent_coef</td><td>▃▇█▇▆▆▄▅▅▃▅▅▂▁</td></tr><tr><td>train/ent_coef_loss</td><td>█▂▂▃▂▂▄▃▂▃▃▂▁▂</td></tr><tr><td>train/learning_rate</td><td>█▇▇▆▆▅▅▄▄▃▃▂▂▁</td></tr></table><br/></div><div class=\"wandb-col\"><h3>Run summary:</h3><br/><table class=\"wandb\"><tr><td>global_step</td><td>224056</td></tr><tr><td>rollout/ep_len_mean</td><td>4001.0</td></tr><tr><td>rollout/ep_rew_mean</td><td>-386279.375</td></tr><tr><td>time/fps</td><td>32.0</td></tr><tr><td>train/actor_loss</td><td>9550.74121</td></tr><tr><td>train/critic_loss</td><td>29.57114</td></tr><tr><td>train/ent_coef</td><td>0.18607</td></tr><tr><td>train/ent_coef_loss</td><td>-0.11918</td></tr><tr><td>train/learning_rate</td><td>9e-05</td></tr></table><br/></div></div>"
            ],
            "text/plain": [
              "<IPython.core.display.HTML object>"
            ]
          },
          "metadata": {},
          "output_type": "display_data"
        },
        {
          "data": {
            "text/html": [
              " View run <strong style=\"color:#cdcd00\">expert-haze-73</strong> at: <a href='https://wandb.ai/hyperloopupv/1gdlcomplex/runs/e2givk61' target=\"_blank\">https://wandb.ai/hyperloopupv/1gdlcomplex/runs/e2givk61</a><br/>Synced 5 W&B file(s), 0 media file(s), 0 artifact file(s) and 2 other file(s)"
            ],
            "text/plain": [
              "<IPython.core.display.HTML object>"
            ]
          },
          "metadata": {},
          "output_type": "display_data"
        },
        {
          "data": {
            "text/html": [
              "Find logs at: <code>.\\wandb\\run-20231220_131801-e2givk61\\logs</code>"
            ],
            "text/plain": [
              "<IPython.core.display.HTML object>"
            ]
          },
          "metadata": {},
          "output_type": "display_data"
        },
        {
          "data": {
            "text/html": [
              "Successfully finished last run (ID:e2givk61). Initializing new run:<br/>"
            ],
            "text/plain": [
              "<IPython.core.display.HTML object>"
            ]
          },
          "metadata": {},
          "output_type": "display_data"
        },
        {
          "data": {
            "text/html": [
              "wandb version 0.16.1 is available!  To upgrade, please run:\n",
              " $ pip install wandb --upgrade"
            ],
            "text/plain": [
              "<IPython.core.display.HTML object>"
            ]
          },
          "metadata": {},
          "output_type": "display_data"
        },
        {
          "data": {
            "text/html": [
              "Tracking run with wandb version 0.14.0"
            ],
            "text/plain": [
              "<IPython.core.display.HTML object>"
            ]
          },
          "metadata": {},
          "output_type": "display_data"
        },
        {
          "data": {
            "text/html": [
              "Run data is saved locally in <code>c:\\Users\\hugoa\\H9\\RL\\GitHub Vrain\\rl_levitation_control\\wandb\\run-20231220_151850-6pt8d2y5</code>"
            ],
            "text/plain": [
              "<IPython.core.display.HTML object>"
            ]
          },
          "metadata": {},
          "output_type": "display_data"
        },
        {
          "data": {
            "text/html": [
              "Syncing run <strong><a href='https://wandb.ai/hyperloopupv/1gdlcomplex/runs/6pt8d2y5' target=\"_blank\">stilted-sun-74</a></strong> to <a href='https://wandb.ai/hyperloopupv/1gdlcomplex' target=\"_blank\">Weights & Biases</a> (<a href='https://wandb.me/run' target=\"_blank\">docs</a>)<br/>"
            ],
            "text/plain": [
              "<IPython.core.display.HTML object>"
            ]
          },
          "metadata": {},
          "output_type": "display_data"
        },
        {
          "data": {
            "text/html": [
              " View project at <a href='https://wandb.ai/hyperloopupv/1gdlcomplex' target=\"_blank\">https://wandb.ai/hyperloopupv/1gdlcomplex</a>"
            ],
            "text/plain": [
              "<IPython.core.display.HTML object>"
            ]
          },
          "metadata": {},
          "output_type": "display_data"
        },
        {
          "data": {
            "text/html": [
              " View run at <a href='https://wandb.ai/hyperloopupv/1gdlcomplex/runs/6pt8d2y5' target=\"_blank\">https://wandb.ai/hyperloopupv/1gdlcomplex/runs/6pt8d2y5</a>"
            ],
            "text/plain": [
              "<IPython.core.display.HTML object>"
            ]
          },
          "metadata": {},
          "output_type": "display_data"
        }
      ],
      "source": [
        "run = wandb.init(\n",
        "    project=\"1gdlcomplex\",\n",
        "    sync_tensorboard=True,\n",
        "    monitor_gym=True,\n",
        ")"
      ]
    },
    {
      "cell_type": "code",
      "execution_count": 54,
      "metadata": {
        "id": "oinA6TP-TL36"
      },
      "outputs": [],
      "source": [
        "# Create log dir\n",
        "log_dir = \"1gdlcomplex/\"\n",
        "os.makedirs(log_dir, exist_ok=True)\n",
        "\n",
        "# Create and wrap the environment\n",
        "env = BobinaEnv( duration = 4 )\n",
        "env = Monitor(env, log_dir)"
      ]
    },
    {
      "cell_type": "code",
      "execution_count": 55,
      "metadata": {
        "colab": {
          "base_uri": "https://localhost:8080/"
        },
        "id": "22oTxNkmTfCd",
        "outputId": "7872ccfd-4bbe-4c07-9740-0ddcc3fb26bb"
      },
      "outputs": [
        {
          "name": "stdout",
          "output_type": "stream",
          "text": [
            "Using cpu device\n",
            "Wrapping the env in a DummyVecEnv.\n"
          ]
        }
      ],
      "source": [
        "from typing import Callable\n",
        "\n",
        "def linear_schedule(initial_value: float) -> Callable[[float], float]:\n",
        "    \"\"\"\n",
        "    Linear learning rate schedule.\n",
        "\n",
        "    :param initial_value: Initial learning rate.\n",
        "    :return: schedule that computes\n",
        "      current learning rate depending on remaining progress\n",
        "    \"\"\"\n",
        "    def func(progress_remaining: float) -> float:\n",
        "        \"\"\"\n",
        "        Progress will decrease from 1 (beginning) to 0.\n",
        "\n",
        "        :param progress_remaining:\n",
        "        :return: current learning rate\n",
        "        \"\"\"\n",
        "        return progress_remaining * initial_value\n",
        "\n",
        "    return func\n",
        "\n",
        "# para el critic , qf=[400, 300], para el actor pi=[300, 200]\n",
        "policy_kwargs = dict(net_arch=dict(pi=[16, 16], qf=[256, 256]))\n",
        "\n",
        "model = SAC(\"MlpPolicy\", env,learning_rate = linear_schedule(0.0001),  policy_kwargs=policy_kwargs, verbose=1, tensorboard_log=log_dir)"
      ]
    },
    {
      "cell_type": "code",
      "execution_count": 56,
      "metadata": {
        "id": "NVwBakWxTf2c"
      },
      "outputs": [],
      "source": [
        "# Create checkpoint callback\n",
        "checkpoint_callback = CheckpointCallback(\n",
        "    save_freq=10000, save_path=log_dir, name_prefix=\"rl_sac_1gdlcomplex\"\n",
        ")"
      ]
    },
    {
      "cell_type": "code",
      "execution_count": null,
      "metadata": {
        "colab": {
          "base_uri": "https://localhost:8080/"
        },
        "id": "d75OTj_9TxDJ",
        "outputId": "f5860707-4220-4914-9a00-b3da3cf62a24"
      },
      "outputs": [],
      "source": [
        "# Train the agent\n",
        "model.learn(total_timesteps=22500000,\n",
        "    callback=[\n",
        "        checkpoint_callback,\n",
        "        WandbCallback(\n",
        "            gradient_save_freq=10000,\n",
        "            model_save_path=f\"models/sac16x16current\",\n",
        "            model_save_freq=10000,\n",
        "            verbose=2,\n",
        "        ),\n",
        "    ],\n",
        ")"
      ]
    },
    {
      "cell_type": "code",
      "execution_count": 19,
      "metadata": {
        "colab": {
          "base_uri": "https://localhost:8080/"
        },
        "id": "uHXGbAZET2JT",
        "outputId": "b97fc6c4-ec5b-4df7-d0d1-33c8be525e88"
      },
      "outputs": [
        {
          "name": "stdout",
          "output_type": "stream",
          "text": [
            "Episode:1 Score:-1963217.3429822037\n",
            "Episode:2 Score:-1969859.0048097968\n",
            "Episode:3 Score:-1967697.527871441\n"
          ]
        }
      ],
      "source": [
        "episodes = 3\n",
        "state, seed = env.reset()\n",
        "for episode in range(1, episodes+1):\n",
        "    state, seed = env.reset()\n",
        "    done = False\n",
        "    score = 0\n",
        "    while not done:\n",
        "        action = env.action_space.sample()\n",
        "        n_state, reward, terminated, truncated, info = env.step(action)\n",
        "        done = terminated or truncated\n",
        "        score+=reward\n",
        "    print('Episode:{} Score:{}'.format(episode, score))"
      ]
    },
    {
      "cell_type": "code",
      "execution_count": 65,
      "metadata": {
        "colab": {
          "base_uri": "https://localhost:8080/",
          "height": 1000
        },
        "id": "agkJzsGwT_Uc",
        "outputId": "53ab7a6a-04fc-4968-e6b5-f07eb32b5f66"
      },
      "outputs": [
        {
          "name": "stdout",
          "output_type": "stream",
          "text": [
            "Wrapping the env with a `Monitor` wrapper\n",
            "Wrapping the env in a DummyVecEnv.\n",
            "Time predict 1.8764019012451172\n",
            "Time model 22.776103973388672\n",
            "Episode reward -3770.779488051543\n",
            "[0.0, -0.88733673, -0.8662053, 0.068629354, 0.09615752, -0.805047, -0.84484047, 0.044311482, 0.09372002, -0.7677001, -0.8017733, 0.058388818, 0.1055578, -0.72761434, -0.76600987, 0.061689347, 0.10857303, -0.6970218, -0.7340623, 0.06828912, 0.11421714, -0.6673467, -0.70592535, 0.07119829, 0.116922505, -0.6416547, -0.6800579, 0.07474834, 0.120067775, -0.6172081, -0.6562223, 0.07697517, 0.122228555, -0.5944571, -0.63367355, 0.07904542, 0.1242526, -0.57252276, -0.61211467, 0.080565535, 0.12586513, -0.5512765, -0.59116966, 0.08181021, 0.12727952, -0.5303228, -0.5705886, 0.08267281, 0.12838385, -0.5095482, -0.55014706, 0.08326971, 0.12926106, -0.48872578, -0.5268955, 0.086440854, 0.12929897, -0.4692078, -0.5066376, 0.08746987, 0.1304983, -0.44781652, -0.48641795, 0.089593165, 0.1358152, -0.4231392, -0.46748957, 0.08427356, 0.13295464, -0.40294832, -0.4456761, 0.08482322, 0.13312072, -0.38040438, -0.4240328, 0.083000734, 0.13200295, -0.35747755, -0.40135032, 0.08129145, 0.13067566, -0.33368507, -0.37785068, 0.079121, 0.12888455, -0.3090199, -0.35341123, 0.07652597, 0.12661852, -0.28340843, -0.32797635, 0.07346248, 0.12381521, -0.25684214, -0.30146056, 0.06995298, 0.120443664, -0.22924383, -0.2737651, 0.06597567, 0.116460964, -0.20056354, -0.24484156, 0.061484225, 0.11181844, -0.17074464, -0.2145831, 0.056496724, 0.1064659, -0.13976623, -0.18292329, 0.051003657, 0.10039841, -0.10752451, -0.14976448, 0.044976808, 0.09350953, -0.07406365, -0.11500759, 0.03852622, 0.08586366, -0.039290946, -0.0786004, 0.03164214, 0.07743795, -0.0031775136, -0.040463183, 0.024360515, 0.0708701, 0.038866635, 0.008829034, 0.020008827, 0.054593783, 0.07386805, 0.0844217, 0.096497595, 0.110831544, 0.12572859, 0.1395021, 0.15119082, 0.16054603, 0.16778553, 0.173373, 0.17784235, 0.18167558, 0.18523785, 0.18876648, 0.19240099, 0.19619198, 0.20013046, 0.2041924, 0.20834304, 0.21253815, 0.21673429, 0.22090705, 0.22505409, 0.2291728, 0.23326077, 0.23730996, 0.24132963, 0.245324, 0.24928638, 0.25322503, 0.25714466, 0.26104188, 0.26491538, 0.26878038, 0.27263257, 0.27645588, 0.2802597, 0.2840544, 0.28782988, 0.29157382, 0.29529873, 0.29901418, 0.30270866, 0.30637774, 0.31003097, 0.3136621, 0.31726614, 0.32085466, 0.32443437, 0.32800147, 0.3315457, 0.33506998, 0.33857164, 0.34205154, 0.34551197, 0.34895876, 0.35239762, 0.355814, 0.35920775, 0.3625826, 0.36594373, 0.36928686, 0.37261125, 0.375914, 0.3791996, 0.38247302, 0.38573352, 0.38898438, 0.39220893, 0.3954087, 0.39858398, 0.40174583, 0.40491205, 0.4080658, 0.4111922, 0.41429853, 0.41738507, 0.4204561, 0.42352515, 0.42657906, 0.42960474, 0.43260586, 0.43559426, 0.4385771, 0.44153967, 0.4444875, 0.44742775, 0.4503481, 0.45325124, 0.45614365, 0.4590152, 0.46186504, 0.46471193, 0.46754572, 0.47035882, 0.47316608, 0.4759582, 0.47873133, 0.48148763, 0.48422423, 0.4869547, 0.48968172, 0.4923826, 0.49505866, 0.49772313, 0.50037885, 0.5030405, 0.5056944, 0.5083227, 0.510924, 0.5135, 0.51606756, 0.51862395, 0.52116877, 0.52370614, 0.52622783, 0.52872854, 0.53122485, 0.53371656, 0.5361879, 0.53864384, 0.54108804, 0.5435132, 0.5459197, 0.54832876, 0.55073255, 0.553111, 0.5554785, 0.55784225, 0.5601968, 0.5625382, 0.5648582, 0.56716686, 0.5694684, 0.5717531, 0.5740172, 0.5762716, 0.57852983, 0.5807705, 0.58299166, 0.5852127, 0.58742255, 0.589615, 0.5917899, 0.5939459, 0.5960946, 0.59824795, 0.6003952, 0.60253125, 0.6046471, 0.6067458, 0.60883796, 0.61091995, 0.6129942, 0.6150597, 0.6171079, 0.61913955, 0.6211632, 0.6231722, 0.62517715, 0.6271819, 0.62916934, 0.63114625, 0.6331089, 0.635055, 0.6370017, 0.63894427, 0.64088213, 0.6428061, 0.64471, 0.64660895, 0.64849263, 0.6503587, 0.65221703, 0.65406543, 0.6559085, 0.65774673, 0.6595678, 0.6613816, 0.6631952, 0.6649993, 0.66679573, 0.66858256, 0.670358, 0.67212176, 0.6738749, 0.67562234, 0.6773544, 0.67906785, 0.68077785, 0.6824819, 0.6841694, 0.6858588, 0.6875525, 0.68923753, 0.6909096, 0.69257075, 0.6942192, 0.69585466, 0.69747704, 0.69909036, 0.7006951, 0.70229024, 0.7038955, 0.70550525, 0.7070903, 0.7086527, 0.7102038, 0.71174824, 0.7132949, 0.7148382, 0.71637386, 0.7178949, 0.7194039, 0.7209136, 0.72241414, 0.7239028, 0.7253874, 0.726871, 0.7283517, 0.72982085, 0.73126864, 0.7326986, 0.7341353, 0.7355725, 0.7369964, 0.7384174, 0.7398329, 0.74123806, 0.7426368, 0.7440179, 0.74538183, 0.7467502, 0.74811465, 0.7494666, 0.75081205, 0.75216085, 0.75351375, 0.75484765, 0.7561648, 0.7574753, 0.7587834, 0.7600871, 0.7613814, 0.76267755, 0.7639692, 0.7652468, 0.766516, 0.7677693, 0.7690201, 0.7702717, 0.7715113, 0.77274626, 0.77398115, 0.7752111, 0.7764333, 0.7776509, 0.7788547, 0.7800467, 0.7812367, 0.78242934, 0.7836131, 0.78478664, 0.7859553, 0.7871158, 0.78827065, 0.7894108, 0.79054254, 0.7916792, 0.79281646, 0.79394776, 0.795074, 0.7961902, 0.7972931, 0.7983934, 0.7994914, 0.8005821, 0.80166936, 0.8027498, 0.80382365, 0.80489683, 0.80596524, 0.8070325, 0.8080953, 0.80914146, 0.81017065, 0.81119514, 0.81222254, 0.8132472, 0.81426907, 0.81529105, 0.81630534, 0.8173078, 0.81830525, 0.81929886, 0.8202967, 0.82129234, 0.82226473, 0.8232253, 0.82417834, 0.8251314, 0.82609534, 0.82705206, 0.8280001, 0.8289434, 0.8298857, 0.8308273, 0.8317573, 0.8326868, 0.8336217, 0.83453596, 0.835433, 0.8363351, 0.83723605, 0.8381329, 0.83902425, 0.8399096, 0.84078926, 0.8416698, 0.8425442, 0.8434126, 0.8442751, 0.8451235, 0.8459719, 0.8468204, 0.84766126, 0.84850895, 0.84936, 0.85019827, 0.851024, 0.85184395, 0.85266656, 0.85348773, 0.8543008, 0.8551068, 0.8559146, 0.8567128, 0.85749954, 0.858283, 0.8590635, 0.8598426, 0.8606254, 0.8614055, 0.8621648, 0.8629189, 0.86369216, 0.8644633, 0.86522204, 0.86596936, 0.8667064, 0.8674524, 0.86819804, 0.8689344, 0.8696688, 0.87040234, 0.87112504, 0.871837, 0.8725461, 0.87325454, 0.87395823, 0.8746572, 0.8753618, 0.8760705, 0.8767744, 0.877467, 0.8781488, 0.8788274, 0.87950456, 0.8801731, 0.8808426, 0.88151413, 0.8821795, 0.88284457, 0.88351035, 0.88417304, 0.8848306, 0.885483, 0.8861286, 0.8867618, 0.88738585, 0.8880177, 0.88865745, 0.8892861, 0.88991153, 0.8905478, 0.8911796, 0.89179313, 0.89238816, 0.8929927, 0.8936055, 0.89420754, 0.89479667, 0.89537996, 0.8959715, 0.89656895, 0.8971699, 0.89776194, 0.8983466, 0.898925, 0.8995003, 0.9000812, 0.9006527, 0.9012011, 0.90175, 0.9023115, 0.9028724, 0.9034352, 0.9039914, 0.9045345, 0.9050816, 0.9056321, 0.90617645, 0.9067184, 0.90725374, 0.9077848, 0.9083184, 0.9088471, 0.90936387, 0.90987056, 0.9103799, 0.9108956, 0.9114117, 0.91193175, 0.9124491, 0.91295296, 0.91344786, 0.9139467, 0.91444874, 0.91495967, 0.9154612, 0.9159353, 0.91640574, 0.9168833, 0.9173692, 0.9178518, 0.9183288, 0.91880834, 0.91928536, 0.9197577, 0.92022634, 0.92068565, 0.92114013, 0.9216002, 0.92205805, 0.9225127, 0.92296654, 0.92341954, 0.9238711, 0.9243241, 0.9247683, 0.9252027, 0.92564416, 0.9260869, 0.9265186, 0.92694163, 0.9273737, 0.927806, 0.92822766, 0.9286461, 0.92906374, 0.92948425, 0.9299119, 0.93033797, 0.9307521, 0.93115896, 0.9315618, 0.93196225, 0.9323647, 0.93276495, 0.93316084, 0.933557, 0.9339532, 0.9343475, 0.93474275, 0.9351447, 0.9355432, 0.9359258, 0.93630093, 0.936677, 0.9370462, 0.93741363, 0.93779176, 0.9381711, 0.9385549, 0.9389359, 0.9393003, 0.93966293, 0.9400272, 0.94038135, 0.9407315, 0.941088, 0.94144505, 0.94180465, 0.9421638, 0.9425218, 0.9428815, 0.9432344, 0.9435775, 0.9439128, 0.9442398, 0.9445589, 0.94488835, 0.94524044, 0.9455928, 0.9459343, 0.9462736, 0.9465988, 0.94691753, 0.94724154, 0.947566, 0.9478915, 0.9482114, 0.94852877, 0.94885105, 0.9491723, 0.9494861, 0.94979966, 0.9501039, 0.95040107, 0.9507103, 0.9510243, 0.95132834, 0.9516268, 0.95193005, 0.95223606, 0.95253956, 0.9528355, 0.95312333, 0.95341355, 0.95371544, 0.95401233, 0.95429677, 0.9545829, 0.9548731, 0.9551564, 0.95544016, 0.95572805, 0.9560106, 0.9562921, 0.95657206, 0.9568418, 0.95710313, 0.9573687, 0.95763695, 0.9579108, 0.95818925, 0.95846856, 0.9587385, 0.95899713, 0.95925564, 0.95951706, 0.95978004, 0.96004075, 0.9602979, 0.960553, 0.9608111, 0.96106714, 0.96131694, 0.9615699, 0.96182114, 0.96206844, 0.9623228, 0.9625667, 0.9627939, 0.9630301, 0.963279, 0.96353084, 0.9637889, 0.9640379, 0.9642736, 0.9645071, 0.964741, 0.96497536, 0.9652101, 0.9654366, 0.96565425, 0.9658707, 0.96609044, 0.966322, 0.96656513, 0.9667977, 0.9670141, 0.96723044, 0.96744865, 0.9676701, 0.9678931, 0.96810985, 0.9683168, 0.96852654, 0.96873915, 0.96895105, 0.9691714, 0.96939003, 0.9695953, 0.9697997, 0.9700129, 0.97022545, 0.97043276, 0.97064006, 0.9708453, 0.9710484, 0.971246, 0.97143894, 0.97163606, 0.971833, 0.9720369, 0.9722398, 0.9724263, 0.9726127, 0.97280365, 0.9729869, 0.97316664, 0.9733562, 0.9735561, 0.97375226, 0.9739431, 0.9741411, 0.97433823, 0.97452074, 0.9746991, 0.97486997, 0.97503567, 0.9752095, 0.97538704, 0.97557676, 0.9757754, 0.9759626, 0.97613454, 0.9763012, 0.97646374, 0.97662234, 0.97678655, 0.97695565, 0.97713584, 0.97731745, 0.97749376, 0.97767127, 0.97784007, 0.97799736, 0.97815514, 0.9783179, 0.9784763, 0.97863954, 0.9788069, 0.9789775, 0.97914046, 0.9792929, 0.9794519, 0.97961086, 0.9797632, 0.9799178, 0.98007184, 0.9802195, 0.9803695, 0.9805213, 0.9806691, 0.9808265, 0.98098266, 0.981133, 0.9812857, 0.98143774, 0.9815906, 0.98173153, 0.9818678, 0.982012, 0.9821532, 0.98228854, 0.98243403, 0.9825881, 0.9827309, 0.9828676, 0.9830086, 0.9831483, 0.98328424, 0.98342025, 0.9835687, 0.9837098, 0.98383635, 0.98396665, 0.9840945, 0.9842178, 0.9843417, 0.9844691, 0.9846035, 0.98474115, 0.9848768, 0.9850089, 0.9851405, 0.98527175, 0.98540765, 0.98554957, 0.98567784, 0.9857955, 0.98591226, 0.9860221, 0.98613745, 0.98626035, 0.98638475, 0.9865055, 0.9866226, 0.9867513, 0.9868765, 0.9869978, 0.98712337, 0.9872402, 0.9873571, 0.9874757, 0.9875901, 0.98770255, 0.9878111, 0.9879237, 0.98804325, 0.9881609, 0.9882693, 0.9883731, 0.9884789, 0.98859113, 0.988706, 0.98880833, 0.98890615, 0.98901635, 0.989133, 0.9892442, 0.98934925, 0.98946214, 0.9895705, 0.989675, 0.9897852, 0.98988515, 0.9899801, 0.9900761, 0.9901804, 0.99029124, 0.9903991, 0.9904939, 0.9905837, 0.99067265, 0.99077153, 0.9908795, 0.9909889, 0.9911004, 0.99119866, 0.9912926, 0.9913869, 0.99147296, 0.9915639, 0.99165773, 0.9917398, 0.9918283, 0.9919298, 0.99202675, 0.992121, 0.9922177, 0.9923048, 0.99239457, 0.9924886, 0.99257886, 0.9926718, 0.99276304, 0.9928476, 0.99293, 0.99301755, 0.9931024, 0.9931887, 0.99328077, 0.9933627, 0.99343526, 0.9935155, 0.99361056, 0.99371064, 0.99380165, 0.9938836, 0.9939692, 0.99405426, 0.9941293, 0.99419814, 0.9942705, 0.9943428, 0.99442506, 0.99451065, 0.9945856, 0.9946658, 0.9947501, 0.9948244, 0.9949004, 0.99498403, 0.9950665, 0.99514705, 0.9952228, 0.99529105, 0.9953636, 0.99544317, 0.99552023, 0.99559486, 0.9956628, 0.9957328, 0.9958064, 0.9958864, 0.9959683, 0.99603534, 0.9960993, 0.9961692, 0.9962356, 0.9963035, 0.996378, 0.9964539, 0.99652016, 0.9965734, 0.9966314, 0.99670076, 0.9967833, 0.99686635, 0.9969352, 0.9970073, 0.99708235, 0.99714714, 0.99720466, 0.9972619, 0.9973168, 0.99737215, 0.9974418, 0.9975147, 0.99757886, 0.99764514, 0.99771386, 0.9977805, 0.9978444, 0.9979019, 0.99795765, 0.99801177, 0.998068, 0.99812907, 0.998182, 0.9982347, 0.99829745, 0.9983644, 0.9984301, 0.9984915, 0.99855757, 0.9986181, 0.9986739, 0.99873227, 0.99878824, 0.9988441, 0.998894, 0.99894464, 0.9990097, 0.99907315, 0.9991274, 0.9991786, 0.99922615, 0.999276, 0.9993288, 0.99938595, 0.9994445, 0.99950707, 0.99956936, 0.9996211, 0.9996676, 0.9997207, 0.9997703, 0.9998142, 0.9998656, 0.99992365, 0.99997514, 1.0000186, 1.0000701, 1.0001227, 1.0001765, 1.0002311, 1.0002806, 1.0003265, 1.0003697, 1.0004212, 1.0004721, 1.0005172, 1.0005648, 1.0006112, 1.0006635, 1.0007246, 1.0007775, 1.0008152, 1.0008459, 1.0008881, 1.000944, 1.0009915, 1.0010389, 1.0010902, 1.0011271, 1.0011607, 1.0012059, 1.0012589, 1.0013062, 1.0013471, 1.0013796, 1.0014143, 1.0014606, 1.001518, 1.0015819, 1.0016253, 1.0016537, 1.0016927, 1.0017296, 1.0017642, 1.0018125, 1.0018569, 1.0018979, 1.0019393, 1.001984, 1.0020291, 1.0020665, 1.0021058, 1.0021479, 1.0021876, 1.0022184, 1.0022498, 1.0022953, 1.0023404, 1.0023831, 1.0024245, 1.0024621, 1.0024931, 1.0025176, 1.0025538, 1.0026004, 1.0026395, 1.0026747, 1.0027156, 1.0027577, 1.0027989, 1.0028318, 1.0028653, 1.0029069, 1.0029383, 1.0029646, 1.0029961, 1.0030322, 1.0030705, 1.0031029, 1.0031419, 1.0031822, 1.003215, 1.0032479, 1.00328, 1.0033189, 1.0033519, 1.0033791, 1.0034181, 1.0034556, 1.0034881, 1.0035248, 1.0035585, 1.0035865, 1.003604, 1.0036212, 1.0036492, 1.0036827, 1.0037229, 1.0037637, 1.0037993, 1.0038275, 1.0038551, 1.0038916, 1.0039268, 1.0039569, 1.0039922, 1.004021, 1.0040364, 1.0040601, 1.0040989, 1.0041343, 1.004155, 1.0041827, 1.0042208, 1.0042526, 1.0042813, 1.0043118, 1.004349, 1.0043789, 1.0044068, 1.0044342, 1.0044527, 1.0044687, 1.004484, 1.0045052, 1.0045298, 1.0045607, 1.0045977, 1.0046369, 1.0046746, 1.0047077, 1.0047314, 1.0047526, 1.0047822, 1.0048085, 1.0048273, 1.0048486, 1.0048707, 1.004891, 1.0049127, 1.004932, 1.0049664, 1.0050076, 1.0050336, 1.0050545, 1.0050817, 1.0051056, 1.0051243, 1.0051442, 1.0051697, 1.0051937, 1.0052146, 1.0052372, 1.0052627, 1.00529, 1.0053141, 1.00534, 1.0053656, 1.0053836, 1.0054042, 1.0054284, 1.0054554, 1.0054812, 1.0054966, 1.0055133, 1.0055251, 1.0055441, 1.0055784, 1.0056057, 1.0056268, 1.0056477, 1.0056648, 1.0056846, 1.0057081, 1.0057349, 1.0057622, 1.0057833, 1.0058042, 1.005822, 1.0058346, 1.0058532, 1.005879, 1.0058981, 1.0059142, 1.0059302, 1.0059536, 1.0059875, 1.0060153, 1.0060252, 1.0060279, 1.0060325, 1.006052, 1.0060804, 1.0061035, 1.0061299, 1.0061502, 1.0061717, 1.0061988, 1.0062149, 1.0062279, 1.0062445, 1.0062577, 1.0062797, 1.0063074, 1.0063283, 1.0063461, 1.0063709, 1.0063941, 1.0064006, 1.006392, 1.0063971, 1.0064218, 1.0064523, 1.0064818, 1.006502, 1.0065212, 1.0065382, 1.0065508, 1.0065591, 1.0065613, 1.006577, 1.0066003, 1.006614, 1.0066357, 1.0066595, 1.0066767, 1.0066965, 1.0067263, 1.0067544, 1.0067655, 1.0067614, 1.0067608, 1.0067747, 1.0067904, 1.0068018, 1.0068185, 1.006844, 1.0068651, 1.0068866, 1.0069058, 1.006917, 1.0069319, 1.0069469, 1.0069612, 1.0069772, 1.006989, 1.0069937, 1.0070001, 1.0070164, 1.0070366, 1.0070524, 1.0070647, 1.0070778, 1.0070983, 1.0071173, 1.0071334, 1.0071573, 1.007174, 1.0071776, 1.0071772, 1.007176, 1.0071827, 1.0071994, 1.0072165, 1.0072284, 1.0072469, 1.0072727, 1.0072919, 1.0072979, 1.0073062, 1.0073252, 1.0073464, 1.0073631, 1.0073704, 1.0073816, 1.0073951, 1.0074068, 1.007418, 1.0074238, 1.0074427, 1.007464, 1.0074781, 1.0074929, 1.0074962, 1.0074985, 1.0075071, 1.0075256, 1.007537, 1.0075377, 1.0075505, 1.0075636, 1.0075705, 1.0075835, 1.007596, 1.0076036, 1.0076153, 1.0076308, 1.0076493, 1.0076642, 1.0076764, 1.0076822, 1.0076876, 1.0077028, 1.0077142, 1.0077183, 1.0077258, 1.0077395, 1.0077579, 1.0077748, 1.0077803, 1.0077846, 1.0077958, 1.0078046, 1.007813, 1.0078231, 1.0078379, 1.0078508, 1.0078616, 1.0078704, 1.0078725, 1.0078743, 1.0078846, 1.0079027, 1.0079237, 1.0079439, 1.0079561, 1.007964, 1.0079657, 1.0079637, 1.0079609, 1.0079612, 1.0079715, 1.0079868, 1.0079935, 1.0079961, 1.0080093, 1.0080265, 1.0080402, 1.0080534, 1.0080695, 1.0080822, 1.0080863, 1.0080943, 1.008105, 1.0081133, 1.0081296, 1.0081475, 1.0081526, 1.008158, 1.0081667, 1.0081666, 1.0081648, 1.0081803, 1.0082034, 1.0082113, 1.0082057, 1.0082015, 1.008204, 1.0082136, 1.0082258, 1.0082382, 1.0082515, 1.0082666, 1.0082867, 1.0082984, 1.0082979, 1.0082936, 1.008295, 1.0083015, 1.0083071, 1.0083176, 1.0083256, 1.0083232, 1.0083277, 1.0083444, 1.0083586, 1.0083663, 1.0083758, 1.008382, 1.0083865, 1.0083929, 1.0084013, 1.008405, 1.0084041, 1.0084076, 1.0084188, 1.0084348, 1.0084451, 1.00846, 1.0084736, 1.0084802, 1.0084827, 1.0084822, 1.0084875, 1.0084939, 1.0085009, 1.0085113, 1.0085113, 1.0085111, 1.0085216, 1.0085369, 1.008548, 1.0085422, 1.0085348, 1.0085441, 1.0085571, 1.0085623, 1.0085686, 1.0085783, 1.0085899, 1.0085965, 1.0085987, 1.0085976, 1.0085988, 1.0086144, 1.0086317, 1.0086427, 1.0086558, 1.0086657, 1.0086664, 1.0086697, 1.0086666, 1.0086643, 1.0086777, 1.008686, 1.0086857, 1.0086883, 1.0086908, 1.0086925, 1.0086976, 1.0087099, 1.0087276, 1.0087367, 1.0087359, 1.0087385, 1.0087403, 1.0087378, 1.0087382, 1.0087451, 1.0087475, 1.0087476, 1.0087554, 1.0087653, 1.0087836, 1.008799, 1.0088022, 1.0088043, 1.0088099, 1.0088133, 1.0088106, 1.008813, 1.008817, 1.0088242, 1.0088341, 1.0088373, 1.0088379, 1.00884, 1.0088506, 1.0088588, 1.0088594, 1.0088663, 1.008876, 1.008883, 1.008892, 1.0088928, 1.0088904, 1.0088946, 1.0088993, 1.0088989, 1.0089035, 1.0089101, 1.0089114, 1.0089206, 1.0089272, 1.0089265, 1.0089277, 1.0089319, 1.0089438, 1.0089518, 1.0089543, 1.0089616, 1.008963, 1.0089592, 1.0089554, 1.0089604, 1.0089775, 1.0089922, 1.0089939, 1.0089887, 1.0089923, 1.0089996, 1.0089988, 1.0090013, 1.0090053, 1.0090048, 1.0090085, 1.0090159, 1.0090274, 1.0090376, 1.0090438, 1.0090489, 1.0090504, 1.0090523, 1.0090562, 1.0090652, 1.0090688, 1.0090686, 1.0090704, 1.0090679, 1.0090625, 1.0090559, 1.009056, 1.0090641, 1.0090692, 1.0090727, 1.0090852, 1.0091046, 1.0091169, 1.0091228, 1.0091226, 1.0091172, 1.0091206, 1.0091289, 1.0091329, 1.0091343, 1.0091335, 1.009129, 1.0091348, 1.0091469, 1.0091487, 1.009148, 1.0091466, 1.0091423, 1.0091411, 1.0091414, 1.0091453, 1.0091555, 1.009167, 1.0091736, 1.0091763, 1.0091803, 1.0091856, 1.0091906, 1.0091976, 1.0091964, 1.0091901, 1.0091962, 1.009203, 1.0092001, 1.0092058, 1.009218, 1.0092211, 1.0092174, 1.0092138, 1.0092117, 1.009214, 1.00922, 1.009223, 1.009222, 1.0092298, 1.0092424, 1.0092396, 1.0092336, 1.0092393, 1.0092543, 1.0092597, 1.0092566, 1.0092542, 1.0092599, 1.0092705, 1.0092701, 1.0092657, 1.0092608, 1.0092654, 1.0092678, 1.0092695, 1.0092746, 1.0092789, 1.0092901, 1.0093004, 1.0093073, 1.0093081, 1.0093044, 1.0093015, 1.0093008, 1.0093002, 1.0093019, 1.0093036, 1.0093066, 1.0093145, 1.0093236, 1.0093224, 1.009321, 1.0093318, 1.0093389, 1.009334, 1.0093269, 1.0093237, 1.0093237, 1.0093273, 1.0093249, 1.0093234, 1.0093284, 1.0093368, 1.0093422, 1.0093472, 1.0093585, 1.0093638, 1.0093564, 1.0093548, 1.0093635, 1.0093678, 1.0093696, 1.0093764, 1.0093865, 1.0093849, 1.0093743, 1.0093791, 1.0093913, 1.0093923, 1.0093851, 1.0093839, 1.0093886, 1.0093888, 1.0093848, 1.0093799, 1.0093839, 1.009388, 1.0093882, 1.0093963, 1.00941, 1.0094225, 1.0094309, 1.0094302, 1.0094279, 1.0094278, 1.0094163, 1.0094086, 1.0094106, 1.0094113, 1.0094156, 1.0094169, 1.0094173, 1.0094156, 1.0094095, 1.0094196, 1.0094439, 1.0094588, 1.0094535, 1.0094393, 1.0094386, 1.0094482, 1.0094563, 1.0094552, 1.0094469, 1.0094459, 1.009453, 1.0094587, 1.0094582, 1.0094569, 1.0094548, 1.0094566, 1.0094613, 1.0094607, 1.0094528, 1.0094451, 1.0094564, 1.0094763, 1.0094905, 1.0094932, 1.009484, 1.0094737, 1.009468, 1.0094646, 1.0094615, 1.0094594, 1.0094631, 1.0094754, 1.0094887, 1.0094994, 1.0094966, 1.0094857, 1.0094738, 1.009463, 1.0094692, 1.0094856, 1.0094979, 1.0095053, 1.0095102, 1.0095061, 1.0094948, 1.0094968, 1.0095098, 1.0095139, 1.009501, 1.0094883, 1.0094848, 1.0094852, 1.0094951, 1.0095155, 1.0095303, 1.0095387, 1.0095421, 1.0095396, 1.0095414, 1.0095382, 1.0095278, 1.0095205, 1.0095209, 1.0095272, 1.0095347, 1.0095413, 1.0095389, 1.00953, 1.0095211, 1.0095158, 1.0095178, 1.0095248, 1.0095396, 1.0095555, 1.0095584, 1.0095488, 1.0095428, 1.0095444, 1.0095475, 1.0095541, 1.0095613, 1.0095645, 1.0095575, 1.009544, 1.0095389, 1.0095508, 1.0095646, 1.0095708, 1.0095737, 1.0095779, 1.0095767, 1.0095683, 1.009566, 1.0095688, 1.0095695, 1.009568, 1.0095657, 1.0095636, 1.0095623, 1.0095625, 1.009567, 1.00958, 1.0095876, 1.0095819, 1.009574, 1.0095693, 1.0095676, 1.0095648, 1.0095648, 1.0095713, 1.009582, 1.0095881, 1.0095867, 1.0095837, 1.0095829, 1.0095829, 1.0095823, 1.0095817, 1.0095811, 1.0095862, 1.0095913, 1.0095925, 1.0095994, 1.009604, 1.0096011, 1.0095975, 1.0095955, 1.0095892, 1.0095924, 1.0096058, 1.0096174, 1.0096241, 1.0096241, 1.0096246, 1.0096194, 1.0096142, 1.0096122, 1.0096139, 1.0096185, 1.0096208, 1.0096287, 1.0096248, 1.0096109, 1.009603, 1.0095963, 1.0095935, 1.009596, 1.0095998, 1.0096136, 1.0096351, 1.0096478, 1.0096505, 1.0096399, 1.0096251, 1.0096195, 1.0096164, 1.0096129, 1.0096153, 1.0096241, 1.0096327, 1.0096345, 1.0096303, 1.0096254, 1.0096208, 1.0096235, 1.0096306, 1.0096288, 1.0096176, 1.0096116, 1.0096197, 1.0096385, 1.0096555, 1.009663, 1.0096656, 1.0096623, 1.0096546, 1.0096437, 1.0096396, 1.0096444, 1.0096449, 1.0096445, 1.0096514, 1.009656, 1.0096574, 1.009658, 1.0096534, 1.0096455, 1.0096385, 1.0096412, 1.0096489, 1.0096521, 1.0096494, 1.0096416, 1.0096363, 1.0096412, 1.009659, 1.0096794, 1.0096853, 1.0096734, 1.00966, 1.0096624, 1.0096686, 1.009671, 1.0096725, 1.0096688, 1.0096617, 1.0096526, 1.0096416, 1.0096456, 1.0096596, 1.0096678, 1.009673, 1.0096738, 1.0096744, 1.0096765, 1.0096735, 1.0096691, 1.0096676, 1.0096663, 1.0096623, 1.0096589, 1.0096644, 1.0096669, 1.0096593, 1.0096611, 1.0096774, 1.0096854, 1.0096864, 1.0096879, 1.0096873, 1.0096809, 1.009674, 1.0096744, 1.0096743, 1.009677, 1.0096827, 1.0096787, 1.0096682, 1.009661, 1.0096698, 1.0096923, 1.0097078, 1.0097125, 1.0097044, 1.0096955, 1.0096929, 1.0096855, 1.009674, 1.0096686, 1.0096707, 1.0096766, 1.0096873, 1.0096947, 1.0096903, 1.0096815, 1.0096759, 1.0096742, 1.0096798, 1.0096925, 1.0097078, 1.0097182, 1.0097157, 1.0097052, 1.0096914, 1.0096844, 1.0096867, 1.0096925, 1.0097041, 1.0097029, 1.0096923, 1.0096897, 1.0096903, 1.0096881, 1.0096916, 1.0097017, 1.0097142, 1.0097221, 1.0097224, 1.0097216, 1.0097152, 1.0097111, 1.0097101, 1.0097041, 1.0096968, 1.0096899, 1.0096897, 1.0096933, 1.0096946, 1.0097023, 1.0097127, 1.0097176, 1.0097209, 1.0097189, 1.009706, 1.0096972, 1.009696, 1.0096956, 1.0097018, 1.0097115, 1.0097222, 1.0097283, 1.009726, 1.0097216, 1.0097158, 1.0097125, 1.0097142, 1.009714, 1.0097115, 1.0097134, 1.0097088, 1.0096985, 1.0096978, 1.0097032, 1.0097048, 1.009705, 1.0097021, 1.0097021, 1.0097095, 1.0097123, 1.0097187, 1.0097283, 1.0097349, 1.0097418, 1.0097462, 1.009746, 1.0097421, 1.0097334, 1.0097243, 1.0097189, 1.0097139, 1.0097164, 1.0097239, 1.0097249, 1.0097227, 1.0097176, 1.0097164, 1.0097224, 1.0097219, 1.0097183, 1.0097207, 1.0097281, 1.0097315, 1.0097256, 1.0097196, 1.009716, 1.0097111, 1.009713, 1.009723, 1.0097303, 1.0097324, 1.0097334, 1.0097338, 1.009737, 1.0097423, 1.0097402, 1.0097331, 1.0097296, 1.0097307, 1.0097312, 1.0097281, 1.0097241, 1.0097219, 1.0097269, 1.0097369, 1.0097374, 1.0097353, 1.0097319, 1.0097244, 1.009719, 1.0097177, 1.0097222, 1.0097268, 1.0097275, 1.0097309, 1.0097336, 1.0097325, 1.0097336, 1.0097345, 1.0097349, 1.0097307, 1.009726, 1.0097251, 1.0097251, 1.0097394, 1.0097585, 1.0097704, 1.0097702, 1.0097611, 1.009755, 1.0097471, 1.0097374, 1.0097344, 1.0097425, 1.009749, 1.0097454, 1.0097321, 1.0097207, 1.0097228, 1.0097308, 1.0097357, 1.0097433, 1.0097426, 1.0097389, 1.0097426, 1.0097448, 1.0097389, 1.0097309, 1.0097283, 1.0097309, 1.0097364, 1.0097404, 1.0097383, 1.0097369, 1.0097399, 1.0097378, 1.0097394, 1.0097431, 1.0097401, 1.0097308, 1.0097282, 1.0097358, 1.0097522, 1.0097613, 1.0097622, 1.0097655, 1.0097646, 1.0097686, 1.0097762, 1.0097699, 1.0097506, 1.0097433, 1.009741, 1.0097344, 1.0097402, 1.0097455, 1.0097411, 1.0097367, 1.0097389, 1.0097499, 1.0097555, 1.0097557, 1.0097558, 1.009751, 1.0097439, 1.0097394, 1.0097357, 1.0097351, 1.0097483, 1.0097649, 1.0097642, 1.0097547, 1.009741, 1.0097299, 1.0097344, 1.0097499, 1.0097629, 1.0097643, 1.0097591, 1.0097547, 1.0097439, 1.0097327, 1.0097365, 1.0097512, 1.0097662, 1.0097677, 1.0097615, 1.0097519, 1.0097382, 1.0097345, 1.0097433, 1.0097535, 1.009759, 1.0097613, 1.0097634, 1.009769, 1.0097744, 1.0097811, 1.0097824, 1.0097764, 1.0097661, 1.0097569, 1.0097562, 1.0097555, 1.0097542, 1.009755, 1.0097573, 1.009761, 1.0097603, 1.0097507, 1.0097487, 1.0097548, 1.0097551, 1.009753, 1.0097525, 1.0097483, 1.0097423, 1.0097457, 1.0097622, 1.0097746, 1.0097698, 1.009757, 1.0097467, 1.0097449, 1.0097476, 1.0097452, 1.0097486, 1.0097628, 1.00977, 1.0097684, 1.0097643, 1.0097568, 1.0097524, 1.0097548, 1.0097556, 1.0097537, 1.009756, 1.0097584, 1.0097592, 1.0097578, 1.0097578, 1.0097642, 1.0097656, 1.0097646, 1.0097643, 1.0097582, 1.0097538, 1.0097582, 1.0097626, 1.0097612, 1.0097617, 1.0097623, 1.0097578, 1.0097549, 1.009752, 1.0097494, 1.0097498, 1.0097551, 1.0097655, 1.0097733, 1.0097735, 1.0097693, 1.0097666, 1.0097611, 1.0097544, 1.0097537, 1.0097574, 1.0097618, 1.0097611, 1.009756, 1.0097524, 1.0097533, 1.0097615, 1.009771, 1.0097764, 1.0097706, 1.009762, 1.0097574, 1.0097553, 1.0097611, 1.0097625, 1.0097617, 1.0097637, 1.0097672, 1.0097727, 1.0097722, 1.009771, 1.0097733, 1.0097684, 1.0097622, 1.0097611, 1.009761, 1.0097609, 1.0097629, 1.0097663, 1.0097675, 1.0097665, 1.009764, 1.0097687, 1.0097728, 1.0097665, 1.0097595, 1.0097587, 1.009763, 1.009765, 1.0097655, 1.0097651, 1.009767, 1.009774, 1.0097721, 1.0097636, 1.0097581, 1.0097545, 1.0097545, 1.0097569, 1.009757, 1.0097563, 1.0097564, 1.0097616, 1.0097716, 1.009777, 1.0097785, 1.009782, 1.0097775, 1.0097651, 1.0097631, 1.0097673, 1.0097705, 1.0097722, 1.0097731, 1.0097675, 1.0097555, 1.0097489, 1.0097528, 1.0097603, 1.009764, 1.0097724, 1.0097778, 1.0097749, 1.0097728, 1.0097679, 1.0097696, 1.0097742, 1.0097672, 1.0097638, 1.0097693, 1.0097697, 1.0097656, 1.0097667, 1.0097722, 1.0097767, 1.0097747, 1.0097674, 1.0097655, 1.0097659, 1.0097663, 1.0097682, 1.0097672, 1.0097682, 1.0097699, 1.0097673, 1.0097662, 1.0097666, 1.0097677, 1.0097702, 1.0097704, 1.009767, 1.009768, 1.0097756, 1.0097808, 1.0097749, 1.0097669, 1.00977, 1.0097703, 1.0097641, 1.0097651, 1.0097742, 1.0097759, 1.009773, 1.0097709, 1.0097674, 1.0097656, 1.0097667, 1.0097722, 1.0097767, 1.0097747, 1.0097703, 1.0097668, 1.0097686, 1.0097725, 1.0097721, 1.0097693, 1.0097731, 1.0097841, 1.0097884, 1.0097901, 1.0097932, 1.0097919, 1.0097882, 1.0097826, 1.0097713, 1.0097685, 1.0097744, 1.009776, 1.0097696, 1.0097632, 1.009765, 1.0097655, 1.0097644, 1.0097699, 1.0097797, 1.009784, 1.0097859, 1.0097841, 1.009778, 1.0097764, 1.0097712, 1.0097699, 1.0097759, 1.009773, 1.009771, 1.0097725, 1.009767, 1.0097609, 1.0097628, 1.0097698, 1.0097781, 1.0097876, 1.0097879, 1.0097803, 1.0097705, 1.0097648, 1.0097637, 1.0097635, 1.0097727, 1.0097795, 1.0097766, 1.0097722, 1.0097643, 1.0097611, 1.0097674, 1.0097758, 1.0097817, 1.0097823, 1.0097814, 1.0097833, 1.0097823, 1.0097805, 1.0097767, 1.009768, 1.0097653, 1.0097692, 1.0097739, 1.0097805, 1.009782, 1.0097824, 1.0097843, 1.0097818, 1.0097772, 1.0097713, 1.0097728, 1.0097743, 1.009773, 1.0097767, 1.0097753, 1.0097681, 1.0097647, 1.0097723, 1.0097775, 1.0097762, 1.009777, 1.0097754, 1.0097733, 1.009774, 1.0097798, 1.0097812, 1.0097803, 1.0097802, 1.0097785, 1.0097791, 1.0097783, 1.009776, 1.0097687, 1.0097595, 1.00976, 1.0097693, 1.0097785, 1.0097858, 1.0097877, 1.00978, 1.0097775, 1.0097817, 1.0097816, 1.0097771, 1.009772, 1.0097655, 1.0097622, 1.0097648, 1.009769, 1.0097736, 1.0097767, 1.0097824, 1.009788, 1.0097847, 1.0097785, 1.0097804, 1.0097831, 1.0097793, 1.0097748, 1.0097733, 1.0097761, 1.0097784, 1.0097841, 1.0097911, 1.0097878, 1.0097779, 1.009774, 1.0097754, 1.009769, 1.0097648, 1.0097694, 1.0097749, 1.00978, 1.009785, 1.0097862, 1.0097779, 1.0097727, 1.0097727, 1.0097699, 1.0097737, 1.0097767, 1.0097753, 1.0097781, 1.0097846, 1.009793, 1.0097947, 1.0097846, 1.0097783, 1.0097853, 1.0097901, 1.0097846, 1.0097775, 1.0097737, 1.0097702, 1.0097681, 1.0097713, 1.0097781, 1.009786, 1.0097902, 1.0097897, 1.0097862, 1.0097764, 1.0097654, 1.0097649, 1.0097704, 1.0097736, 1.009773, 1.0097739, 1.0097848, 1.0097917, 1.0097877, 1.0097792, 1.0097753, 1.0097781, 1.0097839, 1.0097902, 1.0097919, 1.0097905, 1.0097891, 1.0097828, 1.0097702, 1.0097637, 1.0097669, 1.009771, 1.0097771, 1.0097821, 1.0097885, 1.0097967, 1.0097939, 1.009788, 1.0097802, 1.0097762, 1.0097783, 1.0097833, 1.0097866, 1.0097862, 1.0097923, 1.009799, 1.0098039, 1.009808, 1.0098066, 1.0098039, 1.009807, 1.0098042, 1.0097922, 1.0097748, 1.0097536, 1.0097396, 1.0097358, 1.0097489, 1.0097698, 1.0097827, 1.009782, 1.0097752, 1.009775, 1.009775, 1.0097736, 1.0097708, 1.0097766, 1.0097911, 1.0097979, 1.0097979, 1.009797, 1.0097976, 1.0097975, 1.0097944, 1.0097928, 1.0097942, 1.0097971, 1.0098014, 1.0098054, 1.0098014, 1.0097916, 1.0097771, 1.0097566, 1.0097455, 1.0097436, 1.0097479, 1.0097578, 1.009766, 1.0097643, 1.0097612, 1.0097675, 1.0097787, 1.0097947, 1.0098029, 1.0098063, 1.0098137, 1.0098115, 1.0098042, 1.0097979, 1.009789, 1.0097796, 1.0097735, 1.0097706, 1.009773, 1.0097739, 1.0097754, 1.0097848, 1.0097897, 1.0097892, 1.0097873, 1.0097868, 1.0097814, 1.0097737, 1.0097693, 1.0097623, 1.0097576, 1.0097584, 1.0097641, 1.0097734, 1.009783, 1.0097893, 1.009794, 1.0097955, 1.0097969, 1.0098019, 1.009803, 1.0098041, 1.0098029, 1.0097961, 1.0097922, 1.0097865, 1.0097729, 1.0097569, 1.0097516, 1.0097538, 1.0097591, 1.009767, 1.0097675, 1.0097636, 1.0097705, 1.0097882, 1.0097989, 1.0098046, 1.0098078, 1.0098059, 1.0098017, 1.0097947, 1.0097845, 1.0097767, 1.0097759, 1.0097772, 1.0097822, 1.0097871, 1.009781, 1.0097705, 1.0097669, 1.009765, 1.0097611, 1.0097624, 1.0097637, 1.0097649, 1.0097755, 1.0097888, 1.0097978, 1.0098021, 1.009807, 1.0098115, 1.0098102, 1.0098088, 1.0098075, 1.009796, 1.0097871, 1.0097792, 1.0097616, 1.0097474, 1.0097404, 1.0097417, 1.0097432, 1.009746, 1.0097617, 1.0097778, 1.0097888, 1.0098022, 1.0098143, 1.0098238, 1.0098234, 1.0098093, 1.0097982, 1.009787, 1.0097698, 1.0097653, 1.0097786, 1.0097939, 1.0098, 1.0097976, 1.0097822, 1.0097636, 1.0097594, 1.0097557, 1.0097566, 1.0097667, 1.0097759, 1.0097761, 1.0097696, 1.0097661, 1.0097606, 1.0097641, 1.0097783, 1.0097951, 1.0098046, 1.0098072, 1.0098139, 1.009821, 1.0098222, 1.0098109, 1.0097971, 1.0097872, 1.0097736, 1.0097575, 1.0097471, 1.009746, 1.0097551, 1.0097655, 1.0097647, 1.0097644, 1.0097721, 1.0097753, 1.0097754, 1.0097755, 1.0097798, 1.0097905, 1.009801, 1.0098124, 1.0098155, 1.0098059, 1.0097966, 1.0097963, 1.0097997, 1.0097946, 1.0097815, 1.0097716, 1.0097687, 1.0097638, 1.0097592, 1.009762, 1.0097612, 1.0097595, 1.0097631, 1.0097659, 1.0097685, 1.0097783, 1.0097955, 1.0098132, 1.0098221, 1.0098139, 1.0098078, 1.0098091, 1.0097971, 1.0097816, 1.0097774, 1.0097786, 1.0097793, 1.0097712, 1.0097597, 1.0097587, 1.0097616, 1.0097643, 1.0097642, 1.0097618, 1.0097609, 1.0097651, 1.0097728, 1.009776, 1.0097746, 1.0097831, 1.009796, 1.0098097, 1.0098245, 1.0098191, 1.0098065, 1.0098021, 1.0097988, 1.0097948, 1.0097868, 1.0097754, 1.009765, 1.0097553, 1.0097537, 1.0097597, 1.0097661, 1.0097601, 1.0097543, 1.00976, 1.0097694, 1.0097786, 1.0097932, 1.0098064, 1.0098112, 1.0098163, 1.0098119, 1.0098045, 1.0097996, 1.0097921, 1.0097826, 1.0097771, 1.0097762, 1.0097697, 1.0097597, 1.0097601, 1.009768, 1.0097735, 1.0097737, 1.0097674, 1.0097618, 1.0097601, 1.0097665, 1.0097792, 1.0097902, 1.0097941, 1.0097914, 1.0097877, 1.0097893, 1.0097946, 1.0097961, 1.0097975, 1.009798, 1.0097928, 1.0097907, 1.0097885, 1.0097845, 1.0097847, 1.0097858, 1.009784, 1.0097808, 1.0097777, 1.0097761, 1.0097783, 1.0097876, 1.0097893, 1.0097839, 1.0097841, 1.0097845, 1.0097828, 1.0097702, 1.0097572, 1.0097598, 1.0097678, 1.0097734, 1.0097735, 1.0097686, 1.0097651, 1.0097669, 1.0097702, 1.0097849, 1.0098014, 1.00981, 1.0098196, 1.0098172, 1.0098097, 1.009806, 1.0097996, 1.0097892, 1.0097784, 1.0097666, 1.009753, 1.0097443, 1.0097432, 1.0097504, 1.0097587, 1.0097647, 1.0097781, 1.0097928, 1.009796, 1.0098068, 1.0098208, 1.0098127, 1.0098032, 1.0098011, 1.0097964, 1.0097868, 1.0097668, 1.0097494, 1.0097473, 1.0097526, 1.0097588, 1.0097597, 1.0097625, 1.0097674, 1.0097708, 1.0097796, 1.0097839, 1.0097909, 1.0098026, 1.0098119, 1.0098184, 1.0098183, 1.009813, 1.0098077, 1.0098013, 1.0097979, 1.0097919, 1.0097716, 1.0097541, 1.0097495, 1.0097549, 1.0097617, 1.0097603, 1.0097594, 1.0097622, 1.0097607, 1.009762, 1.0097662, 1.0097638, 1.0097663, 1.0097855, 1.0098065, 1.0098214, 1.0098242, 1.0098164, 1.0098102, 1.009808, 1.0098059, 1.0097973, 1.0097891, 1.0097775, 1.0097636, 1.0097601, 1.00976, 1.0097549, 1.0097542, 1.0097601, 1.009766, 1.0097636, 1.0097677, 1.0097789, 1.0097811, 1.0097867, 1.0097979, 1.009803, 1.009805, 1.0098068, 1.0098062, 1.0098048, 1.0098044, 1.0098025, 1.0097948, 1.0097796, 1.0097582, 1.0097426, 1.0097415, 1.0097458, 1.0097558, 1.0097691, 1.0097768, 1.0097798, 1.0097768, 1.0097737, 1.009776, 1.0097847, 1.0097946, 1.0097991, 1.0098033, 1.0098065, 1.009806, 1.0098033, 1.0097971, 1.0097961, 1.0097982, 1.0097888, 1.0097758, 1.0097711, 1.0097727, 1.0097735, 1.0097693, 1.009763, 1.0097576, 1.0097576, 1.0097612, 1.0097678, 1.0097747, 1.0097771, 1.0097857, 1.0097977, 1.0098035, 1.0098076, 1.0098084, 1.0098028, 1.0097988, 1.0098035, 1.009801, 1.0097928, 1.0097848, 1.0097655, 1.0097469, 1.0097426, 1.0097489, 1.0097618, 1.0097684, 1.0097688, 1.009767, 1.0097644, 1.0097699, 1.0097796, 1.009784, 1.0097895, 1.009797, 1.0098063, 1.0098175, 1.0098145, 1.0098064, 1.0098, 1.009793, 1.0097907, 1.0097893, 1.0097845, 1.0097768, 1.0097659, 1.0097558, 1.009755, 1.0097587, 1.0097631, 1.0097673, 1.0097713, 1.009776, 1.0097761, 1.0097747, 1.0097848, 1.0097991, 1.0098071, 1.0098125, 1.009811, 1.0098073, 1.0098068, 1.0098026, 1.009792, 1.0097753, 1.0097592, 1.009751, 1.0097461, 1.0097479, 1.009757, 1.0097659, 1.0097708, 1.009774, 1.0097798, 1.0097812, 1.0097803, 1.0097816, 1.0097849, 1.009786, 1.0097885, 1.0097938, 1.0097946, 1.0097938, 1.0097945, 1.0097972, 1.0098008, 1.0098013, 1.009801, 1.0098007, 1.0097946, 1.0097836, 1.0097643, 1.0097493, 1.0097486, 1.0097562, 1.0097607, 1.0097593, 1.0097636, 1.0097772, 1.0097867, 1.0097843, 1.0097847, 1.0097922, 1.009796, 1.0097997, 1.0098016, 1.0098014, 1.0098046, 1.0098042, 1.0097973, 1.0097898, 1.009784, 1.0097735, 1.0097634, 1.0097593, 1.0097542, 1.0097536, 1.0097617, 1.0097632, 1.0097623, 1.0097657, 1.0097684, 1.009773, 1.0097805, 1.0097934, 1.0098052, 1.0098128, 1.0098201, 1.009814, 1.0098066, 1.0098081, 1.0097995, 1.009789, 1.009781, 1.0097735, 1.0097669, 1.009757, 1.0097533, 1.0097549, 1.009758, 1.0097653, 1.0097687, 1.0097648, 1.0097644, 1.0097715, 1.0097826, 1.0097983, 1.0098063, 1.0098102, 1.0098176, 1.0098132, 1.0098044, 1.0097994, 1.0097947, 1.009783, 1.0097717, 1.0097724, 1.0097754, 1.0097697, 1.0097582, 1.0097537, 1.0097581, 1.009764, 1.0097675, 1.0097672, 1.0097718, 1.0097808, 1.0097872, 1.0097934, 1.0097985, 1.0098013, 1.0098025, 1.0098057, 1.0098109, 1.009811, 1.0098039, 1.0097983, 1.0097879, 1.0097735, 1.0097618, 1.0097499, 1.009745, 1.0097475, 1.009751, 1.0097549, 1.0097617, 1.0097697, 1.0097736, 1.0097753, 1.0097853, 1.0097975, 1.009804, 1.0098095, 1.0098146, 1.0098175, 1.0098108, 1.0098034, 1.0097957, 1.009789, 1.0097826, 1.0097771, 1.0097762, 1.0097697, 1.0097582, 1.0097508, 1.0097518, 1.0097535, 1.0097573, 1.0097638, 1.0097724, 1.0097756, 1.0097765, 1.0097865, 1.0097942, 1.0097965, 1.0098044, 1.0098134, 1.0098164, 1.0098141, 1.0098103, 1.0098016, 1.0097903, 1.0097816, 1.0097754, 1.0097753, 1.0097703, 1.0097574, 1.0097514, 1.0097523, 1.0097532, 1.0097535, 1.009758, 1.0097725, 1.0097795, 1.0097759, 1.0097708, 1.0097752, 1.0097954, 1.0098181, 1.0098239, 1.0098149, 1.009808, 1.0098029, 1.0097966, 1.0097935, 1.0097884, 1.0097762, 1.0097637, 1.009759, 1.0097631, 1.0097673, 1.0097713, 1.0097767, 1.0097731, 1.0097674, 1.0097655, 1.0097616, 1.0097663, 1.0097834, 1.0097942, 1.0097959, 1.0098016, 1.0098093, 1.0098102, 1.0098088, 1.0098068, 1.0097996, 1.0097891, 1.009774, 1.009768, 1.009769, 1.0097592, 1.0097488, 1.0097505, 1.0097587, 1.0097661, 1.0097659, 1.0097642, 1.0097675, 1.0097816, 1.0098076, 1.009824, 1.009826, 1.0098182, 1.0098026, 1.009794, 1.0097916, 1.0097815, 1.009771, 1.0097667, 1.0097619, 1.0097567, 1.0097595, 1.009766, 1.009763, 1.0097562, 1.0097605, 1.0097742, 1.009789, 1.009798, 1.0097995, 1.0098001, 1.0098006, 1.0097973, 1.0097942, 1.0097955, 1.0098006, 1.0097996, 1.0097935, 1.0097862, 1.0097727, 1.0097631, 1.0097628, 1.009772, 1.0097866, 1.0097944, 1.0097959, 1.0097959, 1.009785, 1.0097657, 1.0097549, 1.0097555, 1.0097593, 1.0097629, 1.0097649, 1.0097632, 1.0097644, 1.0097715, 1.0097854, 1.0098011, 1.0098097, 1.009815, 1.0098143, 1.0098097, 1.0098069, 1.0098056, 1.0098007, 1.0097909, 1.0097765, 1.0097624, 1.0097562, 1.0097526, 1.0097535, 1.0097595, 1.0097654, 1.0097666, 1.0097641, 1.0097674, 1.0097765, 1.0097866, 1.0097951, 1.0097972, 1.0098029, 1.0098106, 1.0098085, 1.0097978, 1.0097895, 1.0097859, 1.0097826, 1.0097815, 1.0097791, 1.0097753, 1.0097789, 1.0097796, 1.0097729, 1.0097686, 1.0097667, 1.0097713, 1.0097787, 1.0097839, 1.0097829, 1.0097718, 1.0097617, 1.0097556, 1.0097592, 1.0097758, 1.0097904, 1.0097973, 1.0098045, 1.0098121, 1.0098144, 1.0098121, 1.0098099, 1.0098077, 1.0098006, 1.0097901, 1.0097771, 1.0097594, 1.0097425, 1.0097393, 1.0097494, 1.0097637, 1.0097724, 1.0097705, 1.0097665, 1.0097668, 1.00977, 1.0097783, 1.0097941, 1.0098009, 1.0098065, 1.0098176, 1.0098139, 1.0098101, 1.0098122, 1.0098051, 1.0097994, 1.0097954, 1.0097802, 1.0097617, 1.0097439, 1.0097283, 1.0097307, 1.0097477, 1.0097615, 1.0097688, 1.0097692, 1.009771, 1.0097798, 1.0097834, 1.009781, 1.0097872, 1.0097977, 1.0098056, 1.0098132, 1.0098153, 1.0098109, 1.0098051, 1.0098038, 1.0098027, 1.0098015, 1.0097961, 1.0097866, 1.009768, 1.0097477, 1.0097398, 1.0097361, 1.0097413, 1.0097543, 1.0097648, 1.0097705, 1.0097759, 1.0097781, 1.0097882, 1.0098022, 1.0098094, 1.009816, 1.0098166, 1.0098114, 1.0098048, 1.0097948, 1.0097809, 1.0097733, 1.0097704, 1.0097698, 1.0097743, 1.0097759, 1.0097666, 1.0097567, 1.0097603, 1.0097674, 1.0097679, 1.009769, 1.0097743, 1.0097839, 1.0097945, 1.0098019, 1.0098025, 1.0098007, 1.0097995, 1.0097964, 1.009797, 1.0098011, 1.0098023, 1.0097955, 1.0097903, 1.0097766, 1.0097505, 1.0097344, 1.009738, 1.009754, 1.0097682, 1.009771, 1.0097741, 1.0097793, 1.0097771, 1.0097741, 1.009782, 1.0097978, 1.0098059, 1.009807, 1.0098078, 1.0098072, 1.0098059, 1.0098032, 1.0097977, 1.0097923, 1.0097879, 1.009778, 1.0097661, 1.0097541, 1.0097461, 1.0097479, 1.0097541, 1.0097646, 1.009776, 1.0097805, 1.0097762, 1.0097724, 1.009779, 1.009792, 1.0097952, 1.0097959, 1.0098008, 1.0098006, 1.009796, 1.0097994, 1.009805, 1.0098039, 1.0098013, 1.0098009, 1.0097984, 1.0097837, 1.0097637, 1.0097486, 1.0097451, 1.0097485, 1.0097562, 1.0097615, 1.0097629, 1.0097656, 1.0097682, 1.0097686, 1.0097711, 1.0097822, 1.0097951, 1.0098039, 1.0098101, 1.0098175, 1.0098152, 1.0098071, 1.0098048, 1.0097986, 1.0097904, 1.0097867, 1.0097805, 1.0097673, 1.0097566, 1.0097542, 1.0097557, 1.0097638, 1.0097703, 1.0097693, 1.0097659, 1.0097648, 1.0097681, 1.0097735, 1.0097766, 1.0097831, 1.0097895, 1.0097905, 1.0097971, 1.0098094, 1.0098155, 1.0098083, 1.0097989, 1.0097955, 1.0097954, 1.0097953, 1.009788, 1.0097743, 1.0097641, 1.0097615, 1.0097591, 1.0097582, 1.009764, 1.0097697, 1.0097715, 1.0097716, 1.0097711, 1.0097792, 1.0097929, 1.0098011, 1.0098068, 1.0098084, 1.0098035, 1.0097965, 1.0097941, 1.0097883, 1.0097761, 1.009765, 1.0097574, 1.0097601, 1.0097687, 1.0097692, 1.009763, 1.0097569, 1.0097634, 1.0097762, 1.0097829, 1.0097878, 1.0097924, 1.0097984, 1.0098004, 1.0098016, 1.0098064, 1.0098081, 1.0098053, 1.0098019, 1.0097957, 1.0097897, 1.0097868, 1.0097805, 1.0097744, 1.0097686, 1.009763, 1.0097569, 1.0097582, 1.0097669, 1.0097682, 1.0097613, 1.0097597, 1.0097681, 1.0097766, 1.0097789, 1.0097781, 1.0097823, 1.0097872, 1.0097897, 1.0097942, 1.0097979, 1.0097971, 1.009802, 1.0098068, 1.0098048, 1.0098044, 1.009801, 1.0097964, 1.0097911, 1.0097723, 1.009749, 1.0097461, 1.0097516, 1.0097542, 1.0097594, 1.0097661, 1.0097637, 1.0097613, 1.0097705, 1.0097833, 1.0097933, 1.0098057, 1.0098183, 1.0098219, 1.0098165, 1.0098104, 1.0098046, 1.0097939, 1.0097857, 1.00978, 1.0097697, 1.0097547, 1.0097473, 1.0097505, 1.0097573, 1.009764, 1.0097682, 1.009765, 1.0097604, 1.0097667, 1.009778, 1.0097933, 1.0098124, 1.0098227, 1.0098202, 1.009809, 1.0097929, 1.0097861, 1.0097841, 1.0097802, 1.0097771, 1.009777, 1.009782, 1.0097868, 1.0097822, 1.0097747, 1.009771, 1.0097646, 1.0097649, 1.0097661, 1.0097557, 1.0097536, 1.0097688, 1.0097759, 1.0097703, 1.0097775, 1.0097914, 1.0097967, 1.0098025, 1.0098115, 1.0098175, 1.0098115, 1.0098034, 1.0097964, 1.0097883, 1.0097781, 1.0097699, 1.0097722, 1.009776, 1.0097754, 1.0097768, 1.0097796, 1.0097789, 1.0097715, 1.0097665, 1.0097624, 1.0097556, 1.0097592, 1.0097722, 1.00979, 1.0098027, 1.0098141, 1.009825, 1.009821, 1.0098112, 1.0098045, 1.0097966, 1.0097805, 1.0097606, 1.0097493, 1.0097487, 1.0097513, 1.0097545, 1.0097598, 1.0097656, 1.0097698, 1.0097759, 1.0097773, 1.0097766, 1.0097787, 1.0097808, 1.0097842, 1.0097818, 1.009788, 1.0098013, 1.0098113, 1.0098172, 1.0098156, 1.0098075, 1.0097916, 1.0097748, 1.0097587, 1.0097476, 1.0097471, 1.0097533, 1.009758, 1.0097647, 1.0097811, 1.0097971, 1.0098095, 1.0098157, 1.0098091, 1.0097946, 1.0097848, 1.0097835, 1.0097824, 1.0097822, 1.0097847, 1.0097765, 1.0097605, 1.0097587, 1.0097659, 1.0097708, 1.0097717, 1.0097684, 1.0097672, 1.0097841, 1.0098042, 1.0098121, 1.009815, 1.0098091, 1.0097946, 1.0097821, 1.0097793, 1.0097778, 1.0097705, 1.0097662, 1.0097586, 1.0097533, 1.0097563, 1.0097566, 1.0097646, 1.0097831, 1.0097933, 1.0098008, 1.0098114, 1.009813, 1.00981, 1.0098093, 1.0098078, 1.0098015, 1.0097916, 1.0097778, 1.0097637, 1.009754, 1.0097518, 1.0097506, 1.0097466, 1.009752, 1.0097618, 1.0097669, 1.0097696, 1.0097756, 1.0097879, 1.0098014, 1.0098135, 1.009818, 1.0098106, 1.0098003, 1.0097947, 1.0097873, 1.009781, 1.0097828, 1.0097854, 1.0097858, 1.009784, 1.0097808, 1.0097777, 1.0097761, 1.0097733, 1.0097675, 1.0097628, 1.0097581, 1.0097574, 1.0097682, 1.0097752, 1.0097826, 1.0097976, 1.0098028, 1.0098047, 1.0098064, 1.0098059, 1.0098032, 1.0097977, 1.0097923, 1.0097879, 1.0097759, 1.0097526, 1.0097401, 1.0097435, 1.0097514, 1.0097591, 1.0097656, 1.0097734, 1.0097816, 1.0097959, 1.0098104, 1.0098115, 1.009808, 1.0098051, 1.0098016, 1.0097997, 1.0097923, 1.0097842, 1.0097766, 1.0097685, 1.0097622, 1.0097532, 1.0097475, 1.0097486, 1.0097569, 1.0097709, 1.009785, 1.0097951, 1.0097988, 1.0098072, 1.0098169, 1.0098133, 1.0098088, 1.0098081, 1.009798, 1.0097804, 1.0097668, 1.0097662, 1.0097616, 1.0097492, 1.0097514, 1.0097605, 1.009767, 1.0097704, 1.0097713, 1.0097766, 1.0097867, 1.0097988, 1.0098125, 1.0098191, 1.0098132, 1.0098065, 1.0098001, 1.0097916, 1.00978, 1.0097674, 1.009756, 1.0097507, 1.0097553, 1.0097635, 1.0097699, 1.0097739, 1.0097725, 1.0097669, 1.0097657, 1.0097682, 1.0097679, 1.0097768, 1.0097942, 1.0098032, 1.0098095, 1.0098169, 1.0098153, 1.0098065, 1.0098029, 1.0097982, 1.0097842, 1.0097692, 1.0097655, 1.0097716, 1.009777, 1.0097806, 1.0097841, 1.0097839, 1.0097785, 1.009774, 1.0097733, 1.0097704, 1.0097663, 1.0097573, 1.009752, 1.009758, 1.0097704, 1.009781, 1.0097883, 1.0097958, 1.0098023, 1.0098114, 1.0098144, 1.0098107, 1.0098078, 1.0098057, 1.0097994, 1.0097926, 1.0097846, 1.0097703, 1.0097537, 1.0097427, 1.0097389, 1.0097374, 1.009744, 1.0097563, 1.009766, 1.0097709, 1.0097777, 1.0097907, 1.0098077, 1.0098203, 1.0098202, 1.0098097, 1.0098002, 1.0097954, 1.0097909, 1.0097873, 1.0097853, 1.0097806, 1.0097775, 1.009778, 1.0097845, 1.0097929, 1.009796, 1.0097988, 1.0097994, 1.009797, 1.0097926, 1.0097773, 1.0097567, 1.0097449, 1.0097394, 1.0097444, 1.0097566, 1.0097662, 1.0097668, 1.009765, 1.0097669, 1.0097696, 1.009777, 1.0097836, 1.0097914, 1.0097995, 1.0098044, 1.0098113, 1.0098186, 1.0098177, 1.0098072, 1.0097985, 1.0097902, 1.00978, 1.0097733, 1.0097681, 1.0097662, 1.0097723, 1.009782, 1.0097905, 1.0097945, 1.0097888, 1.009773, 1.0097569, 1.0097567, 1.0097668, 1.009771, 1.0097691, 1.0097672, 1.0097668, 1.0097686, 1.0097748, 1.0097815, 1.00979, 1.0097989, 1.0098053, 1.0098108, 1.0098108, 1.009808, 1.0098037, 1.0097959, 1.0097892, 1.0097842, 1.0097752, 1.0097699, 1.0097715, 1.009766, 1.0097518, 1.009741, 1.0097458, 1.0097637, 1.0097768, 1.0097792, 1.0097798, 1.0097861, 1.0097945, 1.0098017, 1.0098073, 1.0098104, 1.0098076, 1.0098027, 1.0098037, 1.0098003, 1.0097914, 1.0097797, 1.0097628, 1.0097499, 1.0097479, 1.009754, 1.0097637, 1.0097694, 1.0097669, 1.0097629, 1.0097669, 1.0097724, 1.0097806, 1.0097935, 1.0098017, 1.0098073, 1.0098147]\n"
          ]
        },
        {
          "data": {
            "image/png": "[encoded data removed]",
            "text/plain": [
              "<Figure size 720x360 with 1 Axes>"
            ]
          },
          "metadata": {
            "needs_background": "dark"
          },
          "output_type": "display_data"
        },
        {
          "ename": "",
          "evalue": "",
          "output_type": "error",
          "traceback": [
            "\u001b[1;31mThe Kernel crashed while executing code in the the current cell or a previous cell. Please review the code in the cell(s) to identify a possible cause of the failure. Click <a href='https://aka.ms/vscodeJupyterKernelCrash'>here</a> for more info. View Jupyter <a href='command:jupyter.viewOutput'>log</a> for further details."
          ]
        }
      ],
      "source": [
        "import numpy as np\n",
        "import torch as th\n",
        "import time\n",
        "\n",
        "MODEL_PATH = f\"models/sac16x16current-checkpoint/model.zip\"\n",
        "\n",
        "# Create and wrap the environment\n",
        "env = BobinaEnv(duration = 4)\n",
        "\n",
        "# Load the trained agent\n",
        "model = SAC.load(MODEL_PATH, env=env, learning_rate = 0.00001)\n",
        "\n",
        "# Evaluate the agent\n",
        "for i in range(1):\n",
        "    obs, seed = env.reset()\n",
        "    done = False\n",
        "    episode_reward = 0\n",
        "    velocidad = 0\n",
        "    current = 0\n",
        "    observations = []\n",
        "    noises = []\n",
        "    error = obs -19.5\n",
        "    timepredict = 0\n",
        "    timemodel = 0\n",
        "    obs, vel, current = obs\n",
        "    while not done:\n",
        "        #noise = random.uniform(-1, 1)\n",
        "        #obs = obs + noise\n",
        "        observations.append(obs)\n",
        "        #noises.append(noise)\n",
        "        t1 = time.time()\n",
        "        action, _states = model.predict(np.array([obs, vel, current]), deterministic=True)\n",
        "        t2 = time.time()\n",
        "        #print(action)\n",
        "        #if env.airgap > 10.1: action = max(action, [-50])\n",
        "        #print(action)\n",
        "        t3 = time.time()\n",
        "        state, reward, terminated, truncated, info = env.step(np.array(action))\n",
        "        t4 = time.time()\n",
        "        obs, vel, current = state\n",
        "        done = truncated or terminated\n",
        "        episode_reward += reward\n",
        "        timepredict += t2 - t1\n",
        "        timemodel += t4 - t3\n",
        "        noises.append(current)\n",
        "    print(\"Time predict\", timepredict)\n",
        "    print(\"Time model\", timemodel)\n",
        "    print(\"Episode reward\", episode_reward)\n",
        "    print(noises)\n",
        "    env.render(\"yes\")"
      ]
    },
    {
      "cell_type": "code",
      "execution_count": 96,
      "metadata": {},
      "outputs": [
        {
          "name": "stdout",
          "output_type": "stream",
          "text": [
            "============== Diagnostic Run torch.onnx.export version 2.0.0+cpu ==============\n",
            "verbose: False, log level: Level.ERROR\n",
            "======================= 0 NONE 0 NOTE 0 WARNING 0 ERROR ========================\n",
            "\n"
          ]
        }
      ],
      "source": [
        "import torch as th\n",
        "\n",
        "from stable_baselines3 import SAC\n",
        "\n",
        "#import onnx\n",
        "import onnxruntime as ort\n",
        "import numpy as np\n",
        "\n",
        "\n",
        "class OnnxablePolicy(th.nn.Module):\n",
        "    def __init__(self, actor: th.nn.Module):\n",
        "        super().__init__()\n",
        "        # Removing the flatten layer because it can't be onnxed\n",
        "        self.actor = th.nn.Sequential(\n",
        "            actor.latent_pi,\n",
        "            actor.mu,\n",
        "            # For gSDE\n",
        "            # th.nn.Hardtanh(min_val=-actor.clip_mean, max_val=actor.clip_mean),\n",
        "            # Squash the output\n",
        "            th.nn.Tanh(),\n",
        "        )\n",
        "\n",
        "    def forward(self, observation: th.Tensor) -> th.Tensor:\n",
        "        # NOTE: You may have to process (normalize) observation in the correct\n",
        "        #       way before using this. See `common.preprocessing.preprocess_obs`\n",
        "        return self.actor(observation)\n",
        "\n",
        "\n",
        "# Example: model = SAC(\"MlpPolicy\", \"Pendulum-v1\")\n",
        "model = SAC.load(f\"models/{run.id}/model.zip\", device=\"cpu\")\n",
        "onnxable_model = OnnxablePolicy(model.policy.actor)\n",
        "\n",
        "observation_size = model.observation_space.shape\n",
        "dummy_input = th.randn(1, *observation_size)\n",
        "th.onnx.export(\n",
        "    onnxable_model,\n",
        "    dummy_input,\n",
        "    \"1gdlComplex8x8.onnx\",\n",
        "    opset_version=9,\n",
        "    input_names=[\"input\"],\n",
        ")\n",
        "\n",
        "##### Load and test with onnx\n",
        "\n",
        "import onnxruntime as ort\n",
        "import numpy as np\n",
        "\n",
        "onnx_path = \"1gdlComplex8x8.onnx\"\n",
        "\n",
        "observation = np.zeros((1, *observation_size)).astype(np.float32)\n",
        "ort_sess = ort.InferenceSession(onnx_path)\n",
        "action = ort_sess.run(None, {\"input\": observation})"
      ]
    },
    {
      "cell_type": "code",
      "execution_count": 12,
      "metadata": {},
      "outputs": [
        {
          "data": {
            "text/plain": [
              "SACPolicy(\n",
              "  (actor): Actor(\n",
              "    (features_extractor): FlattenExtractor(\n",
              "      (flatten): Flatten(start_dim=1, end_dim=-1)\n",
              "    )\n",
              "    (latent_pi): Sequential(\n",
              "      (0): Linear(in_features=4, out_features=8, bias=True)\n",
              "      (1): ReLU()\n",
              "      (2): Linear(in_features=8, out_features=8, bias=True)\n",
              "      (3): ReLU()\n",
              "    )\n",
              "    (mu): Linear(in_features=8, out_features=1, bias=True)\n",
              "    (log_std): Linear(in_features=8, out_features=1, bias=True)\n",
              "  )\n",
              "  (critic): ContinuousCritic(\n",
              "    (features_extractor): FlattenExtractor(\n",
              "      (flatten): Flatten(start_dim=1, end_dim=-1)\n",
              "    )\n",
              "    (qf0): Sequential(\n",
              "      (0): Linear(in_features=5, out_features=256, bias=True)\n",
              "      (1): ReLU()\n",
              "      (2): Linear(in_features=256, out_features=256, bias=True)\n",
              "      (3): ReLU()\n",
              "      (4): Linear(in_features=256, out_features=1, bias=True)\n",
              "    )\n",
              "    (qf1): Sequential(\n",
              "      (0): Linear(in_features=5, out_features=256, bias=True)\n",
              "      (1): ReLU()\n",
              "      (2): Linear(in_features=256, out_features=256, bias=True)\n",
              "      (3): ReLU()\n",
              "      (4): Linear(in_features=256, out_features=1, bias=True)\n",
              "    )\n",
              "  )\n",
              "  (critic_target): ContinuousCritic(\n",
              "    (features_extractor): FlattenExtractor(\n",
              "      (flatten): Flatten(start_dim=1, end_dim=-1)\n",
              "    )\n",
              "    (qf0): Sequential(\n",
              "      (0): Linear(in_features=5, out_features=256, bias=True)\n",
              "      (1): ReLU()\n",
              "      (2): Linear(in_features=256, out_features=256, bias=True)\n",
              "      (3): ReLU()\n",
              "      (4): Linear(in_features=256, out_features=1, bias=True)\n",
              "    )\n",
              "    (qf1): Sequential(\n",
              "      (0): Linear(in_features=5, out_features=256, bias=True)\n",
              "      (1): ReLU()\n",
              "      (2): Linear(in_features=256, out_features=256, bias=True)\n",
              "      (3): ReLU()\n",
              "      (4): Linear(in_features=256, out_features=1, bias=True)\n",
              "    )\n",
              "  )\n",
              ")"
            ]
          },
          "execution_count": 12,
          "metadata": {},
          "output_type": "execute_result"
        }
      ],
      "source": [
        "model.policy"
      ]
    },
    {
      "cell_type": "code",
      "execution_count": null,
      "metadata": {},
      "outputs": [],
      "source": [
        "# See \"ONNX export\" for imports and OnnxablePolicy\n",
        "jit_path = \"1gdlComplex.pt\"\n",
        "\n",
        "# Trace and optimize the module\n",
        "traced_module = th.jit.trace(onnxable_model.eval(), dummy_input)\n",
        "frozen_module = th.jit.freeze(traced_module)\n",
        "frozen_module = th.jit.optimize_for_inference(frozen_module)\n",
        "th.jit.save(frozen_module, jit_path)\n",
        "\n",
        "##### Load and test with torch\n",
        "\n",
        "import torch as th\n",
        "\n",
        "dummy_input = th.randn(1, *observation_size)\n",
        "loaded_module = th.jit.load(jit_path)\n",
        "action_jit = loaded_module(dummy_input)"
      ]
    }
  ],
  "metadata": {
    "accelerator": "GPU",
    "colab": {
      "gpuType": "T4",
      "provenance": []
    },
    "kernelspec": {
      "display_name": "Python 3",
      "name": "python3"
    },
    "language_info": {
      "codemirror_mode": {
        "name": "ipython",
        "version": 3
      },
      "file_extension": ".py",
      "mimetype": "text/x-python",
      "name": "python",
      "nbconvert_exporter": "python",
      "pygments_lexer": "ipython3",
      "version": "3.9.13"
    }
  },
  "nbformat": 4,
  "nbformat_minor": 0
}
