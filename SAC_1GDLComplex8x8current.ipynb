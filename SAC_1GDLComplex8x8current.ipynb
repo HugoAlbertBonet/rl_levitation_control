{
  "cells": [
    {
      "cell_type": "code",
      "execution_count": 1,
      "metadata": {
        "id": "XCEQ6e08PQYe"
      },
      "outputs": [],
      "source": [
        "from gymnasium import Env\n",
        "from gymnasium.spaces.box import Box\n",
        "import numpy as np\n",
        "import random\n",
        "from stable_baselines3 import SAC\n",
        "from stable_baselines3.common.monitor import Monitor\n",
        "from stable_baselines3.common.callbacks import CheckpointCallback\n",
        "from stable_baselines3.common.noise import NormalActionNoise\n",
        "import wandb\n",
        "from wandb.integration.sb3 import WandbCallback\n",
        "import os\n",
        "import matplotlib.pyplot as plt\n",
        "import scipy.io\n",
        "import numpy as np\n",
        "import pickle\n",
        "import warnings\n",
        "import math\n",
        "warnings.filterwarnings(\"ignore\")"
      ]
    },
    {
      "cell_type": "markdown",
      "metadata": {},
      "source": [
        "# Siguientes pasos\n",
        "* Ir cambiando estado inicial (primero posición y luego también velocidad y corriente)\n",
        "* Añadir datos de este año\n",
        "* Cambiar reward a corriente"
      ]
    },
    {
      "cell_type": "code",
      "execution_count": 5,
      "metadata": {
        "id": "rFCb5ECGR1Lt"
      },
      "outputs": [],
      "source": [
        "class BobinaEnv(Env):\n",
        "  \"\"\"\n",
        "  Custom Gym Environment for the Hybrid Electromagnetic Suspension, considering just one coil.\n",
        "  \"\"\"\n",
        "  def __init__(self, masa_pod = 200, airgap = 10, duration = 10):\n",
        "    # Actions: Voltage applied to the coil\n",
        "    self.action_space = Box(low=np.array([-50]), high = np.array([50]), dtype=np.float32)\n",
        "    # Observations: Airgap to the ceiling, velocity, distance to the objective, current of the coil\n",
        "    self.observation_space = Box(low=np.array([10,-np.inf, -45]), high = np.array([23, np.inf, 45]), dtype=np.float32)\n",
        "    # Initial parameters\n",
        "    self.state = np.array([airgap,0, 0])\n",
        "    self.airgapinicial = airgap\n",
        "    self.duration = duration\n",
        "    self.timeleft = duration\n",
        "    self.crash = False\n",
        "    self.masa_pod = masa_pod\n",
        "    self.bobina = Bobina(masa_pod = self.masa_pod, airgap = self.airgapinicial)\n",
        "    self.steps = []\n",
        "    self.airgap = airgap\n",
        "    self.distancia = 0\n",
        "    self.velocidad = 0\n",
        "    self.current = 0\n",
        "\n",
        "\n",
        "  def step(self, action):\n",
        "    # Apply action\n",
        "    self.state, self.crash = self.bobina.step(action[0])\n",
        "    self.airgap, self.velocidad, self.current = self.state\n",
        "\n",
        "    # Reduce the time of the experiment\n",
        "    self.timeleft -= 0.001\n",
        "\n",
        "    # Calculate reward\n",
        "    #reward = -abs(self.distancia)\n",
        "\n",
        "    if self.airgap >= 23: reward = -100\n",
        "    elif self.airgap <= 10: reward = -100\n",
        "    else: reward = -abs(self.current)\n",
        "\n",
        "    # Check if experiment is done\n",
        "    if self.timeleft <= 0:\n",
        "      truncated = True\n",
        "    else: truncated = False\n",
        "    # Set placeholder for info\n",
        "    info = {}\n",
        "    # Only if we implemented the crash\n",
        "    if self.crash:\n",
        "      reward = - 50000\n",
        "      terminated = True\n",
        "    else:\n",
        "      terminated = False\n",
        "    self.steps.append(self.state)\n",
        "    return self.state, reward, terminated, truncated, info\n",
        "\n",
        "\n",
        "  def render(self, yes = \"yes\"):\n",
        "    # create data\n",
        "    x = list(range(0,len(self.steps)))\n",
        "    y = [step[0] for step in self.steps]\n",
        "    objective = [19.5]*len(self.steps)\n",
        "\n",
        "    # plot lines\n",
        "    fig = plt.figure(figsize=(10,5))\n",
        "    ax = fig.add_subplot(111)\n",
        "    ax.tick_params(axis='x', colors='white')    #setting up X-axis tick color to red\n",
        "    ax.tick_params(axis='y', colors='white')  #setting up Y-axis tick color to black\n",
        "\n",
        "    plt.plot(x, y, label = \"States\")\n",
        "    plt.plot(x, objective, label = \"Objective\")\n",
        "    plt.legend()\n",
        "    plt.show()\n",
        "\n",
        "  def reset(self, seed = 0):\n",
        "    # Reset experiment choosing randomly the start (ceiling or floor)\n",
        "    airgap = random.choice([19.5])\n",
        "    self.state = self.observation_space.sample()\n",
        "    self.airgap, self.velocidad, self.current = self.state\n",
        "    self.bobina = Bobina(masa_pod = self.masa_pod, airgap = self.airgap)\n",
        "    self.bobina.velocidad = [self.velocidad]\n",
        "    self.bobina.aceleracion = [random.choice(list(range(-50, 50, 2)))/10]\n",
        "    # Reset time\n",
        "    self.timeleft = self.duration\n",
        "    self.crash = False\n",
        "    self.steps = []\n",
        "    return self.state, seed"
      ]
    },
    {
      "cell_type": "code",
      "execution_count": 3,
      "metadata": {
        "id": "9SgMX9wfPZEl"
      },
      "outputs": [],
      "source": [
        "class Bobina():\n",
        "  \"\"\" \n",
        "  Coil model for the Hybrid Electromagnetic Suspension\n",
        "  \"\"\"\n",
        "  def __init__(self, masa_pod = 200, airgap = 23):\n",
        "    self.masa_pod = masa_pod\n",
        "    self.airgap = airgap\n",
        "    self.aceleracion = []\n",
        "    self.velocidad = []\n",
        "    mat = scipy.io.loadmat('./coil/hems.mat')\n",
        "    self.hems = mat[\"hems\"][0][0]\n",
        "    self.airgaps = self.hems[0][0]\n",
        "    self.currents = self.hems[1][0]\n",
        "    self.force_vertical = pickle.load(open(\"./coil/mlp_vertical.pkl\", 'rb'))\n",
        "    self.flux = self.hems[3]\n",
        "    self.force_horizontal = self.hems[4]\n",
        "    self.inductance = pickle.load(open(\"./coil/rf_inductance.pkl\", 'rb'))\n",
        "    self.resistance = self.hems[6][0][0]\n",
        "    self.min_distance = self.airgaps[0]\n",
        "    self.max_distance = self.airgaps[-1]\n",
        "    self.airgapinicial = airgap\n",
        "    self.crash = False\n",
        "    self.current = 0\n",
        "    self.steps_RL = []\n",
        "\n",
        "  def integral(self, lista, h = 1):\n",
        "    return sum(h*(lista[i]+lista[i+1])/2 for i in range(len(lista)-1))\n",
        "\n",
        "  def RL(self, airgap, target_voltage, temperature):\n",
        "    # Resistance-Inductance circuit\n",
        "\n",
        "    # Get resistance of the coil\n",
        "    R = self.R(current = self.current, temperature = temperature)   \n",
        "    V = target_voltage\n",
        "    I = self.current\n",
        "    L = self.L(airgap = airgap, current = self.current)\n",
        "    dIdt = ((V/R) - I)/(L/R)                                      \n",
        "    self.steps_RL.append(dIdt)                                   \n",
        "    current = self.integral(self.steps_RL, h = 0.001)                          \n",
        "    return current                                                  \n",
        "\n",
        "  def R(self, current, temperature):\n",
        "    return self.resistance                                         \n",
        "\n",
        "  def L(self, airgap, current):\n",
        "    # Return predicted inductance\n",
        "    return float(self.inductance.predict(np.array([[airgap, current]]))[0])\n",
        "\n",
        "  def vertical_force(self, airgap, target_voltage, temperature):\n",
        "    # Get current from RL circuit\n",
        "    I = self.RL(airgap = airgap, target_voltage = target_voltage, temperature = temperature) \n",
        "    \n",
        "    # Clip result\n",
        "    if I > 45:\n",
        "      I = 45\n",
        "    elif I < -45:\n",
        "      I = -45\n",
        "    self.current = I\n",
        "    # Get vertical force from \n",
        "    FI = self.FI_vertical(airgap = airgap, current = I)                    \n",
        "    return FI, I\n",
        "\n",
        "\n",
        "  def FI_vertical(self, airgap, current):\n",
        "    # Return predicted vertical force\n",
        "    return float(self.force_vertical.predict(np.array([[airgap, current]])))    \n",
        "\n",
        "\n",
        "  def next_airgap(self, masa_pod, vertical_force, verbose = False):\n",
        "    # Devide the mass of the pod by 4 coils\n",
        "    masa = masa_pod/4  \n",
        "    # Calculate weight\n",
        "    peso = masa * 9.8    \n",
        "    # Get total force                                                       \n",
        "    fuerza = peso - vertical_force\n",
        "    if verbose: print(\"Fuerza resultante: \", fuerza)   \n",
        "    # Calculate acceleration                                     \n",
        "    aceleracion = fuerza/masa\n",
        "    if verbose: print(\"Aceleración: \", aceleracion)                                         \n",
        "    self.aceleracion.append(aceleracion)       \n",
        "    # Calculate velocity                                \n",
        "    velocidad = self.integral(self.aceleracion, 0.001)\n",
        "    if verbose: print(\"Integral primera (velocidad): \", velocidad)                          \n",
        "    self.velocidad.append(velocidad)               \n",
        "    # Calculate position (x1000 as to transform from m to mm)                            \n",
        "    posicion = self.airgapinicial + self.integral(self.velocidad, 0.001)*1000 \n",
        "    if verbose: print(\"Integral segunda (posición): \", posicion)\n",
        "\n",
        "    # Clip position\n",
        "    if posicion > self.max_distance:\n",
        "      airgap = self.max_distance\n",
        "      self.aceleracion = [0]\n",
        "      self.velocidad = [0]  \n",
        "      self.crash = True     \n",
        "      self.airgapinicial = self.max_distance                                               \n",
        "    elif posicion < self.min_distance:\n",
        "      airgap = self.min_distance\n",
        "      self.aceleracion = [0]\n",
        "      self.velocidad = [0]\n",
        "      self.crash = True\n",
        "      self.airgapinicial = self.min_distance\n",
        "    else: airgap = posicion\n",
        "    return airgap, velocidad\n",
        "\n",
        "  def step(self, target_voltage, verbose = False):\n",
        "    # Calculate vertical force and current\n",
        "    vertical_force, self.current = self.vertical_force(airgap = self.airgap, target_voltage = target_voltage, temperature = 40)\n",
        "    if verbose: print(\"Fuerza vertical: \", vertical_force)\n",
        "    # Calculate next airgap and velocity\n",
        "    self.airgap, velocidad = self.next_airgap(self.masa_pod, vertical_force, verbose = verbose)\n",
        "    #noise = np.random.normal(0,0.5)\n",
        "    #self.airgap = self.airgap + noise     \n",
        "    return (np.float32(self.airgap), np.float32(velocidad), np.float32(self.current)), self.crash"
      ]
    },
    {
      "cell_type": "code",
      "execution_count": 53,
      "metadata": {
        "colab": {
          "base_uri": "https://localhost:8080/",
          "height": 123
        },
        "id": "aNE6VBJdTFDL",
        "outputId": "be5ffab5-4f53-48bc-9fcc-fd387eb09d56"
      },
      "outputs": [
        {
          "data": {
            "text/html": [
              "Finishing last run (ID:e2givk61) before initializing another..."
            ],
            "text/plain": [
              "<IPython.core.display.HTML object>"
            ]
          },
          "metadata": {},
          "output_type": "display_data"
        },
        {
          "data": {
            "text/html": [
              "Waiting for W&B process to finish... <strong style=\"color:green\">(success).</strong>"
            ],
            "text/plain": [
              "<IPython.core.display.HTML object>"
            ]
          },
          "metadata": {},
          "output_type": "display_data"
        },
        {
          "data": {
            "text/html": [
              "<style>\n",
              "    table.wandb td:nth-child(1) { padding: 0 10px; text-align: left ; width: auto;} td:nth-child(2) {text-align: left ; width: 100%}\n",
              "    .wandb-row { display: flex; flex-direction: row; flex-wrap: wrap; justify-content: flex-start; width: 100% }\n",
              "    .wandb-col { display: flex; flex-direction: column; flex-basis: 100%; flex: 1; padding: 10px; }\n",
              "    </style>\n",
              "<div class=\"wandb-row\"><div class=\"wandb-col\"><h3>Run history:</h3><br/><table class=\"wandb\"><tr><td>global_step</td><td>▁▂▂▃▃▄▄▅▅▆▆▇▇█</td></tr><tr><td>rollout/ep_len_mean</td><td>▁▁▁▁▁▁▁▁▁▁▁▁▁▁</td></tr><tr><td>rollout/ep_rew_mean</td><td>▁▃▆▆▆▆▇▇▇▇████</td></tr><tr><td>time/fps</td><td>▁█████████████</td></tr><tr><td>train/actor_loss</td><td>▁▅▆▇██████████</td></tr><tr><td>train/critic_loss</td><td>█▃▇▅▃▇▄▄▅▄▃▂▂▁</td></tr><tr><td>train/ent_coef</td><td>▃▇█▇▆▆▄▅▅▃▅▅▂▁</td></tr><tr><td>train/ent_coef_loss</td><td>█▂▂▃▂▂▄▃▂▃▃▂▁▂</td></tr><tr><td>train/learning_rate</td><td>█▇▇▆▆▅▅▄▄▃▃▂▂▁</td></tr></table><br/></div><div class=\"wandb-col\"><h3>Run summary:</h3><br/><table class=\"wandb\"><tr><td>global_step</td><td>224056</td></tr><tr><td>rollout/ep_len_mean</td><td>4001.0</td></tr><tr><td>rollout/ep_rew_mean</td><td>-386279.375</td></tr><tr><td>time/fps</td><td>32.0</td></tr><tr><td>train/actor_loss</td><td>9550.74121</td></tr><tr><td>train/critic_loss</td><td>29.57114</td></tr><tr><td>train/ent_coef</td><td>0.18607</td></tr><tr><td>train/ent_coef_loss</td><td>-0.11918</td></tr><tr><td>train/learning_rate</td><td>9e-05</td></tr></table><br/></div></div>"
            ],
            "text/plain": [
              "<IPython.core.display.HTML object>"
            ]
          },
          "metadata": {},
          "output_type": "display_data"
        },
        {
          "data": {
            "text/html": [
              " View run <strong style=\"color:#cdcd00\">expert-haze-73</strong> at: <a href='https://wandb.ai/hyperloopupv/1gdlcomplex/runs/e2givk61' target=\"_blank\">https://wandb.ai/hyperloopupv/1gdlcomplex/runs/e2givk61</a><br/>Synced 5 W&B file(s), 0 media file(s), 0 artifact file(s) and 2 other file(s)"
            ],
            "text/plain": [
              "<IPython.core.display.HTML object>"
            ]
          },
          "metadata": {},
          "output_type": "display_data"
        },
        {
          "data": {
            "text/html": [
              "Find logs at: <code>.\\wandb\\run-20231220_131801-e2givk61\\logs</code>"
            ],
            "text/plain": [
              "<IPython.core.display.HTML object>"
            ]
          },
          "metadata": {},
          "output_type": "display_data"
        },
        {
          "data": {
            "text/html": [
              "Successfully finished last run (ID:e2givk61). Initializing new run:<br/>"
            ],
            "text/plain": [
              "<IPython.core.display.HTML object>"
            ]
          },
          "metadata": {},
          "output_type": "display_data"
        },
        {
          "data": {
            "text/html": [
              "wandb version 0.16.1 is available!  To upgrade, please run:\n",
              " $ pip install wandb --upgrade"
            ],
            "text/plain": [
              "<IPython.core.display.HTML object>"
            ]
          },
          "metadata": {},
          "output_type": "display_data"
        },
        {
          "data": {
            "text/html": [
              "Tracking run with wandb version 0.14.0"
            ],
            "text/plain": [
              "<IPython.core.display.HTML object>"
            ]
          },
          "metadata": {},
          "output_type": "display_data"
        },
        {
          "data": {
            "text/html": [
              "Run data is saved locally in <code>c:\\Users\\hugoa\\H9\\RL\\GitHub Vrain\\rl_levitation_control\\wandb\\run-20231220_151850-6pt8d2y5</code>"
            ],
            "text/plain": [
              "<IPython.core.display.HTML object>"
            ]
          },
          "metadata": {},
          "output_type": "display_data"
        },
        {
          "data": {
            "text/html": [
              "Syncing run <strong><a href='https://wandb.ai/hyperloopupv/1gdlcomplex/runs/6pt8d2y5' target=\"_blank\">stilted-sun-74</a></strong> to <a href='https://wandb.ai/hyperloopupv/1gdlcomplex' target=\"_blank\">Weights & Biases</a> (<a href='https://wandb.me/run' target=\"_blank\">docs</a>)<br/>"
            ],
            "text/plain": [
              "<IPython.core.display.HTML object>"
            ]
          },
          "metadata": {},
          "output_type": "display_data"
        },
        {
          "data": {
            "text/html": [
              " View project at <a href='https://wandb.ai/hyperloopupv/1gdlcomplex' target=\"_blank\">https://wandb.ai/hyperloopupv/1gdlcomplex</a>"
            ],
            "text/plain": [
              "<IPython.core.display.HTML object>"
            ]
          },
          "metadata": {},
          "output_type": "display_data"
        },
        {
          "data": {
            "text/html": [
              " View run at <a href='https://wandb.ai/hyperloopupv/1gdlcomplex/runs/6pt8d2y5' target=\"_blank\">https://wandb.ai/hyperloopupv/1gdlcomplex/runs/6pt8d2y5</a>"
            ],
            "text/plain": [
              "<IPython.core.display.HTML object>"
            ]
          },
          "metadata": {},
          "output_type": "display_data"
        }
      ],
      "source": [
        "run = wandb.init(\n",
        "    project=\"1gdlcomplex\",\n",
        "    sync_tensorboard=True,\n",
        "    monitor_gym=True,\n",
        ")"
      ]
    },
    {
      "cell_type": "code",
      "execution_count": 54,
      "metadata": {
        "id": "oinA6TP-TL36"
      },
      "outputs": [],
      "source": [
        "# Create log dir\n",
        "log_dir = \"1gdlcomplex/\"\n",
        "os.makedirs(log_dir, exist_ok=True)\n",
        "\n",
        "# Create and wrap the environment\n",
        "env = BobinaEnv( duration = 4 )\n",
        "env = Monitor(env, log_dir)"
      ]
    },
    {
      "cell_type": "code",
      "execution_count": 55,
      "metadata": {
        "colab": {
          "base_uri": "https://localhost:8080/"
        },
        "id": "22oTxNkmTfCd",
        "outputId": "7872ccfd-4bbe-4c07-9740-0ddcc3fb26bb"
      },
      "outputs": [
        {
          "name": "stdout",
          "output_type": "stream",
          "text": [
            "Using cpu device\n",
            "Wrapping the env in a DummyVecEnv.\n"
          ]
        }
      ],
      "source": [
        "from typing import Callable\n",
        "\n",
        "def linear_schedule(initial_value: float) -> Callable[[float], float]:\n",
        "    \"\"\"\n",
        "    Linear learning rate schedule.\n",
        "\n",
        "    :param initial_value: Initial learning rate.\n",
        "    :return: schedule that computes\n",
        "      current learning rate depending on remaining progress\n",
        "    \"\"\"\n",
        "    def func(progress_remaining: float) -> float:\n",
        "        \"\"\"\n",
        "        Progress will decrease from 1 (beginning) to 0.\n",
        "\n",
        "        :param progress_remaining:\n",
        "        :return: current learning rate\n",
        "        \"\"\"\n",
        "        return progress_remaining * initial_value\n",
        "\n",
        "    return func\n",
        "\n",
        "# para el critic , qf=[400, 300], para el actor pi=[300, 200]\n",
        "policy_kwargs = dict(net_arch=dict(pi=[16, 16], qf=[256, 256]))\n",
        "\n",
        "model = SAC(\"MlpPolicy\", env,learning_rate = linear_schedule(0.0001),  policy_kwargs=policy_kwargs, verbose=1, tensorboard_log=log_dir)"
      ]
    },
    {
      "cell_type": "code",
      "execution_count": 56,
      "metadata": {
        "id": "NVwBakWxTf2c"
      },
      "outputs": [],
      "source": [
        "# Create checkpoint callback\n",
        "checkpoint_callback = CheckpointCallback(\n",
        "    save_freq=10000, save_path=log_dir, name_prefix=\"rl_sac_1gdlcomplex\"\n",
        ")"
      ]
    },
    {
      "cell_type": "code",
      "execution_count": null,
      "metadata": {
        "colab": {
          "base_uri": "https://localhost:8080/"
        },
        "id": "d75OTj_9TxDJ",
        "outputId": "f5860707-4220-4914-9a00-b3da3cf62a24"
      },
      "outputs": [],
      "source": [
        "# Train the agent\n",
        "model.learn(total_timesteps=22500000,\n",
        "    callback=[\n",
        "        checkpoint_callback,\n",
        "        WandbCallback(\n",
        "            gradient_save_freq=10000,\n",
        "            model_save_path=f\"models/sac16x16current\",\n",
        "            model_save_freq=10000,\n",
        "            verbose=2,\n",
        "        ),\n",
        "    ],\n",
        ")"
      ]
    },
    {
      "cell_type": "code",
      "execution_count": 19,
      "metadata": {
        "colab": {
          "base_uri": "https://localhost:8080/"
        },
        "id": "uHXGbAZET2JT",
        "outputId": "b97fc6c4-ec5b-4df7-d0d1-33c8be525e88"
      },
      "outputs": [
        {
          "name": "stdout",
          "output_type": "stream",
          "text": [
            "Episode:1 Score:-1963217.3429822037\n",
            "Episode:2 Score:-1969859.0048097968\n",
            "Episode:3 Score:-1967697.527871441\n"
          ]
        }
      ],
      "source": [
        "episodes = 3\n",
        "state, seed = env.reset()\n",
        "for episode in range(1, episodes+1):\n",
        "    state, seed = env.reset()\n",
        "    done = False\n",
        "    score = 0\n",
        "    while not done:\n",
        "        action = env.action_space.sample()\n",
        "        n_state, reward, terminated, truncated, info = env.step(action)\n",
        "        done = terminated or truncated\n",
        "        score+=reward\n",
        "    print('Episode:{} Score:{}'.format(episode, score))"
      ]
    },
    {
      "cell_type": "code",
      "execution_count": 7,
      "metadata": {
        "colab": {
          "base_uri": "https://localhost:8080/",
          "height": 1000
        },
        "id": "agkJzsGwT_Uc",
        "outputId": "53ab7a6a-04fc-4968-e6b5-f07eb32b5f66"
      },
      "outputs": [
        {
          "name": "stdout",
          "output_type": "stream",
          "text": [
            "Wrapping the env with a `Monitor` wrapper\n",
            "Wrapping the env in a DummyVecEnv.\n",
            "Time predict 1.5892610549926758\n",
            "Time model 21.4170343875885\n",
            "Episode reward -64054.77742946148\n",
            "[0.0, -1.5083221, -2.9611595, -4.2927847, -4.580603, -3.7953887, -3.4693959, -3.94697, -4.474853, -4.537405, -4.360054, -4.4036226, -4.6798596, -4.8979506, -4.9458847, -4.968148, -5.0925016, -5.2713094, -5.404956, -5.482831, -5.5625467, -5.672843, -5.788439, -5.8811245, -5.9554324, -6.032246, -6.1176887, -6.200927, -6.273712, -6.339978, -6.407551, -6.4786663, -6.5504694, -6.6204576, -6.6896734, -6.8010235, -7.0632405, -7.5360475, -8.200969, -9.009292, -9.889637, -10.789781, -11.68258, -12.555513, -13.401607, -14.220288, -15.01111, -15.771907, -16.504326, -17.207808, -17.882292, -18.5275, -19.13964, -19.713144, -20.234663, -20.670723, -20.95366, -20.94803, -20.447948, -19.334352, -17.748623, -15.958637, -14.127974, -12.316537, -10.540154, -8.809631, -7.137894, -5.551601, -4.5731983, -4.784898, -5.630304, -6.1553483, -6.1234612, -5.9614434, -6.0974994, -6.4262877, -6.7788906, -7.2721643, -8.018274, -8.940924, -9.915401, -10.883846, -11.823619, -12.727797, -13.595066, -14.426366, -15.225274, -15.993315, -16.731003, -17.43818, -18.116753, -18.769594, -19.396584, -19.99949, -20.579319, -21.13631, -21.670006, -22.17821, -22.6543, -23.059452, -23.267084, -23.029373, -22.186277, -20.888756, -19.259737, -17.412113, -15.535574, -13.685888, -11.87787, -10.113226, -8.3892765, -6.7134976, -5.130956, -4.32821, -4.7545877, -5.627809, -6.104162, -6.060186, -5.967157, -6.176363, -6.71342, -7.4971714, -8.434091, -9.450298, -10.458116, -11.431469, -12.363231, -13.254028, -14.106517, -14.922099, -15.702832, -16.45227, -17.172304, -17.863167, -18.526339, -19.163378, -19.775984, -20.365776, -20.933989, -21.481697, -22.008953, -22.516085, -23.002325, -23.462614, -23.87653, -24.170856, -24.149725, -23.563522, -22.411432, -20.950869, -19.299149, -17.484772, -15.619761, -13.773305, -11.96546, -10.198974, -8.473658, -6.7990494, -5.224413, -4.408437, -4.8138223, -5.698367, -6.2127056, -6.207929, -6.262763, -6.8240533, -7.711792, -8.71459, -9.741785, -10.741108, -11.699072, -12.615103, -13.491657, -14.333336, -15.141199, -15.914359, -16.6564, -17.367468, -18.04965, -18.70598, -19.336472, -19.943087, -20.527145, -21.089504, -21.63102, -22.15249, -22.655167, -23.139301, -23.600592, -24.035082, -24.430174, -24.727728, -24.758661, -24.25839, -23.164635, -21.71445, -20.15458, -18.461979, -16.62257, -14.771793, -12.951034, -11.164841, -9.417094, -7.7123737, -6.0817122, -4.709282, -4.4504995, -5.2761664, -6.079841, -6.352489, -6.5175548, -7.1136904, -8.021725, -9.048263, -10.074406, -11.065247, -12.0127325, -12.917813, -13.78356, -14.612151, -15.40509, -16.16649, -16.897955, -17.594315, -18.258047, -18.896763, -19.511436, -20.102085, -20.67087, -21.219013, -21.747284, -22.256582, -22.747707, -23.221476, -23.677517, -24.113426, -24.520552, -24.866627, -25.043873, -24.815018, -23.990223, -22.684317, -21.16534, -19.564075, -17.843946, -16.02819, -14.213064, -12.426425, -10.666083, -8.93822, -7.258954, -5.662584, -4.556085, -4.64284, -5.5417147, -6.2384524, -6.5710115, -7.0236115, -7.853665, -8.860503, -9.886752, -10.8827915, -11.8365555, -12.74809, -13.616096, -14.440854, -15.231001, -15.989437, -16.716465, -17.414536, -18.085896, -18.732061, -19.352499, -19.949594, -20.524874, -21.078352, -21.61149, -22.125488, -22.621202, -23.099571, -23.560608, -24.003246, -24.423697, -24.807226, -25.099073, -25.13822, -24.667677, -23.611414, -22.187416, -20.638971, -19.002182, -17.241259, -15.423227, -13.617134, -11.846325, -10.1064, -8.394966, -6.734536, -5.193761, -4.4979935, -5.010393, -5.8932443, -6.386053, -6.762519, -7.5071335, -8.482007, -9.51507, -10.525452, -11.489267, -12.413841, -13.300363, -14.145514, -14.950936, -15.719436, -16.45603, -17.16495, -17.846779, -18.501549, -19.13022, -19.73504, -20.31776, -20.879095, -21.420061, -21.94142, -22.444057, -22.92879, -23.396486, -23.847002, -24.278719, -24.68586, -25.046385, -25.282202, -25.190582, -24.532585, -23.330597, -21.842476, -20.280695, -18.627682, -16.847645, -15.034, -13.239139, -11.47157, -9.726335, -8.022349, -6.387562, -4.9159846, -4.478163, -5.2201095, -6.0762115, -6.577112, -7.0768723, -7.918913, -8.929982, -9.955683, -10.949018, -11.898206, -12.803333, -13.666564, -14.48952, -15.277965, -16.034752, -16.759787, -17.455927, -18.125834, -18.770607, -19.389706, -19.985514, -20.559553, -21.11184, -21.643831, -22.15673, -22.651402, -23.128822, -23.589132, -24.031693, -24.454254, -24.847664, -25.176167, -25.323229, -25.045374, -24.170046, -22.833956, -21.302206, -19.731009, -18.056225, -16.254753, -14.441369, -12.651325, -10.894813, -9.171164, -7.4843574, -5.8741264, -4.6449866, -4.590175, -5.479919, -6.2432313, -6.7420535, -7.3922954, -8.324987, -9.353591, -10.372118, -11.352262, -12.287232, -13.178341, -14.027852, -14.837468, -15.609988, -16.350443, -17.063086, -17.748495, -18.406706, -19.040237, -19.649767, -20.235472, -20.799652, -21.34336, -21.867365, -22.372557, -22.859766, -23.329897, -23.782898, -24.217497, -24.629177, -25.000559, -25.268488, -25.255796, -24.709679, -23.592247, -22.14077, -20.586134, -18.954472, -17.20114, -15.388053, -13.58569, -11.817785, -10.080303, -8.370965, -6.71372, -5.181838, -4.5179486, -5.0546756, -5.9345427, -6.49408, -6.991725, -7.819472, -8.828599, -9.857088, -10.854017, -11.806769, -12.7153, -13.58176, -14.407784, -15.19916, -15.958757, -16.686888, -17.386011, -18.058378, -18.705515, -19.326883, -19.924873, -20.501017, -21.055326, -21.58927, -22.104055, -22.600557, -23.079782, -23.541948, -23.986683, -24.412876, -24.814474, -25.167202, -25.387583, -25.265213, -24.56856, -23.33932, -21.839607, -20.274912, -18.625557, -16.851006, -15.040017, -13.246527, -11.479797, -9.734803, -8.030754, -6.3966093, -4.9258676, -4.489851, -5.234038, -6.092115, -6.6411576, -7.223646, -8.11204, -9.133591, -10.156557, -11.143775, -12.086197, -12.984597, -13.841317, -14.658029, -15.437135, -16.184872, -16.904545, -17.595596, -18.259205, -18.89789, -19.512533, -20.103153, -20.671913, -21.220036, -21.748295, -22.257597, -22.748795, -23.222847, -23.679861, -24.119099, -24.537947, -24.925909, -25.242786, -25.360716, -25.029642, -24.100677, -22.735813, -21.196087, -19.61552, -17.930943, -16.129374, -14.318984, -12.533312, -10.781283, -9.062393, -7.3816867, -5.782251, -4.621022, -4.644261, -5.5444984, -6.277118, -6.7880673, -7.4970107, -8.458025, -9.491848, -10.508111, -11.478562, -12.403557, -13.290428, -14.135934, -14.941701, -15.710531, -16.447441, -17.156666, -17.838787, -18.49384, -19.12433, -19.730934, -20.313826, -20.875298, -21.416397, -21.937885, -22.440653, -22.925522, -23.393396, -23.844227, -24.276747, -24.68646, -25.05603, -25.322367, -25.308174, -24.760178, -23.640305, -22.186172, -20.628803, -19.000097, -17.252666, -15.440991, -13.637941, -11.868812, -10.129938, -8.418736, -6.758743, -5.2221994, -4.5273857, -5.0329175, -5.916176, -6.492939, -7.006241, -7.8413076, -8.852952, -9.881561, -10.8779, -11.829885, -12.737615, -13.603289, -14.428551, -15.219191, -15.97808, -16.705528, -17.403996, -18.075733, -18.722263, -19.343048, -19.94048, -20.516083, -21.069872, -21.603315, -22.117617, -22.613655, -23.092436, -23.554186, -23.998558, -24.424534, -24.82639, -25.181044, -25.40861, -25.30369, -24.629618, -23.415327, -21.920338, -20.354599, -18.708693, -16.939821, -15.128817, -13.333404, -11.5641575, -9.825717, -8.127269, -6.4868326, -4.9880157, -4.48882, -5.191978, -6.061908, -6.628873, -7.2142506, -8.101395, -9.12319, -10.146601, -11.13424, -12.0770445, -12.975799, -13.832848, -14.649869, -15.429268, -16.177286, -16.897228, -17.588537, -18.252394, -18.891317, -19.50619, -20.097029, -20.666002, -21.214329, -21.742786, -22.25228, -22.743666, -23.217909, -23.675137, -24.114677, -24.534159, -24.92395, -25.246834, -25.382473, -25.084906, -24.189547, -22.842049, -21.306242, -19.739365, -18.071991, -16.273668, -14.461431, -12.671709, -10.915192, -9.191113, -7.503589, -5.901303, -4.669303, -4.5966177, -5.4798727, -6.248073, -6.7785635, -7.4717264, -8.424274, -9.456539, -10.4733515, -11.450389, -12.381971, -13.269711, -14.115956, -14.922435, -15.691947, -16.429514, -17.13937, -17.8221, -18.477734, -19.108788, -19.715933, -20.299343, -20.861317, -21.402899, -21.924852, -22.428068, -22.913372, -23.381668, -23.832916, -24.265875, -24.67615, -25.046778, -25.315914, -25.308714, -24.771309, -23.66012, -22.210014, -20.653744, -19.02735, -17.282593, -15.471176, -13.667556, -11.897602, -10.157835, -8.445519, -6.783892, -5.2443643, -4.5310607, -5.018186, -5.903346, -6.4832606, -6.9955087, -7.829617, -8.840731, -9.869583, -10.866325, -11.818731, -12.726871, -13.592935, -14.41857, -15.209567, -15.968799, -16.696575, -17.395359, -18.0674, -18.714222, -19.335287, -19.932987, -20.50885, -21.06289, -21.596573, -22.111109, -22.60737, -23.086372, -23.548344, -23.992954, -24.419256, -24.821758, -25.178226, -25.411366, -25.319565, -24.662695, -23.460182, -21.969267, -20.403242, -18.759287, -16.993551, -15.182344, -13.385645, -11.614788, -9.874666, -8.174139, -6.5304794, -5.026811, -4.499215, -5.172928, -6.0441384, -6.6142616, -7.193755, -8.076246, -9.097438, -10.121457, -11.109958, -12.053646, -12.953255, -13.811124, -14.628927, -15.409072, -16.157804, -16.878435, -17.570406, -18.234898, -18.874432, -19.489891, -20.082222, -20.652649, -21.201454, -21.730354, -22.240278, -22.732079, -23.20673, -23.664375, -24.10439, -24.524572, -24.915924, -25.243402, -25.39231, -25.120441, -24.251724, -22.9185, -21.386248, -19.826609, -18.168915, -16.372688, -14.558834, -12.774055, -11.022048, -9.293983, -7.6011295, -5.990236, -4.703914, -4.563357, -5.431852, -6.221067, -6.759438, -7.4366417, -8.380433, -9.411343, -10.429041, -11.4075, -12.340594, -13.229821, -14.077502, -14.885356, -15.656184, -16.395012, -17.106087, -17.789986, -18.446745, -19.07888, -19.687065, -20.271479, -20.834415, -21.376926, -21.899775, -22.403854, -22.889996, -23.35911, -23.81118, -24.245043, -24.65658, -25.02984, -25.306301, -25.317524, -24.80801, -23.7193, -22.278801, -20.724005, -19.102419, -17.36389, -15.552638, -13.750032, -11.980466, -10.238011, -8.5224, -6.8628697, -5.3207736, -4.5423093, -4.9639435, -5.85541, -6.439401, -6.9378147, -7.7630935, -8.770068, -9.799917, -10.79886, -11.753657, -12.664153, -13.532485, -14.360289, -15.153367, -15.914597, -16.644289, -17.344913, -18.018724, -18.66725, -19.289951, -19.889225, -20.466604, -21.022795, -21.558561, -22.074419, -22.571949, -23.052181, -23.51537, -23.961246, -24.389086, -24.794193, -25.157207, -25.409771, -25.364595, -24.771389, -23.614452, -22.14186, -20.577477, -18.943657, -17.192013, -15.380207, -13.578785, -11.811641, -10.074816, -8.366001, -6.7095203, -5.1799583, -4.5234203, -5.066387, -5.9461985, -6.532309, -7.075087, -7.9278307, -8.944458, -9.971796, -10.965331, -11.914245, -12.818937, -13.68168, -14.504135, -15.288719, -16.041714, -16.766447, -17.462358, -18.13204, -18.7766, -19.395493, -19.991102, -20.56495, -21.117054, -21.64887, -22.161604, -22.656126, -23.133436, -23.593742, -24.036642, -24.460709, -24.859766, -25.208548, -25.4197, -25.278055, -24.557673, -23.312656, -21.807142, -20.242125, -18.593378, -16.819225, -15.00946, -13.217315, -11.451911, -9.708178, -8.005518, -6.373656, -4.9123507, -4.4957767, -5.252168, -6.1074233, -6.670289, -7.28367, -8.1891775, -9.214122, -10.235781, -11.220525, -12.160262, -13.0560055, -13.909957, -14.7240095, -15.500771, -16.245094, -16.961454, -17.650484, -18.31217, -18.949007, -19.56187, -20.15078, -20.717894, -21.26443, -21.791157, -22.298985, -22.788754, -23.261423, -23.717075, -24.154919, -24.572136, -24.957506, -25.268326, -25.370651, -25.011847, -24.056087, -22.677582, -21.134516, -19.548428, -17.857517, -16.055859, -14.247333, -12.464071, -10.705713, -8.980923, -7.3045483, -5.7130466, -4.604319, -4.6854367, -5.5898185, -6.300212, -6.810953, -7.54513, -8.512457, -9.538334, -10.543274, -11.506377, -12.425527, -13.306726, -14.151577, -14.956795, -15.725096, -16.461494, -17.170227, -17.851871, -18.506466, -19.134968, -19.739626, -20.32219, -20.883373, -21.424194, -21.945415, -22.447927, -22.932556, -23.400217, -23.850899, -24.283468, -24.6939, -25.066534, -25.343678, -25.35818, -24.853495, -23.76744, -22.326181, -20.76861, -19.148684, -17.414103, -15.603016, -13.799322, -12.0283, -10.284306, -8.566821, -6.904593, -5.3575664, -4.5469775, -4.936554, -5.8313313, -6.4202557, -6.9162946, -7.739554, -8.745333, -9.77565, -10.775408, -11.731058, -12.642383, -13.511508, -14.340067, -15.133868, -15.895792, -16.62615, -17.327414, -18.001837, -18.650955, -19.274223, -19.874044, -20.45195, -21.008646, -21.544903, -22.061232, -22.559217, -23.039894, -23.503525, -23.949877, -24.37833, -24.784588, -25.150711, -25.412909, -25.391932, -24.833595, -23.702967, -22.240463, -20.676466, -19.048525, -17.305716, -15.494537, -13.690555, -11.920045, -10.179671, -8.466536, -6.8036857, -5.2621207, -4.5347776, -5.0077834, -5.894748, -6.485336, -7.008847, -7.848492, -8.861583, -9.89046, -10.886671, -11.838408, -12.745862, -13.611254, -14.436238, -15.226609, -15.985237, -16.712435, -17.41066, -18.082165, -18.72847, -19.34904, -19.946262, -20.521666, -21.075262, -21.60852, -22.122644, -22.618513, -23.097134, -23.558746, -24.003033, -24.428871, -24.831188, -25.18866, -25.425852, -25.34434, -24.701365, -23.508429, -22.022312, -20.457373, -18.816216, -17.054785, -15.243814, -13.445943, -11.673355, -9.931387, -8.228532, -6.581299, -5.06999, -4.5082417, -5.1437697, -6.0149245, -6.6015916, -7.1885467, -8.07188, -9.093806, -10.118202, -11.106922, -12.050765, -12.950501, -13.808481, -14.626385, -15.406623, -16.155445, -16.87616, -17.56821, -18.232779, -18.872389, -19.48792, -20.080318, -20.650812, -21.19968, -21.728643, -22.238626, -22.730488, -23.205204, -23.662931, -24.10309, -24.523642, -24.916159, -25.247604, -25.40862, -25.16109, -24.318342, -22.999336, -21.47062, -19.908903, -18.252207, -16.459099, -14.644356, -12.857411, -11.10287, -9.371794, -7.675045, -6.0581036, -4.734873, -4.544956, -5.399352, -6.2023473, -6.750329, -7.422779, -8.363235, -9.393723, -10.411818, -11.390854, -12.324548, -13.214358, -14.062599, -14.870988, -15.642326, -16.381645, -17.093191, -17.777544, -18.434738, -19.067293, -19.675882, -20.260683, -20.823992, -21.366863, -21.890059, -22.394476, -22.880943, -23.350382, -23.802788, -24.237064, -24.64931, -25.024363, -25.306303, -25.331905, -24.844809, -23.774542, -22.341896, -20.788076, -19.171303, -17.439188, -15.628358, -13.824172, -12.052428, -10.307652, -8.589227, -6.92566, -5.3761697, -4.5494056, -4.9227734, -5.819004, -6.4078317, -6.898956, -7.7191124, -8.723393, -9.753954, -10.754375, -11.710765, -12.622821, -13.492651, -14.32641, -15.125305, -15.887616, -16.618265, -17.319805, -17.994497, -18.64407, -19.26778, -19.867828, -20.44595, -21.002853, -21.53931, -22.05583, -22.554003, -23.03486, -23.498667, -23.945652, -24.374746, -24.781233, -25.147814, -25.411268, -25.393372, -24.839506, -23.712301, -22.25114, -20.687227, -19.059805, -17.317741, -15.506504, -13.705054, -11.936967, -10.196061, -8.482239, -6.8183875, -5.274908, -4.5361295, -4.997848, -5.8859596, -6.476005, -6.995248, -7.8324795, -8.844565, -9.873671, -10.870403, -11.822715, -12.730734, -13.596671, -14.422179, -15.213052, -15.97216, -16.69982, -17.39849, -18.070421, -18.717138, -19.338102, -19.935703, -20.511473, -21.065424, -21.59902, -22.113472, -22.609655, -23.088585, -23.550499, -23.995094, -24.421522, -24.824636, -25.183462, -25.424576, -25.35234, -24.721865, -23.537764, -22.054836, -20.489895, -18.850183, -17.090927, -15.279816, -13.481056, -11.707361, -9.964241, -8.259988, -6.610618, -5.0950603, -4.5121655, -5.1270895, -5.9999795, -6.5869308, -7.1652174, -8.04261, -9.063587, -10.088615, -11.078319, -12.02319, -12.923928, -13.78287, -14.601694, -15.382811, -16.132475, -16.854002, -17.546833, -18.212149, -18.852478, -19.468704, -20.06177, -20.632906, -21.182392, -21.711952, -22.222511, -22.71493, -23.19019, -23.64846, -24.089207, -24.510536, -24.90457, -25.240177, -25.413206, -25.190062, -24.37413, -23.070482, -21.546925, -19.985928, -18.331497, -16.540985, -14.72955, -12.9447155, -11.187463, -9.45318, -7.752352, -6.1290436, -4.7692714, -4.52733, -5.3636227, -6.179559, -6.7319846, -7.391096, -8.323891, -9.353218, -10.37213, -11.352452, -12.287505, -13.178652, -14.028179, -14.837799, -15.610316, -16.350765, -17.0634, -17.7488, -18.407001, -19.040525, -19.650045, -20.23574, -20.799913, -21.343616, -21.867615, -22.372805, -22.860022, -23.330193, -23.783337, -24.218428, -24.631819, -25.009283, -25.297981, -25.341097, -24.881855, -23.835152, -22.412945, -20.860823, -19.24954, -17.524464, -15.717806, -13.915538, -12.141028, -10.393241, -8.671259, -7.0026603, -5.4438114, -4.5558505, -4.8679566, -5.7696066, -6.376246, -6.863485, -7.6679006, -8.665521, -9.695912, -10.697872, -11.656164, -12.570157, -13.441874, -14.277454, -15.078102, -15.84209, -16.574347, -17.277431, -17.95361, -18.604614, -19.229698, -19.831068, -20.410463, -20.968596, -21.506477, -22.024374, -22.523632, -23.00554, -23.470371, -23.91838, -24.348593, -24.756613, -25.126337, -25.398443, -25.402147, -24.88064, -23.779217, -22.328943, -20.766653, -19.14467, -17.409678, -15.598606, -13.795059, -12.024218, -10.280411, -8.563115, -6.901144, -5.354694, -4.5471554, -4.9397116, -5.834377, -6.4278283, -6.931396, -7.758768, -8.766254, -9.796461, -10.795629, -11.750589, -12.661219, -13.52967, -14.35758, -15.150758, -15.912083, -16.641867, -17.342575, -18.016468, -18.665073, -19.287851, -19.887197, -20.464647, -21.020906, -21.55674, -22.07266, -22.570253, -23.05055, -23.513813, -23.959805, -24.387896, -24.793747, -25.159271, -25.420208, -25.396446, -24.834148, -23.700418, -22.236567, -20.672289, -19.044436, -17.301802, -15.490857, -13.687089, -11.916774, -10.176578, -8.463614, -6.801015, -5.260036, -4.5354004, -5.0109386, -5.8976774, -6.4914627, -7.0204554, -7.8629103, -8.877056, -9.905787, -10.901545, -11.85277, -12.759709, -13.624604, -14.449112, -15.239024, -15.997211, -16.723986, -17.421804, -18.092918, -18.738848, -19.359056, -19.95593, -20.530998, -21.084274, -21.617222, -22.131046, -22.626625, -23.104967, -23.566305, -24.010323, -24.435875, -24.837826, -25.194613, -25.430082, -25.34469, -24.696568, -23.499979, -22.01083, -20.444345, -18.803122, -17.041328, -15.230622, -13.433187, -11.661072, -9.919573, -8.217259, -6.5708637, -5.0613203, -4.507415, -5.1503544, -6.0207777, -6.608712, -7.201262, -8.08808, -9.11064, -10.134727, -11.122914, -12.066191, -12.965369, -13.822813, -14.640203, -15.4199505, -16.1683, -16.888561, -17.580177, -18.244326, -18.883532, -19.498676, -20.090702, -20.660835, -21.209356, -21.737986, -22.247648, -22.739197, -23.213612, -23.671038, -24.110884, -24.531048, -24.922886, -25.252605, -25.408802, -25.151724, -24.298702, -22.973923, -21.443588, -19.882431, -18.225565, -16.431675, -14.617328, -12.83114, -11.077451, -9.347349, -7.6518426, -6.036872, -4.7252765, -4.5511875, -5.4104443, -6.20929, -6.7565436, -7.43408, -8.377306, -9.408231, -10.426044, -11.404626, -12.337835, -13.227168, -14.074948, -14.882895, -15.653812, -16.392725, -17.10388, -17.787857, -18.44469, -19.076899, -19.685154, -20.269632, -20.832632, -21.375206, -21.898113, -22.402252, -22.88845, -23.357628, -23.809774, -24.243773, -24.655657, -25.030027, -25.31016, -25.331202, -24.836987, -23.76077, -22.325476, -20.771177, -19.153198, -17.419567, -15.608716, -13.80499, -12.033844, -10.289695, -8.572011, -6.9095025, -5.361987, -4.547941, -4.9339924, -5.829022, -6.4179487, -6.9129543, -7.735505, -8.740936, -9.771282, -10.771166, -11.726962, -12.6384325, -13.5077, -14.336394, -15.130326, -15.892376, -16.622856, -17.324234, -17.99877, -18.648193, -19.271759, -19.87167, -20.449657, -21.006433, -21.542767, -22.059168, -22.557224, -23.037971, -23.501669, -23.948086, -24.376606, -24.782944, -25.149195, -25.411684, -25.391375, -24.83399, -23.704096, -22.241907, -20.677963, -19.050049, -17.30727, -15.496054, -13.692013, -11.921443, -10.18101, -8.467811, -6.8048697, -5.2631097, -4.5347443, -5.006763, -5.8938227, -6.483845, -7.006223, -7.845279, -8.858141, -9.887055, -10.883368, -11.83522, -12.742788, -13.60829, -14.433381, -15.223854, -15.982579, -16.70987, -17.408186, -18.079777, -18.726166, -19.346815, -19.944117, -20.519592, -21.073263, -21.606588, -22.12078, -22.616713, -23.095396, -23.557068, -24.001415, -24.42732, -24.82973, -25.187387, -25.42508, -25.344717, -24.703281, -23.511429, -22.025696, -20.460766, -18.819735, -17.058489, -15.247487, -13.449516, -11.676809, -9.934718, -8.231717, -6.5842595, -5.0724936, -4.508573, -5.142004, -6.013329, -6.599756, -7.1853757, -8.067861, -9.089636, -10.114112, -11.102965, -12.046949, -12.946823, -13.804935, -14.622967, -15.403326, -16.152266, -16.873093, -17.56525, -18.229923, -18.869633, -19.48526, -20.077751, -20.648333, -21.197287, -21.726332, -22.236395, -22.728334, -23.203125, -23.660927, -24.101166, -24.521816, -24.914516, -25.246445, -25.408827, -25.164024, -24.324236, -23.00692, -21.479525, -19.918377, -18.261631, -16.46874, -14.653834, -12.866612, -11.111765, -9.380343, -7.6831574, -6.065519, -4.7382436, -4.542754, -5.395365, -6.1997976, -6.7479963, -7.418595, -8.358044, -9.388376, -10.406577, -11.385783, -12.319655, -13.209642, -14.058052, -14.866604, -15.638098, -16.377565, -17.089254, -17.773746, -18.431074, -19.063757, -19.67247, -20.257387, -20.820812, -21.363792, -21.887094, -22.391613, -22.87818, -23.347713, -23.800217, -24.234598, -24.646982, -25.02232, -25.305023, -25.332567, -24.84851, -23.78079, -22.349272, -20.79565, -19.179438, -17.448023, -15.637207, -13.832816, -12.060805, -10.315748, -8.596989, -6.9329486, -5.3825784, -4.550096, -4.917751, -5.814512, -6.403402, -6.892953, -7.7121205, -8.715918, -9.746572, -10.747224, -11.703866, -12.616171, -13.486242, -14.320232, -15.119349, -15.881872, -16.612724, -17.314459, -17.989338, -18.639091, -19.262976, -19.86319, -20.441471, -20.998531, -21.53538, -22.05228, -22.55058, -23.031555, -23.49548, -23.942587, -24.371824, -24.778545, -25.1457, -25.410858, -25.397255, -24.84973, -23.72744, -22.268213, -20.704414, -19.078026, -17.337423, -15.526205, -13.724302, -11.955625, -10.214099, -8.499532, -6.8345966, -5.28908, -4.5377917, -4.9871187, -5.8765106, -6.4669695, -6.9830227, -7.818348, -8.829593, -9.858918, -10.856118, -11.808937, -12.717455, -13.583873, -14.40984, -15.201152, -15.960685, -16.68875, -17.38781, -18.060116, -18.707191, -19.328503, -19.92644, -20.50253, -21.056787, -21.590683, -22.105421, -22.601883, -23.081081, -23.543262, -23.988136, -24.414896, -24.818571, -25.178787, -25.424026, -25.361698, -24.74476, -23.570377, -22.091042, -20.526154, -18.890366, -17.135857, -15.324574, -13.5247135, -11.759402, -10.024447, -8.317829, -6.6646304, -5.1416125, -4.5195346, -5.09606, -5.972517, -6.5619016, -7.126722, -7.994276, -9.013695, -10.039779, -11.031114, -11.977685, -12.880081, -13.740613, -14.560955, -15.343519, -16.094576, -16.817442, -17.511559, -18.17811, -18.819628, -19.436998, -20.031166, -20.603361, -21.15387, -21.684412, -22.19592, -22.689257, -23.165415, -23.624582, -24.066292, -24.488897, -24.88543, -25.227804, -25.420494, -25.238668, -24.470001, -23.194513, -21.679268, -20.115973, -18.4646, -16.680273, -14.867377, -13.078941, -11.317931, -9.579219, -7.882731, -6.2601266, -4.8428054, -4.5080867, -5.3033295, -6.139378, -6.7032804, -7.3450255, -8.266556, -9.294187, -10.314301, -11.296504, -12.233546, -13.126643, -13.978046, -14.78966, -15.56409, -16.306177, -17.020384, -17.707296, -18.366951, -19.001873, -19.61274, -20.199728, -20.765146, -21.31005, -21.835205, -22.341513, -22.829813, -23.301044, -23.755259, -24.191536, -24.606623, -24.9877, -25.286657, -25.356985, -24.942669, -23.935417, -22.531237, -20.982456, -19.381517, -17.669329, -15.863463, -14.058025, -12.279569, -10.527506, -8.809925, -7.1432767, -5.5689745, -4.5763245, -4.7800746, -5.684881, -6.341566, -6.8394294, -7.6104083, -8.594235, -9.622653, -10.62603, -11.586564, -12.502954, -13.377044, -14.214935, -15.017813, -15.783937, -16.518248, -17.223305, -17.90138, -18.55421, -19.181051, -19.78411, -20.365131, -20.924831, -21.464222, -21.984064, -22.485247, -22.968594, -23.435017, -23.884502, -24.315912, -24.72519, -25.09654, -25.371729, -25.38232, -24.871504, -23.779583, -22.33454, -20.774641, -19.154194, -17.42012, -15.609092, -13.805303, -12.034135, -10.289982, -8.572285, -6.9097457, -5.362203, -4.547852, -4.9336333, -5.828877, -6.4206944, -6.9198546, -7.744701, -8.7510805, -9.781421, -10.781034, -11.736502, -12.647635, -13.516575, -14.3449545, -15.138582, -15.900339, -16.630537, -17.331646, -18.005922, -18.654896, -19.278027, -19.877716, -20.455494, -21.01207, -21.548208, -22.064423, -22.562298, -23.04287, -23.506401, -23.952662, -24.38104, -24.787285, -25.153591, -25.416626, -25.397959, -24.843079, -23.7151, -22.253584, -20.689554, -19.062605, -17.32121, -15.510186, -13.708767, -11.940643, -10.1996765, -8.485744, -6.8217297, -5.2780423, -4.5372667, -4.9968843, -5.885246, -6.478231, -7.0011477, -7.8401875, -8.852929, -9.881989, -10.878488, -11.830524, -12.738267, -13.603935, -14.429184, -15.219808, -15.978677, -16.706106, -17.404554, -18.076273, -18.722786, -19.343554, -19.940966, -20.516552, -21.070328, -21.603754, -22.118044, -22.61407, -23.092848, -23.554615, -23.999071, -24.425364, -24.82835, -25.18706, -25.428085, -25.355825, -24.725353, -23.541235, -22.058245, -20.493195, -18.853785, -17.09499, -15.283973, -13.485173, -11.711392, -9.968169, -8.263773, -6.614186, -5.098262, -4.5131025, -5.125728, -5.9988275, -6.5873857, -7.1674514, -8.04571, -9.066914, -10.091918, -11.081529, -12.026292, -12.926922, -13.785757, -14.604479, -15.385496, -16.135065, -16.8565, -17.549244, -18.214478, -18.854725, -19.470871, -20.063864, -20.634926, -21.184343, -21.713835, -22.224329, -22.716686, -23.191887, -23.650099, -24.090794, -24.512087, -24.90612, -25.241867, -25.415443, -25.19351, -24.378933, -23.07604, -21.55265, -19.9915, -18.33722, -16.547026, -14.735574, -12.95061, -11.193194, -9.458708, -7.7576137, -6.1339135, -4.7718797, -4.526577, -5.3616056, -6.1783857, -6.732007, -7.3916993, -8.324692, -9.354074, -10.372981, -11.353281, -12.288308, -13.179427, -14.028927, -14.838521, -15.611012, -16.351439, -17.064049, -17.749426, -18.407604, -19.041107, -19.650608, -20.236284, -20.800438, -21.344122, -21.868103, -22.373276, -22.860477, -23.330635, -23.783768, -24.218851, -24.632261, -25.009827, -25.2989, -25.343084, -24.885603, -23.840406, -22.418839, -20.866772, -19.255995, -17.5316, -15.725012, -13.9226055, -12.147892, -10.399881, -8.677631, -7.008656, -5.449131, -4.5565343, -4.8639536, -5.7659864, -6.3750305, -6.8632307, -7.666805, -8.664081, -9.694417, -10.696403, -11.65474, -12.568781, -13.440546, -14.276175, -15.076868, -15.840899, -16.573198, -17.276323, -17.952541, -18.603582, -19.228703, -19.830107, -20.409536, -20.9677, -21.505611, -22.023539, -22.522827, -23.00476, -23.46962, -23.917656, -24.347897, -24.755955, -25.125753, -25.398054, -25.40226, -24.881546, -23.7808, -22.33085, -20.768639, -19.146856, -17.412107, -15.601066, -13.797477, -12.02657, -10.282692, -8.565307, -6.9032083, -5.3565297, -4.5474453, -4.938451, -5.8332725, -6.4270506, -6.9306364, -7.757979, -8.765433, -9.795657, -10.794852, -11.749843, -12.6605, -13.528976, -14.356913, -15.150114, -15.911462, -16.641266, -17.341997, -18.015911, -18.664536, -19.28733, -19.886696, -20.464165, -21.02044, -21.556288, -22.072226, -22.569832, -23.050144, -23.513422, -23.95943, -24.387543, -24.793436, -25.159079, -25.420382, -25.397558, -24.836643, -23.70398, -22.240545, -20.67629, -19.04869, -17.306414, -15.495484, -13.691615, -11.921165, -10.180826, -8.4676895, -6.8048353, -5.263382, -4.535848, -5.008514, -5.8955517, -6.4895787, -7.0180383, -7.8601627, -8.874163, -9.902943, -10.898791, -11.850115, -12.757152, -13.622138, -14.446735, -15.2367325, -15.995001, -16.721853, -17.419748, -18.090933, -18.736933, -19.357206, -19.954145, -20.529276, -21.082611, -21.615616, -22.129496, -22.625128, -23.103521, -23.564913, -24.008984, -24.434603, -24.836674, -25.193775, -25.430185, -25.347027, -24.70189, -23.50739, -22.020618, -20.455555, -18.814497, -17.05322, -15.242385, -13.44462, -11.672124, -9.930236, -8.227457, -6.580342, -5.0693445, -4.5086546, -5.1451116, -6.0162044, -6.6046486, -7.195099, -8.080409, -9.102743, -10.127002, -11.115449, -12.058994, -12.958435, -13.816129, -14.6337595, -15.413736, -16.162306, -16.882778, -17.574598, -18.238943, -18.878336, -19.49366, -20.085861, -20.656162, -21.204845, -21.73363, -22.243443, -22.735138, -23.209692, -23.667263, -24.107264, -24.52764, -24.919903, -25.250807, -25.410423, -25.160173, -24.314495, -22.993818, -21.464598, -19.902979, -18.246317, -16.453127, -14.638516, -12.851763, -11.097425, -9.366568, -7.670093, -6.053603, -4.7329435, -4.546542, -5.402063, -6.2041926, -6.752829, -7.4276695, -8.369342, -9.400035, -10.4180155, -11.396857, -12.33034, -13.219944, -14.067985, -14.876181, -15.647336, -16.386478, -17.097853, -17.782042, -18.43908, -19.071482, -19.679926, -20.264585, -20.82776, -21.370502, -21.893572, -22.397867, -22.884218, -23.353542, -23.80584, -24.240004, -24.65212, -25.026985, -25.308508, -25.33312, -24.844498, -23.77293, -22.339666, -20.785698, -19.168802, -17.43656, -15.625768, -13.821664, -12.0500145, -10.305332, -8.587008, -6.9235883, -5.3743896, -4.5493703, -4.924457, -5.8205338, -6.409955, -6.902458, -7.7233934, -8.728022, -9.758543, -10.758828, -11.715062, -12.626964, -13.496646, -14.330261, -15.129018, -15.891197, -16.62172, -17.32314, -17.997713, -18.647173, -19.270775, -19.870718, -20.44874, -21.005548, -21.541912, -22.058342, -22.556427, -23.0372, -23.500927, -23.94737, -24.375923, -24.782314, -25.148691, -25.411552, -25.392181, -24.836176, -23.707335, -22.245552, -20.68163, -19.053938, -17.311476, -15.500266, -13.6989765, -11.931087, -10.190384, -8.476803, -6.813301, -5.2704935, -4.535708, -5.001361, -5.8890657, -6.479352, -7.0001636, -7.8382764, -8.850729, -9.879752, -10.876295, -11.828399, -12.736214, -13.6019535, -14.427272, -15.217962, -15.976897, -16.70439, -17.402899, -18.074675, -18.721243, -19.342064, -19.939528, -20.515165, -21.068987, -21.60246, -22.116795, -22.612864, -23.09168, -23.553486, -23.99797, -24.424265, -24.827171, -25.185497, -25.425169, -25.349512, -24.714401, -23.527021, -22.042908, -20.477953, -18.837692, -17.077623, -15.266559, -13.468125, -11.694837, -9.95214, -8.248401, -6.5998144, -5.08581, -4.510739, -5.133293, -6.005522, -6.5922866, -7.1736956, -8.053268, -9.074596, -10.099395, -11.08874, -12.0332365, -12.93361, -13.792201, -14.61069, -15.391486, -16.140844, -16.862074, -17.554623, -18.219666, -18.859732, -19.475704, -20.06853, -20.63943, -21.188692, -21.718033, -22.228382, -22.720598, -23.19566, -23.653732, -24.094265, -24.515314, -24.9088, -25.24291, -25.411608, -25.179602, -24.35384, -23.044518, -21.51935, -19.958885, -18.304092, -16.512573, -14.701466, -12.917374, -11.160981, -9.427695, -7.7281346, -6.1067863, -4.758088, -4.532324, -5.374609, -6.186656, -6.7375627, -7.4005656, -8.3356495, -9.365321, -10.383987, -11.363925, -12.298572, -13.189319, -14.038461, -14.847713, -15.619878, -16.35999, -17.072298, -17.757387, -18.415287, -19.048521, -19.657764, -20.24319, -20.807106, -21.350561, -21.87432, -22.379278, -22.86627, -23.336224, -23.789146, -24.223991, -24.637032, -25.01375, -25.300333, -25.337929, -24.869823, -23.815556, -22.389975, -20.837309, -19.224213, -17.4968, -15.686133, -13.880641, -12.107155, -10.360524, -8.639904, -6.9732227, -5.4179325, -4.553428, -4.889074, -5.7887506, -6.383425, -6.8682704, -7.680265, -8.680868, -9.711685, -10.713343, -11.671155, -12.584632, -13.455838, -14.290922, -15.091089, -15.854617, -16.586432, -17.289093, -17.96486, -18.61547, -19.240177, -19.841185, -20.420229, -20.978024, -21.51558, -22.033163, -22.53212, -23.013737, -23.478287, -23.926027, -24.355984, -24.76377, -25.133295, -25.405266, -25.4089, -24.887255, -23.785498, -22.33475, -20.771923, -19.150047, -17.415508, -15.604456, -13.800784, -12.029775, -10.28579, -8.568278, -6.9059954, -5.358979, -4.5477076, -4.936534, -5.831586, -6.4257812, -6.9293265, -7.7565985, -8.764001, -9.794259, -10.793505, -11.748545, -12.65925, -13.527773, -14.355752, -15.148995, -15.910382, -16.640226, -17.340994, -18.014942, -18.6636, -19.286428, -19.885826, -20.463324, -21.019629, -21.555506, -22.071468, -22.569101, -23.04944, -23.512745, -23.95878, -24.38693, -24.792904, -25.158772, -25.420786, -25.399778, -24.841541, -23.710947, -22.248322, -20.684103, -19.057005, -17.31544, -15.50454, -13.703322, -11.935414, -10.194659, -8.480959, -6.817281, -5.2742877, -4.5373006, -5.0005927, -5.8885994, -6.4832735, -7.009802, -7.850749, -8.86423, -9.8931675, -10.889331, -11.84099, -12.748358, -13.613664, -14.438564, -15.228853, -15.987401, -16.714523, -17.412676, -18.084108, -18.730347, -19.350851, -19.94801, -20.523354, -21.076893, -21.610094, -22.124165, -22.619982, -23.098555, -23.560122, -24.004377, -24.430225, -24.832687, -25.190786, -25.430172, -25.354094, -24.71847, -23.53067, -22.046314, -20.481228, -18.84137, -17.08189, -15.270976, -13.472528, -11.699167, -9.956375, -8.252492, -6.6036882, -5.0893517, -4.511978, -5.132149, -6.004595, -6.593745, -7.178264, -8.059437, -9.081149, -10.105879, -11.095035, -12.039315, -12.939473, -13.797855, -14.616142, -15.396746, -16.145918, -16.866968, -17.559343, -18.224222, -18.86413, -19.47995, -20.072626, -20.643385, -21.19251, -21.72172, -22.231943, -22.724035, -23.19898, -23.65694, -24.097366, -24.518316, -24.91173, -25.245844, -25.414764, -25.183327, -24.3582, -23.049196, -21.524052, -19.963446, -18.308826, -16.51763, -14.70654, -12.9223585, -11.165842, -9.43239, -7.732609, -6.110946, -4.760339, -4.5318027, -5.37312, -6.185925, -6.7384377, -7.402863, -8.338565, -9.368364, -10.386988, -11.366836, -12.301383, -13.192031, -14.041077, -14.850236, -15.622312, -16.362337, -17.074564, -17.759571, -18.417395, -19.050556, -19.659729, -20.245089, -20.808937, -21.352327, -21.876026, -22.380926, -22.867863, -23.33776, -23.790634, -24.225435, -24.638453, -25.015215, -25.302065, -25.34047, -24.8737, -23.820559, -22.395428, -20.842752, -19.23013, -17.503386, -15.696703, -13.894936, -12.121084, -10.373997, -8.652825, -6.985363, -5.4286427, -4.5545897, -4.880646, -5.7811637, -6.3807817, -6.867177, -7.6768727, -8.676568, -9.707249, -10.708987, -11.666934, -12.580556, -13.451906, -14.287129, -15.087433, -15.8510895, -16.583029, -17.285809, -17.961693, -18.612413, -19.237226, -19.838335, -20.417479, -20.975368, -21.513016, -22.03069, -22.52973, -23.011429, -23.476059, -23.923878, -24.353909, -24.761778, -25.13142, -25.40364, -25.407858, -24.887136, -23.786198, -22.335886, -20.773249, -19.151594, -17.417257, -15.606237, -13.80254, -12.0314865, -10.287452, -8.569876, -6.9075017, -5.3603253, -4.547941, -4.935647, -5.830809, -6.4252763, -6.928884, -7.7561545, -8.763543, -9.793813, -10.793074, -11.74813, -12.658851, -13.527388, -14.355381, -15.148638, -15.910038, -16.639893, -17.340673, -18.014633, -18.663301, -19.28614, -19.885548, -20.463055, -21.019367, -21.555254, -22.071226, -22.568869, -23.049215, -23.512527, -23.958572, -24.386736, -24.792734, -25.158674, -25.420918, -25.400497, -24.843122, -23.713179, -22.250801, -20.686596, -19.059658, -17.318321, -15.507433, -13.706153, -11.938161, -10.197316, -8.483508, -6.819672, -5.2763877, -4.5375795, -4.9990625, -5.887256, -6.4820952, -7.008309, -7.8490567, -8.862449, -9.891417, -10.887636, -11.839356, -12.746783, -13.612145, -14.4371, -15.227442, -15.986041, -16.71321, -17.41141, -18.082888, -18.729168, -19.349712, -19.946913, -20.522293, -21.075869, -21.609106, -22.12321, -22.619059, -23.097664, -23.559265, -24.003553, -24.429443, -24.83198, -25.190271, -25.430233, -25.355524, -24.721767, -23.535309, -22.051447, -20.486368, -18.846767, -17.087658, -15.276734, -13.47815, -11.704617, -9.961643, -8.257538, -6.6083965, -5.093393, -4.5126376, -5.1295075, -6.0022416, -6.591588, -7.1749716, -8.055335, -9.076927, -10.10175, -11.091044, -12.03547, -12.935768, -13.794285, -14.6127, -15.393426, -16.142715, -16.86388, -17.556364, -18.221346, -18.861355, -19.47727, -20.07004, -20.64089, -21.1901, -21.719393, -22.229696, -22.721867, -23.196888, -23.654922, -24.095432, -24.516495, -24.910133, -25.244877, -25.41563, -25.187944, -24.366972, -23.060356, -21.53588, -19.975039, -18.320585, -16.52983, -14.718604, -12.934107, -11.177223, -9.443344, -7.743018, -6.120515, -4.7651477, -4.5296726, -5.368435, -6.182915, -6.736154, -7.3990374, -8.333825, -9.36349, -10.382213, -11.362216, -12.296927, -13.1877365, -14.036938, -14.846245, -15.618463, -16.358624, -17.070982, -17.756115, -18.41406, -19.047337, -19.656622, -20.242088, -20.806042, -21.349533, -21.873327, -22.37832, -22.865347, -23.335333, -23.788296, -24.223198, -24.63636, -25.013435, -25.301182, -25.341927, -24.87892, -23.828997, -22.40531, -20.852873, -19.241037, -17.5153, -15.708665, -13.906633, -12.1324215, -10.384945, -8.663318, -6.995212, -5.437299, -4.5553837, -4.873548, -5.7747254, -6.378362, -6.8655925, -7.6727858, -8.671498, -9.702041, -10.70388, -11.661985, -12.575778, -13.447296, -14.282684, -15.083146, -15.846955, -16.57904, -17.281961, -17.95798, -18.60883, -19.233768, -19.834997, -20.414257, -20.972258, -21.510012, -22.027788, -22.52693, -23.008724, -23.473446, -23.921354, -24.35147, -24.759422, -25.129145, -25.40146, -25.405842, -24.885374, -23.784718, -22.334648, -20.772194, -19.150558, -17.416145, -15.605127, -13.8014555, -12.030435, -10.286434, -8.5689, -6.9065847, -5.3595157, -4.547847, -4.9362645, -5.831348, -6.4256444, -6.9292216, -7.756494, -8.763888, -9.794148, -10.793397, -11.748441, -12.659149, -13.527676, -14.355659, -15.148906, -15.9102955, -16.640142, -17.340912, -18.014864, -18.663525, -19.286356, -19.885756, -20.463257, -21.019562, -21.555443, -22.071407, -22.569044, -23.049383, -23.51269, -23.958727, -24.386879, -24.792854, -25.158728, -25.420752, -25.399773, -24.841568, -23.71099, -22.248373, -20.68416, -19.057068, -17.315504, -15.504604, -13.703385, -11.935473, -10.194716, -8.481014, -6.8173323, -5.2743325, -4.537303, -5.0005517, -5.8885636, -6.483227, -7.009723, -7.8506517, -8.864126, -9.8930645, -10.889231, -11.840894, -12.748265, -13.613573, -14.4384775, -15.228769, -15.987321, -16.714445, -17.4126, -18.084036, -18.730276, -19.350782, -19.947945, -20.52329, -21.076832, -21.610035, -22.12411, -22.619926, -23.098501, -23.560072, -24.00433, -24.430178, -24.832644, -25.19075, -25.430145, -25.354094, -24.718517, -23.530754, -22.046413, -20.481335, -18.841484, -17.08201, -15.271099, -13.472648, -11.699283, -9.956488, -8.2526, -6.6037884, -5.089437, -4.5119896, -5.1320906, -6.0045443, -6.5936985, -7.1781845, -8.059331, -9.081039, -10.105771, -11.094931, -12.039216, -12.939377, -13.797762, -14.616053, -15.396659, -16.145834, -16.866888, -17.559267, -18.224148, -18.864058, -19.47988, -20.07256, -20.64332, -21.192448, -21.72166, -22.231884, -22.72398, -23.198927, -23.656887, -24.097315, -24.518269, -24.911686, -25.245815, -25.414774, -25.183401, -24.358356, -23.049406, -21.52427, -19.963663, -18.309053, -16.517864, -14.706772, -12.922585, -11.166061, -9.432602, -7.7328095, -6.1111307, -4.7604346, -4.531771, -5.3730416, -6.18587, -6.738386, -7.4027805, -8.338467, -9.368264, -10.3868885, -11.366739, -12.3012905, -13.191941, -14.040991, -14.850153, -15.6222315, -16.36226, -17.07449, -17.7595, -18.417326, -19.05049, -19.659664, -20.245026, -20.808878, -21.35227, -21.875969, -22.380873, -22.867811, -23.337711, -23.790586, -24.22539, -24.638409, -25.015177, -25.302044, -25.340494, -24.873795, -23.8207, -22.395596, -20.842937, -19.230341, -17.503614, -15.696932, -13.895159, -12.121302, -10.374206, -8.653026, -6.985551, -5.4288087, -4.5546083, -4.880515, -5.7810407, -6.3807287, -6.867132, -7.676773, -8.676447, -9.707126, -10.708868, -11.666818, -12.580444, -13.4517975, -14.287025, -15.087332, -15.850992, -16.582935, -17.285719, -17.961607, -18.61233, -19.237146, -19.838257, -20.417404, -20.975296, -21.512945, -22.03062, -22.529665, -23.011366, -23.475998, -23.923819, -24.353851, -24.761723, -25.13137, -25.403593, -25.407827, -24.887125, -23.7862, -22.335909, -20.773281, -19.151638, -17.417305, -15.606285, -13.802586, -12.03153, -10.287494, -8.569917, -6.90754, -5.3603597, -4.547945, -4.9356203, -5.8307853, -6.4252334, -6.9288125, -7.756072, -8.763454, -9.793726, -10.79299, -11.748049, -12.658772, -13.527312, -14.355309, -15.148568, -15.90997, -16.639828, -17.34061, -18.014572, -18.663242, -19.286083, -19.885492, -20.463003, -21.019318, -21.555206, -22.07118, -22.568823, -23.049171, -23.512486, -23.95853, -24.386696, -24.792698, -25.158646, -25.420912, -25.400547, -24.84324, -23.713356, -22.251019, -20.686829, -19.059916, -17.318602, -15.507714, -13.706428, -11.938426, -10.197574, -8.483754, -6.8199024, -5.276587, -4.537601, -4.998912, -5.8871245, -6.4819655, -7.008128, -7.8488455, -8.862225, -9.891196, -10.887423, -11.83915, -12.746585, -13.611955, -14.436916, -15.227264, -15.985869, -16.713045, -17.41125, -18.082733, -18.72902, -19.34957, -19.946774, -20.52216, -21.07574, -21.608982, -22.12309, -22.618944, -23.097553, -23.559156, -24.00345, -24.429344, -24.831888, -25.1902, -25.43022, -25.355658, -24.722107, -23.535791, -22.051975, -20.486887, -18.847301, -17.088228, -15.277302, -13.4787035, -11.7051525, -9.962161, -8.258034, -6.608858, -5.093788, -4.512698, -5.129243, -6.002008, -6.591364, -7.174617, -8.054891, -9.076469, -10.101302, -11.090611, -12.035052, -12.935366, -13.793897, -14.612326, -15.3930645, -16.142366, -16.863544, -17.55604, -18.221035, -18.861053, -19.47698, -20.06976, -20.640617, -21.189838, -21.719141, -22.229452, -22.721632, -23.196661, -23.654703, -24.095222, -24.516296, -24.90996, -25.244766, -25.415709, -25.188406, -24.36786, -23.061491, -21.537092, -19.976238, -18.321802, -16.531094, -14.719853, -12.935323, -11.178401, -9.444478, -7.744096, -6.121505, -4.7656465, -4.5294538, -5.3679476, -6.182597, -6.7359085, -7.3986306, -8.333323, -9.362973, -10.381707, -11.361727, -12.296455, -13.187282, -14.036499, -14.845821, -15.618054, -16.35823, -17.070602, -17.755749, -18.413706, -19.046997, -19.656292, -20.241772, -20.805735, -21.349237, -21.873041, -22.378044, -22.86508, -23.335075, -23.788048, -24.22296, -24.636137, -25.013247, -25.301086, -25.342085, -24.879467, -23.829851, -22.406296, -20.853874, -19.242117, -17.516485, -15.709857, -13.9078, -12.1335535, -10.386039, -8.664366, -6.996197, -5.438168, -4.5554776, -4.8728614, -5.7741027, -6.3781333, -6.8654666, -7.6724415, -8.671064, -9.701593, -10.703442, -11.66156, -12.575367, -13.446899, -14.282302, -15.082777, -15.846599, -16.578697, -17.28163, -17.95766, -18.608522, -19.23347, -19.83471, -20.413979, -20.971989, -21.509752, -22.027538, -22.526688, -23.00849, -23.47322, -23.921137, -24.351261, -24.759218, -25.128946, -25.40126, -25.405638, -24.885166, -23.784508, -22.334442, -20.772007, -19.15037, -17.415943, -15.604926, -13.801259, -12.030244, -10.286249, -8.568723, -6.9064183, -5.3593698, -4.547828, -4.9363728, -5.831443, -6.425728, -6.929324, -7.756606, -8.764006, -9.794264, -10.793509, -11.748548, -12.659253, -13.527776, -14.355755, -15.148998, -15.910385, -16.640228, -17.340996, -18.014944, -18.663603, -19.28643, -19.885828, -20.463326, -21.01963, -21.555508, -22.07147, -22.569103, -23.049442, -23.512745, -23.95878, -24.38693, -24.7929, -25.158758, -25.42074, -25.399647, -24.841276, -23.710573, -22.247908, -20.683691, -19.056572, -17.314972, -15.504071, -13.702864, -11.934969, -10.194228, -8.480546, -6.816893, -5.2739496, -4.537256, -5.0008388, -5.888816, -6.4834514, -7.0100145, -7.8509874, -8.864481, -9.8934145, -10.889569, -11.841221, -12.74858, -13.613877, -14.43877, -15.229052, -15.987593, -16.714708, -17.412853, -18.08428, -18.730513, -19.351011, -19.948166, -20.523502, -21.077038, -21.610233, -22.1243, -22.620111, -23.098679, -23.560244, -24.004494, -24.430336, -24.832787, -25.190857, -25.43015, -25.353846, -24.717937, -23.529947, -22.04552, -20.480438, -18.840548, -17.081013, -15.270102, -13.471674, -11.6983385, -9.955575, -8.251725, -6.6029725, -5.088736, -4.5118723, -5.132546, -6.004951, -6.594061, -7.1787357, -8.060026, -9.081756, -10.106472, -11.095608, -12.039868, -12.940006, -13.798368, -14.616637, -15.3972225, -16.146378, -16.867413, -17.559772, -18.224636, -18.864529, -19.480335, -20.072998, -20.643745, -21.192858, -21.722055, -22.232265, -22.724348, -23.199282, -23.65723, -24.097643, -24.518578, -24.911959, -25.245981, -25.41463, -25.18264, -24.356905, -23.047548, -21.522308, -19.96175, -18.307117, -16.51586, -14.704788, -12.920653, -11.16419, -9.430801, -7.731098, -6.109558, -4.759649, -4.5321226, -5.373804, -6.186357, -6.738753, -7.4034, -8.339236, -9.369056, -10.387665, -11.36749, -12.302014, -13.192639, -14.041663, -14.850801, -15.622857, -16.362864, -17.075071, -17.760061, -18.417868, -19.051012, -19.66017, -20.245514, -20.809347, -21.352724, -21.876408, -22.381296, -22.86822, -23.338104, -23.790966, -24.225752, -24.63875, -25.015469, -25.302193, -25.340261, -24.872948, -23.819345, -22.394024, -20.841326, -19.228594, -17.501703, -15.695014, -13.893284, -12.119484, -10.372451, -8.651343, -6.9839725, -5.427423, -4.554484, -4.8816514, -5.782069, -6.38112, -6.8674035, -7.6774535, -8.677285, -9.707985, -10.70971, -11.667634, -12.581232, -13.452558, -14.287759, -15.088038, -15.851675, -16.583593, -17.286354, -17.96222, -18.61292, -19.237717, -19.838808, -20.417936, -20.97581, -21.513441, -22.0311, -22.530127, -23.011812, -23.476427, -23.924234, -24.354254, -24.762112, -25.131742, -25.403948, -25.408146, -24.88739, -23.78641, -22.33607, -20.773407, -19.151749, -17.41742, -15.606399, -13.802696, -12.031637, -10.287598, -8.570016, -6.9076333, -5.3604407, -4.5479493, -4.935548, -5.8307233, -6.425209, -6.92881, -7.756075, -8.763459, -9.793731, -10.792995, -11.748054, -12.658778, -13.527318, -14.355313, -15.148573, -15.909975, -16.639833, -17.340614, -18.014576, -18.663248, -19.286087, -19.885496, -20.463005, -21.019321, -21.55521, -22.071182, -22.568827, -23.049173, -23.512487, -23.958534, -24.3867, -24.792702, -25.158655, -25.420937, -25.400616, -24.843374, -23.71354, -22.251219, -20.687021, -19.060118, -17.318825, -15.507937, -13.706647, -11.938639, -10.19778, -8.4839525, -6.8200884, -5.27675, -4.5376234, -4.9987917, -5.88702, -6.4818945, -7.0080566, -7.8487663, -8.862142, -9.891114, -10.887343, -11.839075, -12.746512, -13.611884, -14.436849, -15.2272, -15.985806, -16.712984, -17.41119, -18.082676, -18.728964, -19.349516, -19.946722, -20.52211, -21.075693, -21.608934, -22.123047, -22.6189, -23.097511, -23.559116, -24.003412, -24.429308, -24.831858, -25.19018, -25.430237, -25.355772, -24.72234, -23.536095, -22.052298, -20.487207, -18.847641, -17.088593, -15.277667, -13.479061, -11.705499, -9.962497, -8.258355, -6.609159, -5.0940495, -4.5127473, -5.1290793, -6.0018563, -6.5912333, -7.1744385, -8.054674, -9.076248]\n"
          ]
        },
        {
          "data": {
            "image/png": "[encoded data removed]",
            "text/plain": [
              "<Figure size 720x360 with 1 Axes>"
            ]
          },
          "metadata": {
            "needs_background": "dark"
          },
          "output_type": "display_data"
        }
      ],
      "source": [
        "import numpy as np\n",
        "import torch as th\n",
        "import time\n",
        "\n",
        "MODEL_PATH = f\"models/sac16x16current-checkpoint/model.zip\"\n",
        "\n",
        "# Create and wrap the environment\n",
        "env = BobinaEnv(duration = 4)\n",
        "\n",
        "# Load the trained agent\n",
        "model = SAC.load(MODEL_PATH, env=env, learning_rate = 0.00001)\n",
        "\n",
        "# Evaluate the agent\n",
        "for i in range(1):\n",
        "    obs, seed = env.reset()\n",
        "    done = False\n",
        "    episode_reward = 0\n",
        "    velocidad = 0\n",
        "    current = 0\n",
        "    observations = []\n",
        "    noises = []\n",
        "    error = obs -19.5\n",
        "    timepredict = 0\n",
        "    timemodel = 0\n",
        "    obs, vel, current = obs\n",
        "    while not done:\n",
        "        #noise = random.uniform(-1, 1)\n",
        "        #obs = obs + noise\n",
        "        observations.append(obs)\n",
        "        #noises.append(noise)\n",
        "        t1 = time.time()\n",
        "        action, _states = model.predict(np.array([obs, vel, current]), deterministic=True)\n",
        "        t2 = time.time()\n",
        "        #print(action)\n",
        "        #if env.airgap > 10.1: action = max(action, [-50])\n",
        "        #print(action)\n",
        "        t3 = time.time()\n",
        "        state, reward, terminated, truncated, info = env.step(np.array(action))\n",
        "        t4 = time.time()\n",
        "        obs, vel, current = state\n",
        "        done = truncated or terminated\n",
        "        episode_reward += reward\n",
        "        timepredict += t2 - t1\n",
        "        timemodel += t4 - t3\n",
        "        noises.append(current)\n",
        "    print(\"Time predict\", timepredict)\n",
        "    print(\"Time model\", timemodel)\n",
        "    print(\"Episode reward\", episode_reward)\n",
        "    print(noises)\n",
        "    env.render(\"yes\")"
      ]
    },
    {
      "cell_type": "code",
      "execution_count": 96,
      "metadata": {},
      "outputs": [
        {
          "name": "stdout",
          "output_type": "stream",
          "text": [
            "============== Diagnostic Run torch.onnx.export version 2.0.0+cpu ==============\n",
            "verbose: False, log level: Level.ERROR\n",
            "======================= 0 NONE 0 NOTE 0 WARNING 0 ERROR ========================\n",
            "\n"
          ]
        }
      ],
      "source": [
        "import torch as th\n",
        "\n",
        "from stable_baselines3 import SAC\n",
        "\n",
        "#import onnx\n",
        "import onnxruntime as ort\n",
        "import numpy as np\n",
        "\n",
        "\n",
        "class OnnxablePolicy(th.nn.Module):\n",
        "    def __init__(self, actor: th.nn.Module):\n",
        "        super().__init__()\n",
        "        # Removing the flatten layer because it can't be onnxed\n",
        "        self.actor = th.nn.Sequential(\n",
        "            actor.latent_pi,\n",
        "            actor.mu,\n",
        "            # For gSDE\n",
        "            # th.nn.Hardtanh(min_val=-actor.clip_mean, max_val=actor.clip_mean),\n",
        "            # Squash the output\n",
        "            th.nn.Tanh(),\n",
        "        )\n",
        "\n",
        "    def forward(self, observation: th.Tensor) -> th.Tensor:\n",
        "        # NOTE: You may have to process (normalize) observation in the correct\n",
        "        #       way before using this. See `common.preprocessing.preprocess_obs`\n",
        "        return self.actor(observation)\n",
        "\n",
        "\n",
        "# Example: model = SAC(\"MlpPolicy\", \"Pendulum-v1\")\n",
        "model = SAC.load(f\"models/{run.id}/model.zip\", device=\"cpu\")\n",
        "onnxable_model = OnnxablePolicy(model.policy.actor)\n",
        "\n",
        "observation_size = model.observation_space.shape\n",
        "dummy_input = th.randn(1, *observation_size)\n",
        "th.onnx.export(\n",
        "    onnxable_model,\n",
        "    dummy_input,\n",
        "    \"1gdlComplex8x8.onnx\",\n",
        "    opset_version=9,\n",
        "    input_names=[\"input\"],\n",
        ")\n",
        "\n",
        "##### Load and test with onnx\n",
        "\n",
        "import onnxruntime as ort\n",
        "import numpy as np\n",
        "\n",
        "onnx_path = \"1gdlComplex8x8.onnx\"\n",
        "\n",
        "observation = np.zeros((1, *observation_size)).astype(np.float32)\n",
        "ort_sess = ort.InferenceSession(onnx_path)\n",
        "action = ort_sess.run(None, {\"input\": observation})"
      ]
    },
    {
      "cell_type": "code",
      "execution_count": 12,
      "metadata": {},
      "outputs": [
        {
          "data": {
            "text/plain": [
              "SACPolicy(\n",
              "  (actor): Actor(\n",
              "    (features_extractor): FlattenExtractor(\n",
              "      (flatten): Flatten(start_dim=1, end_dim=-1)\n",
              "    )\n",
              "    (latent_pi): Sequential(\n",
              "      (0): Linear(in_features=4, out_features=8, bias=True)\n",
              "      (1): ReLU()\n",
              "      (2): Linear(in_features=8, out_features=8, bias=True)\n",
              "      (3): ReLU()\n",
              "    )\n",
              "    (mu): Linear(in_features=8, out_features=1, bias=True)\n",
              "    (log_std): Linear(in_features=8, out_features=1, bias=True)\n",
              "  )\n",
              "  (critic): ContinuousCritic(\n",
              "    (features_extractor): FlattenExtractor(\n",
              "      (flatten): Flatten(start_dim=1, end_dim=-1)\n",
              "    )\n",
              "    (qf0): Sequential(\n",
              "      (0): Linear(in_features=5, out_features=256, bias=True)\n",
              "      (1): ReLU()\n",
              "      (2): Linear(in_features=256, out_features=256, bias=True)\n",
              "      (3): ReLU()\n",
              "      (4): Linear(in_features=256, out_features=1, bias=True)\n",
              "    )\n",
              "    (qf1): Sequential(\n",
              "      (0): Linear(in_features=5, out_features=256, bias=True)\n",
              "      (1): ReLU()\n",
              "      (2): Linear(in_features=256, out_features=256, bias=True)\n",
              "      (3): ReLU()\n",
              "      (4): Linear(in_features=256, out_features=1, bias=True)\n",
              "    )\n",
              "  )\n",
              "  (critic_target): ContinuousCritic(\n",
              "    (features_extractor): FlattenExtractor(\n",
              "      (flatten): Flatten(start_dim=1, end_dim=-1)\n",
              "    )\n",
              "    (qf0): Sequential(\n",
              "      (0): Linear(in_features=5, out_features=256, bias=True)\n",
              "      (1): ReLU()\n",
              "      (2): Linear(in_features=256, out_features=256, bias=True)\n",
              "      (3): ReLU()\n",
              "      (4): Linear(in_features=256, out_features=1, bias=True)\n",
              "    )\n",
              "    (qf1): Sequential(\n",
              "      (0): Linear(in_features=5, out_features=256, bias=True)\n",
              "      (1): ReLU()\n",
              "      (2): Linear(in_features=256, out_features=256, bias=True)\n",
              "      (3): ReLU()\n",
              "      (4): Linear(in_features=256, out_features=1, bias=True)\n",
              "    )\n",
              "  )\n",
              ")"
            ]
          },
          "execution_count": 12,
          "metadata": {},
          "output_type": "execute_result"
        }
      ],
      "source": [
        "model.policy"
      ]
    },
    {
      "cell_type": "code",
      "execution_count": null,
      "metadata": {},
      "outputs": [],
      "source": [
        "# See \"ONNX export\" for imports and OnnxablePolicy\n",
        "jit_path = \"1gdlComplex.pt\"\n",
        "\n",
        "# Trace and optimize the module\n",
        "traced_module = th.jit.trace(onnxable_model.eval(), dummy_input)\n",
        "frozen_module = th.jit.freeze(traced_module)\n",
        "frozen_module = th.jit.optimize_for_inference(frozen_module)\n",
        "th.jit.save(frozen_module, jit_path)\n",
        "\n",
        "##### Load and test with torch\n",
        "\n",
        "import torch as th\n",
        "\n",
        "dummy_input = th.randn(1, *observation_size)\n",
        "loaded_module = th.jit.load(jit_path)\n",
        "action_jit = loaded_module(dummy_input)"
      ]
    }
  ],
  "metadata": {
    "accelerator": "GPU",
    "colab": {
      "gpuType": "T4",
      "provenance": []
    },
    "kernelspec": {
      "display_name": "Python 3",
      "name": "python3"
    },
    "language_info": {
      "codemirror_mode": {
        "name": "ipython",
        "version": 3
      },
      "file_extension": ".py",
      "mimetype": "text/x-python",
      "name": "python",
      "nbconvert_exporter": "python",
      "pygments_lexer": "ipython3",
      "version": "3.9.13"
    }
  },
  "nbformat": 4,
  "nbformat_minor": 0
}
